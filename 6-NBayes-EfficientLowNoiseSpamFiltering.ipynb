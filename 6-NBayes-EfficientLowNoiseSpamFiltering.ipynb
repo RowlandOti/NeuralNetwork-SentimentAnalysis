{
 "cells": [
  {
   "cell_type": "markdown",
   "metadata": {},
   "source": [
    "## Efficient Low Noise Naive Bayes"
   ]
  },
  {
   "cell_type": "code",
   "execution_count": 99,
   "metadata": {
    "collapsed": false
   },
   "outputs": [],
   "source": [
    "%matplotlib inline\n",
    "%config InlineBackend.figure_format = 'retina'\n",
    "\n",
    "from sklearn import preprocessing\n",
    "import matplotlib.pyplot as plt\n",
    "import numpy as np\n",
    "import pandas as pd\n",
    "from collections import Counter\n",
    "from IPython.display import Image\n",
    "from itertools import dropwhile\n",
    "from sklearn import metrics\n",
    "import pprint as pp\n",
    "import random\n",
    "import time\n",
    "import sys\n",
    "import os\n",
    "try:\n",
    "   import cPickle as cPickle\n",
    "except:\n",
    "   import pickle as cPickle"
   ]
  },
  {
   "cell_type": "markdown",
   "metadata": {},
   "source": [
    "### Load data"
   ]
  },
  {
   "cell_type": "code",
   "execution_count": 100,
   "metadata": {
    "collapsed": false
   },
   "outputs": [],
   "source": [
    "data = pd.read_csv('dataset/spam.csv', encoding='latin-1')"
   ]
  },
  {
   "cell_type": "code",
   "execution_count": 101,
   "metadata": {
    "collapsed": false
   },
   "outputs": [
    {
     "data": {
      "text/html": [
       "<div>\n",
       "<table border=\"1\" class=\"dataframe\">\n",
       "  <thead>\n",
       "    <tr style=\"text-align: right;\">\n",
       "      <th></th>\n",
       "      <th>v1</th>\n",
       "      <th>v2</th>\n",
       "      <th>Unnamed: 2</th>\n",
       "      <th>Unnamed: 3</th>\n",
       "      <th>Unnamed: 4</th>\n",
       "    </tr>\n",
       "  </thead>\n",
       "  <tbody>\n",
       "    <tr>\n",
       "      <th>0</th>\n",
       "      <td>ham</td>\n",
       "      <td>Go until jurong point, crazy.. Available only ...</td>\n",
       "      <td>NaN</td>\n",
       "      <td>NaN</td>\n",
       "      <td>NaN</td>\n",
       "    </tr>\n",
       "    <tr>\n",
       "      <th>1</th>\n",
       "      <td>ham</td>\n",
       "      <td>Ok lar... Joking wif u oni...</td>\n",
       "      <td>NaN</td>\n",
       "      <td>NaN</td>\n",
       "      <td>NaN</td>\n",
       "    </tr>\n",
       "    <tr>\n",
       "      <th>2</th>\n",
       "      <td>spam</td>\n",
       "      <td>Free entry in 2 a wkly comp to win FA Cup fina...</td>\n",
       "      <td>NaN</td>\n",
       "      <td>NaN</td>\n",
       "      <td>NaN</td>\n",
       "    </tr>\n",
       "    <tr>\n",
       "      <th>3</th>\n",
       "      <td>ham</td>\n",
       "      <td>U dun say so early hor... U c already then say...</td>\n",
       "      <td>NaN</td>\n",
       "      <td>NaN</td>\n",
       "      <td>NaN</td>\n",
       "    </tr>\n",
       "    <tr>\n",
       "      <th>4</th>\n",
       "      <td>ham</td>\n",
       "      <td>Nah I don't think he goes to usf, he lives aro...</td>\n",
       "      <td>NaN</td>\n",
       "      <td>NaN</td>\n",
       "      <td>NaN</td>\n",
       "    </tr>\n",
       "  </tbody>\n",
       "</table>\n",
       "</div>"
      ],
      "text/plain": [
       "     v1                                                 v2 Unnamed: 2  \\\n",
       "0   ham  Go until jurong point, crazy.. Available only ...        NaN   \n",
       "1   ham                      Ok lar... Joking wif u oni...        NaN   \n",
       "2  spam  Free entry in 2 a wkly comp to win FA Cup fina...        NaN   \n",
       "3   ham  U dun say so early hor... U c already then say...        NaN   \n",
       "4   ham  Nah I don't think he goes to usf, he lives aro...        NaN   \n",
       "\n",
       "  Unnamed: 3 Unnamed: 4  \n",
       "0        NaN        NaN  \n",
       "1        NaN        NaN  \n",
       "2        NaN        NaN  \n",
       "3        NaN        NaN  \n",
       "4        NaN        NaN  "
      ]
     },
     "execution_count": 101,
     "metadata": {},
     "output_type": "execute_result"
    }
   ],
   "source": [
    "data.head()"
   ]
  },
  {
   "cell_type": "code",
   "execution_count": 137,
   "metadata": {
    "collapsed": false
   },
   "outputs": [],
   "source": [
    "# Drop some unwanted columns that do not provide insight\n",
    "#data_modified = data.drop([\"Unnamed: 2\", \"Unnamed: 3\", \"Unnamed: 4\"], axis=1)\n",
    "data_modified = data.loc[:, ~data.columns.str.contains('^Unnamed')]"
   ]
  },
  {
   "cell_type": "code",
   "execution_count": 138,
   "metadata": {
    "collapsed": false
   },
   "outputs": [
    {
     "data": {
      "text/html": [
       "<div>\n",
       "<table border=\"1\" class=\"dataframe\">\n",
       "  <thead>\n",
       "    <tr style=\"text-align: right;\">\n",
       "      <th></th>\n",
       "      <th>Label</th>\n",
       "      <th>Text</th>\n",
       "    </tr>\n",
       "  </thead>\n",
       "  <tbody>\n",
       "    <tr>\n",
       "      <th>5567</th>\n",
       "      <td>SPAM</td>\n",
       "      <td>This is the 2nd time we have tried 2 contact u...</td>\n",
       "    </tr>\n",
       "    <tr>\n",
       "      <th>5568</th>\n",
       "      <td>HAM</td>\n",
       "      <td>Will Ì_ b going to esplanade fr home?</td>\n",
       "    </tr>\n",
       "    <tr>\n",
       "      <th>5569</th>\n",
       "      <td>HAM</td>\n",
       "      <td>Pity, * was in mood for that. So...any other s...</td>\n",
       "    </tr>\n",
       "    <tr>\n",
       "      <th>5570</th>\n",
       "      <td>HAM</td>\n",
       "      <td>The guy did some bitching but I acted like i'd...</td>\n",
       "    </tr>\n",
       "    <tr>\n",
       "      <th>5571</th>\n",
       "      <td>HAM</td>\n",
       "      <td>Rofl. Its true to its name</td>\n",
       "    </tr>\n",
       "  </tbody>\n",
       "</table>\n",
       "</div>"
      ],
      "text/plain": [
       "     Label                                               Text\n",
       "5567  SPAM  This is the 2nd time we have tried 2 contact u...\n",
       "5568   HAM              Will Ì_ b going to esplanade fr home?\n",
       "5569   HAM  Pity, * was in mood for that. So...any other s...\n",
       "5570   HAM  The guy did some bitching but I acted like i'd...\n",
       "5571   HAM                         Rofl. Its true to its name"
      ]
     },
     "execution_count": 138,
     "metadata": {},
     "output_type": "execute_result"
    }
   ],
   "source": [
    "data_modified = data_modified.rename(columns={\"v1\":\"Label\", \"v2\":\"Text\"})\n",
    "data_modified.loc[(data_modified.Label == \"spam\") , 'Label'] = \"SPAM\"\n",
    "data_modified.loc[(data_modified.Label == \"ham\") , 'Label'] = \"HAM\"\n",
    "# Show last 5 in dataset\n",
    "data_modified.tail(5)"
   ]
  },
  {
   "cell_type": "code",
   "execution_count": 139,
   "metadata": {
    "collapsed": false
   },
   "outputs": [
    {
     "data": {
      "text/plain": [
       "HAM     4825\n",
       "SPAM     747\n",
       "Name: Label, dtype: int64"
      ]
     },
     "execution_count": 139,
     "metadata": {},
     "output_type": "execute_result"
    }
   ],
   "source": [
    "data_modified.Label.value_counts()"
   ]
  },
  {
   "cell_type": "markdown",
   "metadata": {},
   "source": [
    "### Data Preparation"
   ]
  },
  {
   "cell_type": "markdown",
   "metadata": {},
   "source": [
    "Training Data"
   ]
  },
  {
   "cell_type": "code",
   "execution_count": 1,
   "metadata": {
    "collapsed": false,
    "scrolled": true
   },
   "outputs": [
    {
     "ename": "NameError",
     "evalue": "name 'data_modified' is not defined",
     "output_type": "error",
     "traceback": [
      "\u001b[0;31m---------------------------------------------------------------------------\u001b[0m",
      "\u001b[0;31mNameError\u001b[0m                                 Traceback (most recent call last)",
      "\u001b[0;32m<ipython-input-1-a6d15a2579fb>\u001b[0m in \u001b[0;36m<module>\u001b[0;34m()\u001b[0m\n\u001b[1;32m      1\u001b[0m \u001b[1;31m# first 4500 reviews\u001b[0m\u001b[1;33m\u001b[0m\u001b[1;33m\u001b[0m\u001b[0m\n\u001b[0;32m----> 2\u001b[0;31m \u001b[0mtraining_data\u001b[0m \u001b[1;33m=\u001b[0m \u001b[0mdata_modified\u001b[0m\u001b[1;33m[\u001b[0m\u001b[1;36m4500\u001b[0m\u001b[1;33m:\u001b[0m\u001b[1;36m4972\u001b[0m\u001b[1;33m]\u001b[0m\u001b[1;33m.\u001b[0m\u001b[0mreset_index\u001b[0m\u001b[1;33m(\u001b[0m\u001b[0mdrop\u001b[0m\u001b[1;33m=\u001b[0m\u001b[1;32mTrue\u001b[0m\u001b[1;33m)\u001b[0m\u001b[1;33m\u001b[0m\u001b[0m\n\u001b[0m\u001b[1;32m      3\u001b[0m \u001b[0mtraining_data_length\u001b[0m \u001b[1;33m=\u001b[0m \u001b[0mtraining_data\u001b[0m\u001b[1;33m.\u001b[0m\u001b[0mshape\u001b[0m\u001b[1;33m[\u001b[0m\u001b[1;36m0\u001b[0m\u001b[1;33m]\u001b[0m\u001b[1;33m\u001b[0m\u001b[0m\n\u001b[1;32m      4\u001b[0m \u001b[0mtraining_data\u001b[0m\u001b[1;33m.\u001b[0m\u001b[0mhead\u001b[0m\u001b[1;33m(\u001b[0m\u001b[1;33m)\u001b[0m\u001b[1;33m\u001b[0m\u001b[0m\n",
      "\u001b[0;31mNameError\u001b[0m: name 'data_modified' is not defined"
     ]
    }
   ],
   "source": [
    "# first 4500 reviews\n",
    "training_data = data_modified[4500:4972].reset_index(drop=True)\n",
    "training_data_length = training_data.shape[0]\n",
    "training_data.head()"
   ]
  },
  {
   "cell_type": "code",
   "execution_count": 141,
   "metadata": {
    "collapsed": false
   },
   "outputs": [
    {
     "data": {
      "text/plain": [
       "HAM     3893\n",
       "SPAM     607\n",
       "Name: Label, dtype: int64"
      ]
     },
     "execution_count": 141,
     "metadata": {},
     "output_type": "execute_result"
    }
   ],
   "source": [
    "training_data.Label.value_counts()"
   ]
  },
  {
   "cell_type": "markdown",
   "metadata": {},
   "source": [
    "Shape of training data"
   ]
  },
  {
   "cell_type": "code",
   "execution_count": 142,
   "metadata": {
    "collapsed": false
   },
   "outputs": [
    {
     "name": "stdout",
     "output_type": "stream",
     "text": [
      "(4500, 2)\n",
      "(4500,)\n"
     ]
    }
   ],
   "source": [
    "pp.pprint(training_data.shape)\n",
    "pp.pprint(training_data.Label.shape)"
   ]
  },
  {
   "cell_type": "markdown",
   "metadata": {},
   "source": [
    "Validation Data"
   ]
  },
  {
   "cell_type": "code",
   "execution_count": 143,
   "metadata": {
    "collapsed": false
   },
   "outputs": [
    {
     "data": {
      "text/html": [
       "<div>\n",
       "<table border=\"1\" class=\"dataframe\">\n",
       "  <thead>\n",
       "    <tr style=\"text-align: right;\">\n",
       "      <th></th>\n",
       "      <th>Label</th>\n",
       "      <th>Text</th>\n",
       "    </tr>\n",
       "  </thead>\n",
       "  <tbody>\n",
       "    <tr>\n",
       "      <th>0</th>\n",
       "      <td>HAM</td>\n",
       "      <td>So wat's da decision?</td>\n",
       "    </tr>\n",
       "    <tr>\n",
       "      <th>1</th>\n",
       "      <td>HAM</td>\n",
       "      <td>Wot is u up 2 then bitch?</td>\n",
       "    </tr>\n",
       "    <tr>\n",
       "      <th>2</th>\n",
       "      <td>HAM</td>\n",
       "      <td>Stupid.its not possible</td>\n",
       "    </tr>\n",
       "    <tr>\n",
       "      <th>3</th>\n",
       "      <td>HAM</td>\n",
       "      <td>She told to hr that he want posting in chennai...</td>\n",
       "    </tr>\n",
       "    <tr>\n",
       "      <th>4</th>\n",
       "      <td>SPAM</td>\n",
       "      <td>Mobile Club: Choose any of the top quality ite...</td>\n",
       "    </tr>\n",
       "  </tbody>\n",
       "</table>\n",
       "</div>"
      ],
      "text/plain": [
       "  Label                                               Text\n",
       "0   HAM                              So wat's da decision?\n",
       "1   HAM                          Wot is u up 2 then bitch?\n",
       "2   HAM                            Stupid.its not possible\n",
       "3   HAM  She told to hr that he want posting in chennai...\n",
       "4  SPAM  Mobile Club: Choose any of the top quality ite..."
      ]
     },
     "execution_count": 143,
     "metadata": {},
     "output_type": "execute_result"
    }
   ],
   "source": [
    "# middle 972 reviews\n",
    "validation_data = data_modified[4500:4972].reset_index(drop=True)\n",
    "validation_data_length = validation_data.shape[0]\n",
    "validation_data.head()"
   ]
  },
  {
   "cell_type": "code",
   "execution_count": 144,
   "metadata": {
    "collapsed": false
   },
   "outputs": [
    {
     "data": {
      "text/plain": [
       "HAM     408\n",
       "SPAM     64\n",
       "Name: Label, dtype: int64"
      ]
     },
     "execution_count": 144,
     "metadata": {},
     "output_type": "execute_result"
    }
   ],
   "source": [
    "validation_data.Label.value_counts()"
   ]
  },
  {
   "cell_type": "markdown",
   "metadata": {},
   "source": [
    "Shape of validation data"
   ]
  },
  {
   "cell_type": "code",
   "execution_count": 145,
   "metadata": {
    "collapsed": false
   },
   "outputs": [
    {
     "name": "stdout",
     "output_type": "stream",
     "text": [
      "(472, 2)\n",
      "(472,)\n"
     ]
    }
   ],
   "source": [
    "pp.pprint(validation_data.shape)\n",
    "pp.pprint(validation_data.Label.shape)"
   ]
  },
  {
   "cell_type": "markdown",
   "metadata": {},
   "source": [
    "Testing data"
   ]
  },
  {
   "cell_type": "code",
   "execution_count": 146,
   "metadata": {
    "collapsed": false
   },
   "outputs": [
    {
     "data": {
      "text/html": [
       "<div>\n",
       "<table border=\"1\" class=\"dataframe\">\n",
       "  <thead>\n",
       "    <tr style=\"text-align: right;\">\n",
       "      <th></th>\n",
       "      <th>Label</th>\n",
       "      <th>Text</th>\n",
       "    </tr>\n",
       "  </thead>\n",
       "  <tbody>\n",
       "    <tr>\n",
       "      <th>0</th>\n",
       "      <td>HAM</td>\n",
       "      <td>Oops I was in the shower when u called. Hey a ...</td>\n",
       "    </tr>\n",
       "    <tr>\n",
       "      <th>1</th>\n",
       "      <td>HAM</td>\n",
       "      <td>Aiyo u so poor thing... Then u dun wan 2 eat? ...</td>\n",
       "    </tr>\n",
       "    <tr>\n",
       "      <th>2</th>\n",
       "      <td>HAM</td>\n",
       "      <td>Yar... I tot u knew dis would happen long ago ...</td>\n",
       "    </tr>\n",
       "    <tr>\n",
       "      <th>3</th>\n",
       "      <td>HAM</td>\n",
       "      <td>You are gorgeous! keep those pix cumming :) th...</td>\n",
       "    </tr>\n",
       "    <tr>\n",
       "      <th>4</th>\n",
       "      <td>HAM</td>\n",
       "      <td>A boy was late 2 home. His father: \\POWER OF F...</td>\n",
       "    </tr>\n",
       "  </tbody>\n",
       "</table>\n",
       "</div>"
      ],
      "text/plain": [
       "  Label                                               Text\n",
       "0   HAM  Oops I was in the shower when u called. Hey a ...\n",
       "1   HAM  Aiyo u so poor thing... Then u dun wan 2 eat? ...\n",
       "2   HAM  Yar... I tot u knew dis would happen long ago ...\n",
       "3   HAM  You are gorgeous! keep those pix cumming :) th...\n",
       "4   HAM  A boy was late 2 home. His father: \\POWER OF F..."
      ]
     },
     "execution_count": 146,
     "metadata": {},
     "output_type": "execute_result"
    }
   ],
   "source": [
    "# last 600 reviews\n",
    "test_data = data_modified[4972:5572].reset_index(drop=True)\n",
    "test_data_length = test_data.shape[0]\n",
    "test_data.head()"
   ]
  },
  {
   "cell_type": "code",
   "execution_count": 147,
   "metadata": {
    "collapsed": false
   },
   "outputs": [
    {
     "data": {
      "text/plain": [
       "HAM     524\n",
       "SPAM     76\n",
       "Name: Label, dtype: int64"
      ]
     },
     "execution_count": 147,
     "metadata": {},
     "output_type": "execute_result"
    }
   ],
   "source": [
    "test_data.Label.value_counts()"
   ]
  },
  {
   "cell_type": "markdown",
   "metadata": {},
   "source": [
    "Shape of Testing data"
   ]
  },
  {
   "cell_type": "code",
   "execution_count": 148,
   "metadata": {
    "collapsed": false
   },
   "outputs": [
    {
     "name": "stdout",
     "output_type": "stream",
     "text": [
      "(600, 2)\n",
      "(600,)\n"
     ]
    }
   ],
   "source": [
    "pp.pprint(test_data.shape)\n",
    "pp.pprint(test_data.Label.shape)"
   ]
  },
  {
   "cell_type": "markdown",
   "metadata": {},
   "source": [
    "### Building the Naive Bayes Classifier"
   ]
  },
  {
   "cell_type": "markdown",
   "metadata": {},
   "source": [
    "### Calculate the Priors"
   ]
  },
  {
   "cell_type": "markdown",
   "metadata": {},
   "source": [
    "These are simply the propbability of text having \"POSITIVE\" or \"NEGATIVE\" sentiment"
   ]
  },
  {
   "cell_type": "code",
   "execution_count": 149,
   "metadata": {
    "collapsed": true
   },
   "outputs": [],
   "source": [
    "# total positive reviews in training set\n",
    "r_spam = training_data.Label[training_data.Label == \"SPAM\"].count()\n",
    "# total negative reviews in training set\n",
    "r_ham = training_data.Label[training_data.Label == \"HAM\"].count()\n",
    "# total reviews in training set\n",
    "r_total = training_data.Label.count()"
   ]
  },
  {
   "cell_type": "code",
   "execution_count": 150,
   "metadata": {
    "collapsed": false
   },
   "outputs": [
    {
     "data": {
      "text/plain": [
       "607"
      ]
     },
     "execution_count": 150,
     "metadata": {},
     "output_type": "execute_result"
    }
   ],
   "source": [
    "r_spam"
   ]
  },
  {
   "cell_type": "code",
   "execution_count": 151,
   "metadata": {
    "collapsed": false
   },
   "outputs": [
    {
     "data": {
      "text/plain": [
       "3893"
      ]
     },
     "execution_count": 151,
     "metadata": {},
     "output_type": "execute_result"
    }
   ],
   "source": [
    "r_ham"
   ]
  },
  {
   "cell_type": "code",
   "execution_count": 152,
   "metadata": {
    "collapsed": false
   },
   "outputs": [
    {
     "data": {
      "text/plain": [
       "4500"
      ]
     },
     "execution_count": 152,
     "metadata": {},
     "output_type": "execute_result"
    }
   ],
   "source": [
    "r_total"
   ]
  },
  {
   "cell_type": "code",
   "execution_count": 153,
   "metadata": {
    "collapsed": false
   },
   "outputs": [
    {
     "data": {
      "text/html": [
       "<div>\n",
       "<table border=\"1\" class=\"dataframe\">\n",
       "  <thead>\n",
       "    <tr style=\"text-align: right;\">\n",
       "      <th></th>\n",
       "      <th>Label</th>\n",
       "      <th>Text</th>\n",
       "    </tr>\n",
       "  </thead>\n",
       "  <tbody>\n",
       "    <tr>\n",
       "      <th>0</th>\n",
       "      <td>HAM</td>\n",
       "      <td>Go until jurong point, crazy.. Available only ...</td>\n",
       "    </tr>\n",
       "    <tr>\n",
       "      <th>1</th>\n",
       "      <td>HAM</td>\n",
       "      <td>Ok lar... Joking wif u oni...</td>\n",
       "    </tr>\n",
       "    <tr>\n",
       "      <th>2</th>\n",
       "      <td>SPAM</td>\n",
       "      <td>Free entry in 2 a wkly comp to win FA Cup fina...</td>\n",
       "    </tr>\n",
       "    <tr>\n",
       "      <th>3</th>\n",
       "      <td>HAM</td>\n",
       "      <td>U dun say so early hor... U c already then say...</td>\n",
       "    </tr>\n",
       "    <tr>\n",
       "      <th>4</th>\n",
       "      <td>HAM</td>\n",
       "      <td>Nah I don't think he goes to usf, he lives aro...</td>\n",
       "    </tr>\n",
       "  </tbody>\n",
       "</table>\n",
       "</div>"
      ],
      "text/plain": [
       "  Label                                               Text\n",
       "0   HAM  Go until jurong point, crazy.. Available only ...\n",
       "1   HAM                      Ok lar... Joking wif u oni...\n",
       "2  SPAM  Free entry in 2 a wkly comp to win FA Cup fina...\n",
       "3   HAM  U dun say so early hor... U c already then say...\n",
       "4   HAM  Nah I don't think he goes to usf, he lives aro..."
      ]
     },
     "execution_count": 153,
     "metadata": {},
     "output_type": "execute_result"
    }
   ],
   "source": [
    "# Drop some unwanted columns that do not provide insight\n",
    "training_data.head()"
   ]
  },
  {
   "cell_type": "code",
   "execution_count": 154,
   "metadata": {
    "collapsed": false
   },
   "outputs": [],
   "source": [
    "# r_positive/r_total\n",
    "r_spam = r_spam/r_total\n",
    "# r_negative/r_total\n",
    "r_ham = r_ham/r_total"
   ]
  },
  {
   "cell_type": "markdown",
   "metadata": {},
   "source": [
    "### Calculate the Likelihood"
   ]
  },
  {
   "cell_type": "code",
   "execution_count": 157,
   "metadata": {
    "collapsed": false
   },
   "outputs": [
    {
     "data": {
      "text/plain": [
       "array(['HAM', 'A boy was late 2 home. His father: \\\\POWER OF FRNDSHIP\\\\\"\"'], dtype=object)"
      ]
     },
     "execution_count": 157,
     "metadata": {},
     "output_type": "execute_result"
    }
   ],
   "source": [
    "training_array = training_data.values\n",
    "test_array = test_data.values\n",
    "validation_array = validation_data.values\n",
    "test_array[4]"
   ]
  },
  {
   "cell_type": "code",
   "execution_count": 158,
   "metadata": {
    "collapsed": false
   },
   "outputs": [
    {
     "data": {
      "text/plain": [
       "array([ 'Go until jurong point, crazy.. Available only in bugis n great world la e buffet... Cine there got amore wat...',\n",
       "       'Ok lar... Joking wif u oni...',\n",
       "       \"Free entry in 2 a wkly comp to win FA Cup final tkts 21st May 2005. Text FA to 87121 to receive entry question(std txt rate)T&C's apply 08452810075over18's\",\n",
       "       ...,\n",
       "       'Latest Nokia Mobile or iPOD MP3 Player +å£400 proze GUARANTEED! Reply with: WIN to 83355 now! Norcorp Ltd.å£1,50/Mtmsgrcvd18+',\n",
       "       'SMS SERVICES. for your inclusive text credits, pls goto www.comuk.net login= 3qxj9 unsubscribe with STOP, no extra charge. help 08702840625.COMUK. 220-CM2 9AE',\n",
       "       'Nvm take ur time.'], dtype=object)"
      ]
     },
     "execution_count": 158,
     "metadata": {},
     "output_type": "execute_result"
    }
   ],
   "source": [
    "np.unique(training_array[1][1])\n",
    "training_array[:,1]"
   ]
  },
  {
   "cell_type": "code",
   "execution_count": 203,
   "metadata": {
    "collapsed": false
   },
   "outputs": [],
   "source": [
    "class BinaryNBClassifier(object):\n",
    "    def __init__(self):\n",
    "        self.polar_cutoff = 0.2\n",
    "        self.min_count = 5\n",
    "        self.max_count = 50000\n",
    "        # size of {POSITIVE: count, MEGATIVE: count} reviews\n",
    "        self.label_instance_counts = Counter()\n",
    "        # dict for pos/neg worrd counts\n",
    "        self.feature_counts = {}\n",
    "        # dict for word probabilities for each label\n",
    "        \n",
    "    def pre_process_data(self, training_XY):\n",
    "        # training data size\n",
    "        self.training_size = training_XY.shape[0]\n",
    "        # size of NEGATIVE reviews\n",
    "        positive_word_counts = Counter()\n",
    "        # frequency of words in positive reviews\n",
    "        positive_word_counts = Counter()\n",
    "        # frequency of words in negative reviews\n",
    "        negative_word_counts = Counter()\n",
    "        # frequency of words in all reviews\n",
    "        total_word_counts = Counter()\n",
    "        \n",
    "        # get the counts of words in each sentiment\n",
    "        for i in range(self.training_size ):\n",
    "            if(training_XY[i][0] == 'SPAM'):\n",
    "                # unique, counts = np.unique(a, return_counts=True)\n",
    "                self.label_instance_counts[training_XY[i][0]] += 1\n",
    "                for word in training_XY[i][1].split(\" \"):\n",
    "                    positive_word_counts[word] += 1\n",
    "                    total_word_counts[word] += 1\n",
    "            if(training_XY[i][0] == 'HAM'):\n",
    "                self.label_instance_counts[training_XY[i][0]] += 1\n",
    "                for word in training_XY[i][1].split(\" \"):\n",
    "                    negative_word_counts[word] += 1\n",
    "                    total_word_counts[word] += 1\n",
    "        \n",
    "        # eliminate noise words\n",
    "        negative_word_counts = {key:value for key, value in negative_word_counts.items() if value > self.min_count and value < self.max_count}\n",
    "        positive_word_counts = {key:value for key, value in positive_word_counts.items() if value > self.min_count and value < self.max_count}\n",
    "       \n",
    "        self.feature_counts[\"SPAM\"] = positive_word_counts\n",
    "        self.feature_counts[\"HAM\"] = negative_word_counts\n",
    "        #print(self.feature_counts[\"NEGATIVE\"])\n",
    "        \n",
    "\n",
    "    def predict_probabilities(self, text):\n",
    "        prediction_results = {}\n",
    "        text_counts = Counter(text.split(\" \"))\n",
    "        for label in self.feature_prior.keys():\n",
    "            likelihood_prob = 1\n",
    "            for word in text_counts:\n",
    "                # For every word in the text, we get the number of times that word occured in the reviews for a given class\n",
    "                occurence_count = text_counts.get(word)\n",
    "                # avoid missing word occurances\n",
    "                if word in self.feature_prior[label].keys():\n",
    "                    likelihood_prob *=  occurence_count * self.feature_prior[label][word]\n",
    "            # calculate probalities\n",
    "            # Now we multiply by the probability of the class existing in the documents.\n",
    "            prediction_results[label] = likelihood_prob * self.class_prior[label]\n",
    "        return prediction_results\n",
    "    \n",
    "    def test(self, test_data_XY):\n",
    "        df = pd.DataFrame(columns=['PREDICTION', 'LABEL'])\n",
    "        verdict = \"\"\n",
    "        for i in range(test_data_XY.shape[0]):\n",
    "            predictions_dict = self.predict_probabilities(test_data_XY[i][1])\n",
    "            if(predictions_dict[\"SPAM\"] > predictions_dict[\"HAM\"]):\n",
    "                verdict = \"SPAM\"\n",
    "            elif(predictions_dict[\"HAM\"] > predictions_dict[\"SPAM\"]):\n",
    "                verdict = \"HAM\"\n",
    "            else:\n",
    "                verdict = \"NEUTRAL\"\n",
    "            df = df.append({\"PREDICTION\": verdict, \"LABEL\":  test_data_XY[i][0]}, ignore_index=True)\n",
    "        return df\n",
    "       \n",
    "\n",
    "    def fit(self, training_XY):\n",
    "        # pre-process data\n",
    "        self.pre_process_data(training_XY)\n",
    "        # class prior\n",
    "        self.class_prior = {key: self.label_instance_counts[key] / self.training_size for key in self.label_instance_counts.keys()}\n",
    "        # feature prior\n",
    "        self.feature_prior = {label: {word_key: self.feature_counts[label][word_key] / len(self.feature_counts[label]) for word_key in self.feature_counts[label].keys()} for label in self.feature_counts.keys()}\n",
    "        # print probabilities for class and feature\n",
    "        #print(\"Class Prior: {} \\nFeature Prior: {}\".format(np.array(self.class_prior), np.array(self.feature_prior)))"
   ]
  },
  {
   "cell_type": "code",
   "execution_count": 204,
   "metadata": {
    "collapsed": true
   },
   "outputs": [],
   "source": [
    "nBayes = BinaryNBClassifier()"
   ]
  },
  {
   "cell_type": "code",
   "execution_count": 205,
   "metadata": {
    "collapsed": false
   },
   "outputs": [],
   "source": [
    "nBayes.fit(training_array)"
   ]
  },
  {
   "cell_type": "code",
   "execution_count": 206,
   "metadata": {
    "collapsed": false
   },
   "outputs": [
    {
     "data": {
      "text/plain": [
       "{'HAM': 0.005054906325357077, 'SPAM': 0.1348888888888889}"
      ]
     },
     "execution_count": 206,
     "metadata": {},
     "output_type": "execute_result"
    }
   ],
   "source": [
    "nBayes.predict_probabilities(\"Awesome, wonderfully, excellent delivered enjoyable product\")"
   ]
  },
  {
   "cell_type": "code",
   "execution_count": 207,
   "metadata": {
    "collapsed": false
   },
   "outputs": [
    {
     "data": {
      "text/plain": [
       "{'HAM': 0.0004371256100457264, 'SPAM': 0.0009661008724682408}"
      ]
     },
     "execution_count": 207,
     "metadata": {},
     "output_type": "execute_result"
    }
   ],
   "source": [
    "nBayes.predict_probabilities(\"Very poor quality. Product arrived while damaged with dents.I regret buying it\")"
   ]
  },
  {
   "cell_type": "code",
   "execution_count": 208,
   "metadata": {
    "collapsed": false
   },
   "outputs": [],
   "source": [
    "data_test = nBayes.test(test_array)"
   ]
  },
  {
   "cell_type": "code",
   "execution_count": 209,
   "metadata": {
    "collapsed": false
   },
   "outputs": [],
   "source": [
    "data_correct = data_test.loc[(data_test.PREDICTION == data_test.LABEL) ]"
   ]
  },
  {
   "cell_type": "code",
   "execution_count": 210,
   "metadata": {
    "collapsed": false
   },
   "outputs": [
    {
     "data": {
      "text/plain": [
       "13.931297709923664"
      ]
     },
     "execution_count": 210,
     "metadata": {},
     "output_type": "execute_result"
    }
   ],
   "source": [
    "test_accuracy = data_correct.LABEL.value_counts()[0] *100 / data_test.LABEL.value_counts()[0]\n",
    "test_accuracy"
   ]
  },
  {
   "cell_type": "code",
   "execution_count": 211,
   "metadata": {
    "collapsed": false
   },
   "outputs": [
    {
     "data": {
      "text/plain": [
       "HAM     73\n",
       "SPAM    18\n",
       "Name: LABEL, dtype: int64"
      ]
     },
     "execution_count": 211,
     "metadata": {},
     "output_type": "execute_result"
    }
   ],
   "source": [
    "data_correct.LABEL.value_counts()"
   ]
  },
  {
   "cell_type": "code",
   "execution_count": 176,
   "metadata": {
    "collapsed": false
   },
   "outputs": [
    {
     "data": {
      "text/plain": [
       "HAM     524\n",
       "SPAM     76\n",
       "Name: LABEL, dtype: int64"
      ]
     },
     "execution_count": 176,
     "metadata": {},
     "output_type": "execute_result"
    }
   ],
   "source": [
    "data_test.LABEL.value_counts()"
   ]
  },
  {
   "cell_type": "code",
   "execution_count": null,
   "metadata": {
    "collapsed": true
   },
   "outputs": [],
   "source": []
  }
 ],
 "metadata": {
  "anaconda-cloud": {},
  "kernelspec": {
   "display_name": "Python [conda root]",
   "language": "python",
   "name": "conda-root-py"
  },
  "language_info": {
   "codemirror_mode": {
    "name": "ipython",
    "version": 3
   },
   "file_extension": ".py",
   "mimetype": "text/x-python",
   "name": "python",
   "nbconvert_exporter": "python",
   "pygments_lexer": "ipython3",
   "version": "3.5.2"
  }
 },
 "nbformat": 4,
 "nbformat_minor": 1
}
