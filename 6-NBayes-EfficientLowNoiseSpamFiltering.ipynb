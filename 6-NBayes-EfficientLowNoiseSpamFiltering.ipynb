{
 "cells": [
  {
   "cell_type": "markdown",
   "metadata": {},
   "source": [
    "## Efficient Low Noise Naive Bayes"
   ]
  },
  {
   "cell_type": "code",
   "execution_count": 220,
   "metadata": {
    "collapsed": false
   },
   "outputs": [],
   "source": [
    "%matplotlib inline\n",
    "%config InlineBackend.figure_format = 'retina'\n",
    "\n",
    "from sklearn import preprocessing\n",
    "import matplotlib.pyplot as plt\n",
    "import numpy as np\n",
    "import pandas as pd\n",
    "from collections import Counter\n",
    "from IPython.display import Image\n",
    "from itertools import dropwhile\n",
    "from sklearn import metrics\n",
    "from nltk.corpus import stopwords\n",
    "import pprint as pp\n",
    "import random\n",
    "import time\n",
    "import sys\n",
    "import os\n",
    "try:\n",
    "   import cPickle as cPickle\n",
    "except:\n",
    "   import pickle as cPickle"
   ]
  },
  {
   "cell_type": "markdown",
   "metadata": {},
   "source": [
    "### Load data"
   ]
  },
  {
   "cell_type": "code",
   "execution_count": 221,
   "metadata": {
    "collapsed": false
   },
   "outputs": [],
   "source": [
    "data = pd.read_csv('dataset/spam.csv', encoding='latin-1')"
   ]
  },
  {
   "cell_type": "code",
   "execution_count": 3,
   "metadata": {
    "collapsed": false
   },
   "outputs": [
    {
     "data": {
      "text/html": [
       "<div>\n",
       "<table border=\"1\" class=\"dataframe\">\n",
       "  <thead>\n",
       "    <tr style=\"text-align: right;\">\n",
       "      <th></th>\n",
       "      <th>v1</th>\n",
       "      <th>v2</th>\n",
       "      <th>Unnamed: 2</th>\n",
       "      <th>Unnamed: 3</th>\n",
       "      <th>Unnamed: 4</th>\n",
       "    </tr>\n",
       "  </thead>\n",
       "  <tbody>\n",
       "    <tr>\n",
       "      <th>0</th>\n",
       "      <td>ham</td>\n",
       "      <td>Go until jurong point, crazy.. Available only ...</td>\n",
       "      <td>NaN</td>\n",
       "      <td>NaN</td>\n",
       "      <td>NaN</td>\n",
       "    </tr>\n",
       "    <tr>\n",
       "      <th>1</th>\n",
       "      <td>ham</td>\n",
       "      <td>Ok lar... Joking wif u oni...</td>\n",
       "      <td>NaN</td>\n",
       "      <td>NaN</td>\n",
       "      <td>NaN</td>\n",
       "    </tr>\n",
       "    <tr>\n",
       "      <th>2</th>\n",
       "      <td>spam</td>\n",
       "      <td>Free entry in 2 a wkly comp to win FA Cup fina...</td>\n",
       "      <td>NaN</td>\n",
       "      <td>NaN</td>\n",
       "      <td>NaN</td>\n",
       "    </tr>\n",
       "    <tr>\n",
       "      <th>3</th>\n",
       "      <td>ham</td>\n",
       "      <td>U dun say so early hor... U c already then say...</td>\n",
       "      <td>NaN</td>\n",
       "      <td>NaN</td>\n",
       "      <td>NaN</td>\n",
       "    </tr>\n",
       "    <tr>\n",
       "      <th>4</th>\n",
       "      <td>ham</td>\n",
       "      <td>Nah I don't think he goes to usf, he lives aro...</td>\n",
       "      <td>NaN</td>\n",
       "      <td>NaN</td>\n",
       "      <td>NaN</td>\n",
       "    </tr>\n",
       "  </tbody>\n",
       "</table>\n",
       "</div>"
      ],
      "text/plain": [
       "     v1                                                 v2 Unnamed: 2  \\\n",
       "0   ham  Go until jurong point, crazy.. Available only ...        NaN   \n",
       "1   ham                      Ok lar... Joking wif u oni...        NaN   \n",
       "2  spam  Free entry in 2 a wkly comp to win FA Cup fina...        NaN   \n",
       "3   ham  U dun say so early hor... U c already then say...        NaN   \n",
       "4   ham  Nah I don't think he goes to usf, he lives aro...        NaN   \n",
       "\n",
       "  Unnamed: 3 Unnamed: 4  \n",
       "0        NaN        NaN  \n",
       "1        NaN        NaN  \n",
       "2        NaN        NaN  \n",
       "3        NaN        NaN  \n",
       "4        NaN        NaN  "
      ]
     },
     "execution_count": 3,
     "metadata": {},
     "output_type": "execute_result"
    }
   ],
   "source": [
    "data.head()"
   ]
  },
  {
   "cell_type": "code",
   "execution_count": 4,
   "metadata": {
    "collapsed": false
   },
   "outputs": [],
   "source": [
    "# Drop some unwanted columns that do not provide insight\n",
    "#data_modified = data.drop([\"Unnamed: 2\", \"Unnamed: 3\", \"Unnamed: 4\"], axis=1)\n",
    "data_modified = data.loc[:, ~data.columns.str.contains('^Unnamed')]"
   ]
  },
  {
   "cell_type": "code",
   "execution_count": 5,
   "metadata": {
    "collapsed": false
   },
   "outputs": [
    {
     "data": {
      "text/html": [
       "<div>\n",
       "<table border=\"1\" class=\"dataframe\">\n",
       "  <thead>\n",
       "    <tr style=\"text-align: right;\">\n",
       "      <th></th>\n",
       "      <th>Label</th>\n",
       "      <th>Text</th>\n",
       "    </tr>\n",
       "  </thead>\n",
       "  <tbody>\n",
       "    <tr>\n",
       "      <th>5567</th>\n",
       "      <td>SPAM</td>\n",
       "      <td>This is the 2nd time we have tried 2 contact u...</td>\n",
       "    </tr>\n",
       "    <tr>\n",
       "      <th>5568</th>\n",
       "      <td>HAM</td>\n",
       "      <td>Will Ì_ b going to esplanade fr home?</td>\n",
       "    </tr>\n",
       "    <tr>\n",
       "      <th>5569</th>\n",
       "      <td>HAM</td>\n",
       "      <td>Pity, * was in mood for that. So...any other s...</td>\n",
       "    </tr>\n",
       "    <tr>\n",
       "      <th>5570</th>\n",
       "      <td>HAM</td>\n",
       "      <td>The guy did some bitching but I acted like i'd...</td>\n",
       "    </tr>\n",
       "    <tr>\n",
       "      <th>5571</th>\n",
       "      <td>HAM</td>\n",
       "      <td>Rofl. Its true to its name</td>\n",
       "    </tr>\n",
       "  </tbody>\n",
       "</table>\n",
       "</div>"
      ],
      "text/plain": [
       "     Label                                               Text\n",
       "5567  SPAM  This is the 2nd time we have tried 2 contact u...\n",
       "5568   HAM              Will Ì_ b going to esplanade fr home?\n",
       "5569   HAM  Pity, * was in mood for that. So...any other s...\n",
       "5570   HAM  The guy did some bitching but I acted like i'd...\n",
       "5571   HAM                         Rofl. Its true to its name"
      ]
     },
     "execution_count": 5,
     "metadata": {},
     "output_type": "execute_result"
    }
   ],
   "source": [
    "data_modified = data_modified.rename(columns={\"v1\":\"Label\", \"v2\":\"Text\"})\n",
    "data_modified.loc[(data_modified.Label == \"spam\") , 'Label'] = \"SPAM\"\n",
    "data_modified.loc[(data_modified.Label == \"ham\") , 'Label'] = \"HAM\"\n",
    "# Show last 5 in dataset\n",
    "data_modified.tail(5)"
   ]
  },
  {
   "cell_type": "code",
   "execution_count": 6,
   "metadata": {
    "collapsed": false
   },
   "outputs": [
    {
     "data": {
      "text/plain": [
       "HAM     4825\n",
       "SPAM     747\n",
       "Name: Label, dtype: int64"
      ]
     },
     "execution_count": 6,
     "metadata": {},
     "output_type": "execute_result"
    }
   ],
   "source": [
    "data_modified.Label.value_counts()"
   ]
  },
  {
   "cell_type": "markdown",
   "metadata": {},
   "source": [
    "### Data Preparation"
   ]
  },
  {
   "cell_type": "markdown",
   "metadata": {},
   "source": [
    "Training Data"
   ]
  },
  {
   "cell_type": "code",
   "execution_count": 7,
   "metadata": {
    "collapsed": false,
    "scrolled": true
   },
   "outputs": [
    {
     "data": {
      "text/html": [
       "<div>\n",
       "<table border=\"1\" class=\"dataframe\">\n",
       "  <thead>\n",
       "    <tr style=\"text-align: right;\">\n",
       "      <th></th>\n",
       "      <th>Label</th>\n",
       "      <th>Text</th>\n",
       "    </tr>\n",
       "  </thead>\n",
       "  <tbody>\n",
       "    <tr>\n",
       "      <th>0</th>\n",
       "      <td>HAM</td>\n",
       "      <td>So wat's da decision?</td>\n",
       "    </tr>\n",
       "    <tr>\n",
       "      <th>1</th>\n",
       "      <td>HAM</td>\n",
       "      <td>Wot is u up 2 then bitch?</td>\n",
       "    </tr>\n",
       "    <tr>\n",
       "      <th>2</th>\n",
       "      <td>HAM</td>\n",
       "      <td>Stupid.its not possible</td>\n",
       "    </tr>\n",
       "    <tr>\n",
       "      <th>3</th>\n",
       "      <td>HAM</td>\n",
       "      <td>She told to hr that he want posting in chennai...</td>\n",
       "    </tr>\n",
       "    <tr>\n",
       "      <th>4</th>\n",
       "      <td>SPAM</td>\n",
       "      <td>Mobile Club: Choose any of the top quality ite...</td>\n",
       "    </tr>\n",
       "  </tbody>\n",
       "</table>\n",
       "</div>"
      ],
      "text/plain": [
       "  Label                                               Text\n",
       "0   HAM                              So wat's da decision?\n",
       "1   HAM                          Wot is u up 2 then bitch?\n",
       "2   HAM                            Stupid.its not possible\n",
       "3   HAM  She told to hr that he want posting in chennai...\n",
       "4  SPAM  Mobile Club: Choose any of the top quality ite..."
      ]
     },
     "execution_count": 7,
     "metadata": {},
     "output_type": "execute_result"
    }
   ],
   "source": [
    "# first 4500 reviews\n",
    "training_data = data_modified[4500:4972].reset_index(drop=True)\n",
    "training_data_length = training_data.shape[0]\n",
    "training_data.head()"
   ]
  },
  {
   "cell_type": "code",
   "execution_count": 8,
   "metadata": {
    "collapsed": false
   },
   "outputs": [
    {
     "data": {
      "text/plain": [
       "HAM     408\n",
       "SPAM     64\n",
       "Name: Label, dtype: int64"
      ]
     },
     "execution_count": 8,
     "metadata": {},
     "output_type": "execute_result"
    }
   ],
   "source": [
    "training_data.Label.value_counts()"
   ]
  },
  {
   "cell_type": "markdown",
   "metadata": {},
   "source": [
    "Shape of training data"
   ]
  },
  {
   "cell_type": "code",
   "execution_count": 9,
   "metadata": {
    "collapsed": false
   },
   "outputs": [
    {
     "name": "stdout",
     "output_type": "stream",
     "text": [
      "(472, 2)\n",
      "(472,)\n"
     ]
    }
   ],
   "source": [
    "pp.pprint(training_data.shape)\n",
    "pp.pprint(training_data.Label.shape)"
   ]
  },
  {
   "cell_type": "markdown",
   "metadata": {},
   "source": [
    "Validation Data"
   ]
  },
  {
   "cell_type": "code",
   "execution_count": 10,
   "metadata": {
    "collapsed": false
   },
   "outputs": [
    {
     "data": {
      "text/html": [
       "<div>\n",
       "<table border=\"1\" class=\"dataframe\">\n",
       "  <thead>\n",
       "    <tr style=\"text-align: right;\">\n",
       "      <th></th>\n",
       "      <th>Label</th>\n",
       "      <th>Text</th>\n",
       "    </tr>\n",
       "  </thead>\n",
       "  <tbody>\n",
       "    <tr>\n",
       "      <th>0</th>\n",
       "      <td>HAM</td>\n",
       "      <td>So wat's da decision?</td>\n",
       "    </tr>\n",
       "    <tr>\n",
       "      <th>1</th>\n",
       "      <td>HAM</td>\n",
       "      <td>Wot is u up 2 then bitch?</td>\n",
       "    </tr>\n",
       "    <tr>\n",
       "      <th>2</th>\n",
       "      <td>HAM</td>\n",
       "      <td>Stupid.its not possible</td>\n",
       "    </tr>\n",
       "    <tr>\n",
       "      <th>3</th>\n",
       "      <td>HAM</td>\n",
       "      <td>She told to hr that he want posting in chennai...</td>\n",
       "    </tr>\n",
       "    <tr>\n",
       "      <th>4</th>\n",
       "      <td>SPAM</td>\n",
       "      <td>Mobile Club: Choose any of the top quality ite...</td>\n",
       "    </tr>\n",
       "  </tbody>\n",
       "</table>\n",
       "</div>"
      ],
      "text/plain": [
       "  Label                                               Text\n",
       "0   HAM                              So wat's da decision?\n",
       "1   HAM                          Wot is u up 2 then bitch?\n",
       "2   HAM                            Stupid.its not possible\n",
       "3   HAM  She told to hr that he want posting in chennai...\n",
       "4  SPAM  Mobile Club: Choose any of the top quality ite..."
      ]
     },
     "execution_count": 10,
     "metadata": {},
     "output_type": "execute_result"
    }
   ],
   "source": [
    "# middle 972 reviews\n",
    "validation_data = data_modified[4500:4972].reset_index(drop=True)\n",
    "validation_data_length = validation_data.shape[0]\n",
    "validation_data.head()"
   ]
  },
  {
   "cell_type": "code",
   "execution_count": 11,
   "metadata": {
    "collapsed": false
   },
   "outputs": [
    {
     "data": {
      "text/plain": [
       "HAM     408\n",
       "SPAM     64\n",
       "Name: Label, dtype: int64"
      ]
     },
     "execution_count": 11,
     "metadata": {},
     "output_type": "execute_result"
    }
   ],
   "source": [
    "validation_data.Label.value_counts()"
   ]
  },
  {
   "cell_type": "markdown",
   "metadata": {},
   "source": [
    "Shape of validation data"
   ]
  },
  {
   "cell_type": "code",
   "execution_count": 12,
   "metadata": {
    "collapsed": false
   },
   "outputs": [
    {
     "name": "stdout",
     "output_type": "stream",
     "text": [
      "(472, 2)\n",
      "(472,)\n"
     ]
    }
   ],
   "source": [
    "pp.pprint(validation_data.shape)\n",
    "pp.pprint(validation_data.Label.shape)"
   ]
  },
  {
   "cell_type": "markdown",
   "metadata": {},
   "source": [
    "Testing data"
   ]
  },
  {
   "cell_type": "code",
   "execution_count": 13,
   "metadata": {
    "collapsed": false
   },
   "outputs": [
    {
     "data": {
      "text/html": [
       "<div>\n",
       "<table border=\"1\" class=\"dataframe\">\n",
       "  <thead>\n",
       "    <tr style=\"text-align: right;\">\n",
       "      <th></th>\n",
       "      <th>Label</th>\n",
       "      <th>Text</th>\n",
       "    </tr>\n",
       "  </thead>\n",
       "  <tbody>\n",
       "    <tr>\n",
       "      <th>0</th>\n",
       "      <td>HAM</td>\n",
       "      <td>Oops I was in the shower when u called. Hey a ...</td>\n",
       "    </tr>\n",
       "    <tr>\n",
       "      <th>1</th>\n",
       "      <td>HAM</td>\n",
       "      <td>Aiyo u so poor thing... Then u dun wan 2 eat? ...</td>\n",
       "    </tr>\n",
       "    <tr>\n",
       "      <th>2</th>\n",
       "      <td>HAM</td>\n",
       "      <td>Yar... I tot u knew dis would happen long ago ...</td>\n",
       "    </tr>\n",
       "    <tr>\n",
       "      <th>3</th>\n",
       "      <td>HAM</td>\n",
       "      <td>You are gorgeous! keep those pix cumming :) th...</td>\n",
       "    </tr>\n",
       "    <tr>\n",
       "      <th>4</th>\n",
       "      <td>HAM</td>\n",
       "      <td>A boy was late 2 home. His father: \\POWER OF F...</td>\n",
       "    </tr>\n",
       "  </tbody>\n",
       "</table>\n",
       "</div>"
      ],
      "text/plain": [
       "  Label                                               Text\n",
       "0   HAM  Oops I was in the shower when u called. Hey a ...\n",
       "1   HAM  Aiyo u so poor thing... Then u dun wan 2 eat? ...\n",
       "2   HAM  Yar... I tot u knew dis would happen long ago ...\n",
       "3   HAM  You are gorgeous! keep those pix cumming :) th...\n",
       "4   HAM  A boy was late 2 home. His father: \\POWER OF F..."
      ]
     },
     "execution_count": 13,
     "metadata": {},
     "output_type": "execute_result"
    }
   ],
   "source": [
    "# last 600 reviews\n",
    "test_data = data_modified[4972:5572].reset_index(drop=True)\n",
    "test_data_length = test_data.shape[0]\n",
    "test_data.head()"
   ]
  },
  {
   "cell_type": "code",
   "execution_count": 14,
   "metadata": {
    "collapsed": false
   },
   "outputs": [
    {
     "data": {
      "text/plain": [
       "HAM     524\n",
       "SPAM     76\n",
       "Name: Label, dtype: int64"
      ]
     },
     "execution_count": 14,
     "metadata": {},
     "output_type": "execute_result"
    }
   ],
   "source": [
    "test_data.Label.value_counts()"
   ]
  },
  {
   "cell_type": "markdown",
   "metadata": {},
   "source": [
    "Shape of Testing data"
   ]
  },
  {
   "cell_type": "code",
   "execution_count": 15,
   "metadata": {
    "collapsed": false
   },
   "outputs": [
    {
     "name": "stdout",
     "output_type": "stream",
     "text": [
      "(600, 2)\n",
      "(600,)\n"
     ]
    }
   ],
   "source": [
    "pp.pprint(test_data.shape)\n",
    "pp.pprint(test_data.Label.shape)"
   ]
  },
  {
   "cell_type": "markdown",
   "metadata": {},
   "source": [
    "### Building the Naive Bayes Classifier"
   ]
  },
  {
   "cell_type": "markdown",
   "metadata": {},
   "source": [
    "### Calculate the Priors"
   ]
  },
  {
   "cell_type": "markdown",
   "metadata": {},
   "source": [
    "These are simply the propbability of text having \"POSITIVE\" or \"NEGATIVE\" sentiment"
   ]
  },
  {
   "cell_type": "code",
   "execution_count": 16,
   "metadata": {
    "collapsed": true
   },
   "outputs": [],
   "source": [
    "# total positive reviews in training set\n",
    "r_spam = training_data.Label[training_data.Label == \"SPAM\"].count()\n",
    "# total negative reviews in training set\n",
    "r_ham = training_data.Label[training_data.Label == \"HAM\"].count()\n",
    "# total reviews in training set\n",
    "r_total = training_data.Label.count()"
   ]
  },
  {
   "cell_type": "code",
   "execution_count": 17,
   "metadata": {
    "collapsed": false
   },
   "outputs": [
    {
     "data": {
      "text/plain": [
       "64"
      ]
     },
     "execution_count": 17,
     "metadata": {},
     "output_type": "execute_result"
    }
   ],
   "source": [
    "r_spam"
   ]
  },
  {
   "cell_type": "code",
   "execution_count": 18,
   "metadata": {
    "collapsed": false
   },
   "outputs": [
    {
     "data": {
      "text/plain": [
       "408"
      ]
     },
     "execution_count": 18,
     "metadata": {},
     "output_type": "execute_result"
    }
   ],
   "source": [
    "r_ham"
   ]
  },
  {
   "cell_type": "code",
   "execution_count": 19,
   "metadata": {
    "collapsed": false
   },
   "outputs": [
    {
     "data": {
      "text/plain": [
       "472"
      ]
     },
     "execution_count": 19,
     "metadata": {},
     "output_type": "execute_result"
    }
   ],
   "source": [
    "r_total"
   ]
  },
  {
   "cell_type": "code",
   "execution_count": 20,
   "metadata": {
    "collapsed": false
   },
   "outputs": [
    {
     "data": {
      "text/html": [
       "<div>\n",
       "<table border=\"1\" class=\"dataframe\">\n",
       "  <thead>\n",
       "    <tr style=\"text-align: right;\">\n",
       "      <th></th>\n",
       "      <th>Label</th>\n",
       "      <th>Text</th>\n",
       "    </tr>\n",
       "  </thead>\n",
       "  <tbody>\n",
       "    <tr>\n",
       "      <th>0</th>\n",
       "      <td>HAM</td>\n",
       "      <td>So wat's da decision?</td>\n",
       "    </tr>\n",
       "    <tr>\n",
       "      <th>1</th>\n",
       "      <td>HAM</td>\n",
       "      <td>Wot is u up 2 then bitch?</td>\n",
       "    </tr>\n",
       "    <tr>\n",
       "      <th>2</th>\n",
       "      <td>HAM</td>\n",
       "      <td>Stupid.its not possible</td>\n",
       "    </tr>\n",
       "    <tr>\n",
       "      <th>3</th>\n",
       "      <td>HAM</td>\n",
       "      <td>She told to hr that he want posting in chennai...</td>\n",
       "    </tr>\n",
       "    <tr>\n",
       "      <th>4</th>\n",
       "      <td>SPAM</td>\n",
       "      <td>Mobile Club: Choose any of the top quality ite...</td>\n",
       "    </tr>\n",
       "  </tbody>\n",
       "</table>\n",
       "</div>"
      ],
      "text/plain": [
       "  Label                                               Text\n",
       "0   HAM                              So wat's da decision?\n",
       "1   HAM                          Wot is u up 2 then bitch?\n",
       "2   HAM                            Stupid.its not possible\n",
       "3   HAM  She told to hr that he want posting in chennai...\n",
       "4  SPAM  Mobile Club: Choose any of the top quality ite..."
      ]
     },
     "execution_count": 20,
     "metadata": {},
     "output_type": "execute_result"
    }
   ],
   "source": [
    "# Drop some unwanted columns that do not provide insight\n",
    "training_data.head()"
   ]
  },
  {
   "cell_type": "code",
   "execution_count": 21,
   "metadata": {
    "collapsed": false
   },
   "outputs": [],
   "source": [
    "# r_positive/r_total\n",
    "r_spam = r_spam/r_total\n",
    "# r_negative/r_total\n",
    "r_ham = r_ham/r_total"
   ]
  },
  {
   "cell_type": "markdown",
   "metadata": {},
   "source": [
    "### Calculate the Likelihood"
   ]
  },
  {
   "cell_type": "code",
   "execution_count": 258,
   "metadata": {
    "collapsed": false
   },
   "outputs": [
    {
     "name": "stdout",
     "output_type": "stream",
     "text": [
      "Progress:99.7 %"
     ]
    }
   ],
   "source": [
    "clean_data = pd.DataFrame(columns=['Label', 'Text'])\n",
    "for i in range(training_data.shape[0]):\n",
    "    text = ' '.join([word for word in training_data.Text[i].split(\" \") if word not in stopwords.words(\"english\")])\n",
    "    sys.stdout.write(\"\\rProgress:\" + str(100 * i/float(training_data.shape[0]))[:4] + \" %\")\n",
    "    clean_data.loc[i] = {'Label':training_data.Label[i], 'Text': text}"
   ]
  },
  {
   "cell_type": "code",
   "execution_count": 259,
   "metadata": {
    "collapsed": false
   },
   "outputs": [
    {
     "data": {
      "text/plain": [
       "array(['HAM', 'A boy was late 2 home. His father: \\\\POWER OF FRNDSHIP\\\\\"\"'], dtype=object)"
      ]
     },
     "execution_count": 259,
     "metadata": {},
     "output_type": "execute_result"
    }
   ],
   "source": [
    "training_data = clean_data\n",
    "training_array = training_data.values\n",
    "test_array = test_data.values\n",
    "validation_array = validation_data.values\n",
    "test_array[4]"
   ]
  },
  {
   "cell_type": "code",
   "execution_count": 261,
   "metadata": {
    "collapsed": false
   },
   "outputs": [],
   "source": [
    "class BinaryNBClassifier(object):\n",
    "    def __init__(self):\n",
    "        self.polar_cutoff = 0.0\n",
    "        self.min_count = 2\n",
    "        self.max_count = 15\n",
    "        # size of {POSITIVE: count, MEGATIVE: count} reviews\n",
    "        self.label_instance_counts = Counter()\n",
    "        # dict for pos/neg worrd counts\n",
    "        self.feature_counts = {}\n",
    "        # dict for word probabilities for each label\n",
    "        \n",
    "    def pre_process_data(self, training_XY):\n",
    "        # training data size\n",
    "        self.training_size = training_XY.shape[0]\n",
    "        # size of NEGATIVE reviews\n",
    "        positive_word_counts = Counter()\n",
    "        # frequency of words in positive reviews\n",
    "        positive_word_counts = Counter()\n",
    "        # frequency of words in negative reviews\n",
    "        negative_word_counts = Counter()\n",
    "        # frequency of words in all reviews\n",
    "        total_word_counts = Counter()\n",
    "        \n",
    "        # get the counts of words in each sentiment\n",
    "        for i in range(self.training_size ):\n",
    "            text = ' '.join([word for word in training_XY[i][1].split(\" \") if word not in stopwords.words(\"english\")])\n",
    "            if(training_XY[i][0] == 'SPAM'):\n",
    "                # unique, counts = np.unique(a, return_counts=True)\n",
    "                self.label_instance_counts[training_XY[i][0]] += 1\n",
    "                for word in text.split(\" \"):\n",
    "                    positive_word_counts[word] += 1\n",
    "                    total_word_counts[word] += 1\n",
    "            if(training_XY[i][0] == 'HAM'):\n",
    "                self.label_instance_counts[training_XY[i][0]] += 1\n",
    "                for word in text.split(\" \"):\n",
    "                    negative_word_counts[word] += 1\n",
    "                    total_word_counts[word] += 1\n",
    "        \n",
    "        # eliminate noise words\n",
    "        negative_word_counts = {key:value for key, value in negative_word_counts.items() if value > self.min_count and value < self.max_count}\n",
    "        positive_word_counts = {key:value for key, value in positive_word_counts.items() if value > self.min_count and value < self.max_count}\n",
    "       \n",
    "        self.feature_counts[\"SPAM\"] = positive_word_counts\n",
    "        self.feature_counts[\"HAM\"] = negative_word_counts\n",
    "        #print(self.feature_counts[\"SPAM\"])\n",
    "        \n",
    "\n",
    "    def predict_probabilities(self, text):\n",
    "        prediction_results = {}\n",
    "        text_counts = Counter(text.split(\" \"))\n",
    "        for label in self.feature_prior.keys():\n",
    "            likelihood_prob = 1\n",
    "            for word in text_counts:\n",
    "                # For every word in the text, we get the number of times that word occured in the reviews for a given class\n",
    "                occurence_count = text_counts.get(word)\n",
    "                # avoid missing word occurances\n",
    "                if word in self.feature_prior[label].keys():\n",
    "                    likelihood_prob *=  occurence_count * self.feature_prior[label][word]\n",
    "                else:\n",
    "                    likelihood_prob *=  1\n",
    "            # calculate probalities\n",
    "            # Now we multiply by the probability of the class existing in the documents.\n",
    "            prediction_results[label] = np.abs(likelihood_prob * self.class_prior[label])\n",
    "        return prediction_results\n",
    "    \n",
    "    def test(self, test_data_XY):\n",
    "        df = pd.DataFrame(columns=['PREDICTION', 'LABEL'])\n",
    "        verdict = \"\"\n",
    "        for i in range(test_data_XY.shape[0]):\n",
    "            predictions_dict = self.predict_probabilities(test_data_XY[i][1])\n",
    "            if(predictions_dict[\"SPAM\"] > predictions_dict[\"HAM\"]):\n",
    "                verdict = \"SPAM\"\n",
    "            elif(predictions_dict[\"HAM\"] > predictions_dict[\"SPAM\"]):\n",
    "                verdict = \"HAM\"\n",
    "            else:\n",
    "                verdict = \"NEUTRAL\"\n",
    "            df = df.append({\"PREDICTION\": verdict, \"LABEL\":  test_data_XY[i][0]}, ignore_index=True)\n",
    "        return df\n",
    "       \n",
    "\n",
    "    def fit(self, training_XY):\n",
    "        # pre-process data\n",
    "        self.pre_process_data(training_XY)\n",
    "        # class prior\n",
    "        self.class_prior = {key: self.label_instance_counts[key] / self.training_size for key in self.label_instance_counts.keys()}\n",
    "        # feature prior\n",
    "        self.feature_prior = {label: {word_key: self.feature_counts[label][word_key] / len(self.feature_counts[label]) for word_key in self.feature_counts[label].keys()} for label in self.feature_counts.keys()}\n",
    "        # print probabilities for class and feature\n",
    "        #print(\"Class Prior: {} \\nFeature Prior: {}\".format(np.array(self.class_prior), np.array(self.feature_prior)))"
   ]
  },
  {
   "cell_type": "code",
   "execution_count": 262,
   "metadata": {
    "collapsed": true
   },
   "outputs": [],
   "source": [
    "nBayes = BinaryNBClassifier()"
   ]
  },
  {
   "cell_type": "code",
   "execution_count": 263,
   "metadata": {
    "collapsed": false
   },
   "outputs": [],
   "source": [
    "nBayes.fit(training_array)"
   ]
  },
  {
   "cell_type": "code",
   "execution_count": 264,
   "metadata": {
    "collapsed": false
   },
   "outputs": [
    {
     "data": {
      "text/plain": [
       "{'HAM': 4.9083984405191211e-12, 'SPAM': 0.0014856817422094566}"
      ]
     },
     "execution_count": 264,
     "metadata": {},
     "output_type": "execute_result"
    }
   ],
   "source": [
    "nBayes.predict_probabilities(\"Although i told u dat i'm into baig face watches now but i really like e watch u gave cos it's fr u. Thanx 4 everything dat u've done today, i'm touched\")"
   ]
  },
  {
   "cell_type": "code",
   "execution_count": 265,
   "metadata": {
    "collapsed": false
   },
   "outputs": [
    {
     "data": {
      "text/plain": [
       "{'HAM': 0.034438517117968803, 'SPAM': 0.014658726523133303}"
      ]
     },
     "execution_count": 265,
     "metadata": {},
     "output_type": "execute_result"
    }
   ],
   "source": [
    "nBayes.predict_probabilities(\"Thanks for your subscription to Ringtone UK your mobile will be charged å£5/month Please confirm by replying YES or NO. If you reply NO you will not be charged\")"
   ]
  },
  {
   "cell_type": "code",
   "execution_count": 266,
   "metadata": {
    "collapsed": false
   },
   "outputs": [
    {
     "data": {
      "text/plain": [
       "{'HAM': 0.86440677966101698, 'SPAM': 0.0054970224461749892}"
      ]
     },
     "execution_count": 266,
     "metadata": {},
     "output_type": "execute_result"
    }
   ],
   "source": [
    "nBayes.predict_probabilities(\"SIX chances to win CASH! From 100 to 20,000 pounds txt> \")"
   ]
  },
  {
   "cell_type": "code",
   "execution_count": 241,
   "metadata": {
    "collapsed": false
   },
   "outputs": [],
   "source": [
    "data_test = nBayes.test(test_array)"
   ]
  },
  {
   "cell_type": "code",
   "execution_count": 242,
   "metadata": {
    "collapsed": false
   },
   "outputs": [],
   "source": [
    "data_correct = data_test.loc[(data_test.PREDICTION == data_test.LABEL) ]"
   ]
  },
  {
   "cell_type": "code",
   "execution_count": 243,
   "metadata": {
    "collapsed": false
   },
   "outputs": [
    {
     "data": {
      "text/plain": [
       "13.157894736842104"
      ]
     },
     "execution_count": 243,
     "metadata": {},
     "output_type": "execute_result"
    }
   ],
   "source": [
    "test_accuracy = data_correct.LABEL.value_counts()[1] *100 / data_test.LABEL.value_counts()[1]\n",
    "test_accuracy"
   ]
  },
  {
   "cell_type": "code",
   "execution_count": 244,
   "metadata": {
    "collapsed": false
   },
   "outputs": [
    {
     "data": {
      "text/plain": [
       "HAM     166\n",
       "SPAM     10\n",
       "Name: LABEL, dtype: int64"
      ]
     },
     "execution_count": 244,
     "metadata": {},
     "output_type": "execute_result"
    }
   ],
   "source": [
    "data_correct.LABEL.value_counts()"
   ]
  },
  {
   "cell_type": "code",
   "execution_count": 210,
   "metadata": {
    "collapsed": false
   },
   "outputs": [
    {
     "data": {
      "text/plain": [
       "HAM     524\n",
       "SPAM     76\n",
       "Name: LABEL, dtype: int64"
      ]
     },
     "execution_count": 210,
     "metadata": {},
     "output_type": "execute_result"
    }
   ],
   "source": [
    "data_test.LABEL.value_counts()"
   ]
  },
  {
   "cell_type": "code",
   "execution_count": 248,
   "metadata": {
    "collapsed": false
   },
   "outputs": [
    {
     "name": "stdout",
     "output_type": "stream",
     "text": [
      "Progress:99.7 %"
     ]
    }
   ],
   "source": [
    "clean_data = pd.DataFrame(columns=['Text', 'Label'])\n",
    "for i in range(training_data.shape[0]):\n",
    "    text = ' '.join([word for word in training_data.Text[i].split(\" \") if word not in stopwords.words(\"english\")])\n",
    "    sys.stdout.write(\"\\rProgress:\" + str(100 * i/float(training_data.shape[0]))[:4] + \" %\")\n",
    "    clean_data.loc[i] = {'Text':text, 'Label': training_data.Label[i]}"
   ]
  },
  {
   "cell_type": "code",
   "execution_count": 249,
   "metadata": {
    "collapsed": false
   },
   "outputs": [
    {
     "data": {
      "text/html": [
       "<div>\n",
       "<table border=\"1\" class=\"dataframe\">\n",
       "  <thead>\n",
       "    <tr style=\"text-align: right;\">\n",
       "      <th></th>\n",
       "      <th>Text</th>\n",
       "      <th>Label</th>\n",
       "    </tr>\n",
       "  </thead>\n",
       "  <tbody>\n",
       "    <tr>\n",
       "      <th>0</th>\n",
       "      <td>So wat's da decision?</td>\n",
       "      <td>HAM</td>\n",
       "    </tr>\n",
       "    <tr>\n",
       "      <th>1</th>\n",
       "      <td>Wot u 2 bitch?</td>\n",
       "      <td>HAM</td>\n",
       "    </tr>\n",
       "    <tr>\n",
       "      <th>2</th>\n",
       "      <td>Stupid.its possible</td>\n",
       "      <td>HAM</td>\n",
       "    </tr>\n",
       "    <tr>\n",
       "      <th>3</th>\n",
       "      <td>She told hr want posting chennai:)because i'm ...</td>\n",
       "      <td>HAM</td>\n",
       "    </tr>\n",
       "    <tr>\n",
       "      <th>4</th>\n",
       "      <td>Mobile Club: Choose top quality items mobile. ...</td>\n",
       "      <td>SPAM</td>\n",
       "    </tr>\n",
       "    <tr>\n",
       "      <th>5</th>\n",
       "      <td>When guys leaving?</td>\n",
       "      <td>HAM</td>\n",
       "    </tr>\n",
       "    <tr>\n",
       "      <th>6</th>\n",
       "      <td>He neva grumble sad lor... Hee... Buy tmr lor ...</td>\n",
       "      <td>HAM</td>\n",
       "    </tr>\n",
       "    <tr>\n",
       "      <th>7</th>\n",
       "      <td>Not able anything.</td>\n",
       "      <td>HAM</td>\n",
       "    </tr>\n",
       "    <tr>\n",
       "      <th>8</th>\n",
       "      <td>ÌÏ takin linear algebra today?</td>\n",
       "      <td>HAM</td>\n",
       "    </tr>\n",
       "    <tr>\n",
       "      <th>9</th>\n",
       "      <td>This weekend fine (an excuse much decorating)</td>\n",
       "      <td>HAM</td>\n",
       "    </tr>\n",
       "    <tr>\n",
       "      <th>10</th>\n",
       "      <td>Sorry I missed babe. I late slept in. I hope e...</td>\n",
       "      <td>HAM</td>\n",
       "    </tr>\n",
       "    <tr>\n",
       "      <th>11</th>\n",
       "      <td>Now project pa. After come.</td>\n",
       "      <td>HAM</td>\n",
       "    </tr>\n",
       "    <tr>\n",
       "      <th>12</th>\n",
       "      <td>Money wining number 946 wot next</td>\n",
       "      <td>SPAM</td>\n",
       "    </tr>\n",
       "    <tr>\n",
       "      <th>13</th>\n",
       "      <td>Sure, whenever show fuck &amp;gt;:(</td>\n",
       "      <td>HAM</td>\n",
       "    </tr>\n",
       "    <tr>\n",
       "      <th>14</th>\n",
       "      <td>That random saw old roomate campus. He graduated</td>\n",
       "      <td>HAM</td>\n",
       "    </tr>\n",
       "    <tr>\n",
       "      <th>15</th>\n",
       "      <td>Congrats! 2 mobile 3G Videophones R yours. cal...</td>\n",
       "      <td>SPAM</td>\n",
       "    </tr>\n",
       "    <tr>\n",
       "      <th>16</th>\n",
       "      <td>Men always needs beautiful, intelligent, carin...</td>\n",
       "      <td>HAM</td>\n",
       "    </tr>\n",
       "    <tr>\n",
       "      <th>17</th>\n",
       "      <td>That sucks. So got planned yo valentine? I yo ...</td>\n",
       "      <td>HAM</td>\n",
       "    </tr>\n",
       "    <tr>\n",
       "      <th>18</th>\n",
       "      <td>Just got part Nottingham - 3 hrs 63miles. Good...</td>\n",
       "      <td>HAM</td>\n",
       "    </tr>\n",
       "    <tr>\n",
       "      <th>19</th>\n",
       "      <td>What think one saying clearly. Ok leave need a...</td>\n",
       "      <td>HAM</td>\n",
       "    </tr>\n",
       "  </tbody>\n",
       "</table>\n",
       "</div>"
      ],
      "text/plain": [
       "                                                 Text Label\n",
       "0                               So wat's da decision?   HAM\n",
       "1                                      Wot u 2 bitch?   HAM\n",
       "2                                 Stupid.its possible   HAM\n",
       "3   She told hr want posting chennai:)because i'm ...   HAM\n",
       "4   Mobile Club: Choose top quality items mobile. ...  SPAM\n",
       "5                                  When guys leaving?   HAM\n",
       "6   He neva grumble sad lor... Hee... Buy tmr lor ...   HAM\n",
       "7                                  Not able anything.   HAM\n",
       "8                      ÌÏ takin linear algebra today?   HAM\n",
       "9       This weekend fine (an excuse much decorating)   HAM\n",
       "10  Sorry I missed babe. I late slept in. I hope e...   HAM\n",
       "11                        Now project pa. After come.   HAM\n",
       "12                   Money wining number 946 wot next  SPAM\n",
       "13                    Sure, whenever show fuck &gt;:(   HAM\n",
       "14   That random saw old roomate campus. He graduated   HAM\n",
       "15  Congrats! 2 mobile 3G Videophones R yours. cal...  SPAM\n",
       "16  Men always needs beautiful, intelligent, carin...   HAM\n",
       "17  That sucks. So got planned yo valentine? I yo ...   HAM\n",
       "18  Just got part Nottingham - 3 hrs 63miles. Good...   HAM\n",
       "19  What think one saying clearly. Ok leave need a...   HAM"
      ]
     },
     "execution_count": 249,
     "metadata": {},
     "output_type": "execute_result"
    }
   ],
   "source": [
    "clean_data.head(20)"
   ]
  },
  {
   "cell_type": "code",
   "execution_count": null,
   "metadata": {
    "collapsed": true
   },
   "outputs": [],
   "source": []
  }
 ],
 "metadata": {
  "anaconda-cloud": {},
  "kernelspec": {
   "display_name": "Python [conda root]",
   "language": "python",
   "name": "conda-root-py"
  },
  "language_info": {
   "codemirror_mode": {
    "name": "ipython",
    "version": 3
   },
   "file_extension": ".py",
   "mimetype": "text/x-python",
   "name": "python",
   "nbconvert_exporter": "python",
   "pygments_lexer": "ipython3",
   "version": "3.5.2"
  }
 },
 "nbformat": 4,
 "nbformat_minor": 1
}
