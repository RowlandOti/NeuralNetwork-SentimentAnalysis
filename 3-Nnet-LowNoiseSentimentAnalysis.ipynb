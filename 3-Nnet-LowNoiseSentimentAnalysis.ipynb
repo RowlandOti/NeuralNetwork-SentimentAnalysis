{
 "cells": [
  {
   "cell_type": "markdown",
   "metadata": {},
   "source": [
    "## Low Noise Neural Network"
   ]
  },
  {
   "cell_type": "code",
   "execution_count": 1,
   "metadata": {
    "collapsed": true
   },
   "outputs": [],
   "source": [
    "%matplotlib inline\n",
    "%config InlineBackend.figure_format = 'retina'\n",
    "\n",
    "from sklearn import preprocessing\n",
    "import matplotlib.pyplot as plt\n",
    "import numpy as np\n",
    "import pandas as pd\n",
    "from collections import Counter\n",
    "import pprint as pp\n",
    "import random\n",
    "import time\n",
    "import sys\n",
    "import os\n",
    "try:\n",
    "   import cPickle as cPickle\n",
    "except:\n",
    "   import pickle as cPickle"
   ]
  },
  {
   "cell_type": "markdown",
   "metadata": {},
   "source": [
    "### Load Data"
   ]
  },
  {
   "cell_type": "code",
   "execution_count": 2,
   "metadata": {
    "collapsed": true
   },
   "outputs": [],
   "source": [
    "data = pd.read_csv('dataset/processed_pos_neg_reviews.csv', encoding='latin-1')"
   ]
  },
  {
   "cell_type": "code",
   "execution_count": 3,
   "metadata": {
    "collapsed": false
   },
   "outputs": [
    {
     "data": {
      "text/html": [
       "<div>\n",
       "<table border=\"1\" class=\"dataframe\">\n",
       "  <thead>\n",
       "    <tr style=\"text-align: right;\">\n",
       "      <th></th>\n",
       "      <th>ProductId</th>\n",
       "      <th>Rating</th>\n",
       "      <th>Summary</th>\n",
       "      <th>Text</th>\n",
       "      <th>Label</th>\n",
       "    </tr>\n",
       "  </thead>\n",
       "  <tbody>\n",
       "    <tr>\n",
       "      <th>0</th>\n",
       "      <td>B004779XNW</td>\n",
       "      <td>5</td>\n",
       "      <td>Best K cup Coffee</td>\n",
       "      <td>I like almost all of the Green Mountain coffee...</td>\n",
       "      <td>POSITIVE</td>\n",
       "    </tr>\n",
       "    <tr>\n",
       "      <th>1</th>\n",
       "      <td>B00813GRG4</td>\n",
       "      <td>1</td>\n",
       "      <td>Not as Advertised</td>\n",
       "      <td>Product arrived labeled as Jumbo Salted Peanut...</td>\n",
       "      <td>NEGATIVE</td>\n",
       "    </tr>\n",
       "    <tr>\n",
       "      <th>2</th>\n",
       "      <td>B000JGLE0U</td>\n",
       "      <td>4</td>\n",
       "      <td>yummy cakes</td>\n",
       "      <td>These cakes were really good and small enough ...</td>\n",
       "      <td>POSITIVE</td>\n",
       "    </tr>\n",
       "    <tr>\n",
       "      <th>3</th>\n",
       "      <td>B000UA0QIQ</td>\n",
       "      <td>2</td>\n",
       "      <td>Cough Medicine</td>\n",
       "      <td>If you are looking for the secret ingredient i...</td>\n",
       "      <td>NEGATIVE</td>\n",
       "    </tr>\n",
       "    <tr>\n",
       "      <th>4</th>\n",
       "      <td>B001VJ0B0I</td>\n",
       "      <td>5</td>\n",
       "      <td>Read before you buy</td>\n",
       "      <td>First of all, it lists the ingredients right h...</td>\n",
       "      <td>POSITIVE</td>\n",
       "    </tr>\n",
       "  </tbody>\n",
       "</table>\n",
       "</div>"
      ],
      "text/plain": [
       "    ProductId  Rating              Summary  \\\n",
       "0  B004779XNW       5    Best K cup Coffee   \n",
       "1  B00813GRG4       1    Not as Advertised   \n",
       "2  B000JGLE0U       4          yummy cakes   \n",
       "3  B000UA0QIQ       2       Cough Medicine   \n",
       "4  B001VJ0B0I       5  Read before you buy   \n",
       "\n",
       "                                                Text     Label  \n",
       "0  I like almost all of the Green Mountain coffee...  POSITIVE  \n",
       "1  Product arrived labeled as Jumbo Salted Peanut...  NEGATIVE  \n",
       "2  These cakes were really good and small enough ...  POSITIVE  \n",
       "3  If you are looking for the secret ingredient i...  NEGATIVE  \n",
       "4  First of all, it lists the ingredients right h...  POSITIVE  "
      ]
     },
     "execution_count": 3,
     "metadata": {},
     "output_type": "execute_result"
    }
   ],
   "source": [
    "data.head()"
   ]
  },
  {
   "cell_type": "code",
   "execution_count": 4,
   "metadata": {
    "collapsed": false
   },
   "outputs": [
    {
     "data": {
      "text/plain": [
       "POSITIVE    82037\n",
       "NEGATIVE    82037\n",
       "Name: Label, dtype: int64"
      ]
     },
     "execution_count": 4,
     "metadata": {},
     "output_type": "execute_result"
    }
   ],
   "source": [
    "data.Label.value_counts()"
   ]
  },
  {
   "cell_type": "markdown",
   "metadata": {},
   "source": [
    "### Data Preparation"
   ]
  },
  {
   "cell_type": "markdown",
   "metadata": {},
   "source": [
    "Training Data"
   ]
  },
  {
   "cell_type": "code",
   "execution_count": 5,
   "metadata": {
    "collapsed": false
   },
   "outputs": [
    {
     "data": {
      "text/html": [
       "<div>\n",
       "<table border=\"1\" class=\"dataframe\">\n",
       "  <thead>\n",
       "    <tr style=\"text-align: right;\">\n",
       "      <th></th>\n",
       "      <th>ProductId</th>\n",
       "      <th>Rating</th>\n",
       "      <th>Summary</th>\n",
       "      <th>Text</th>\n",
       "      <th>Label</th>\n",
       "    </tr>\n",
       "  </thead>\n",
       "  <tbody>\n",
       "    <tr>\n",
       "      <th>0</th>\n",
       "      <td>B004779XNW</td>\n",
       "      <td>5</td>\n",
       "      <td>Best K cup Coffee</td>\n",
       "      <td>I like almost all of the Green Mountain coffee...</td>\n",
       "      <td>POSITIVE</td>\n",
       "    </tr>\n",
       "    <tr>\n",
       "      <th>1</th>\n",
       "      <td>B00813GRG4</td>\n",
       "      <td>1</td>\n",
       "      <td>Not as Advertised</td>\n",
       "      <td>Product arrived labeled as Jumbo Salted Peanut...</td>\n",
       "      <td>NEGATIVE</td>\n",
       "    </tr>\n",
       "    <tr>\n",
       "      <th>2</th>\n",
       "      <td>B000JGLE0U</td>\n",
       "      <td>4</td>\n",
       "      <td>yummy cakes</td>\n",
       "      <td>These cakes were really good and small enough ...</td>\n",
       "      <td>POSITIVE</td>\n",
       "    </tr>\n",
       "    <tr>\n",
       "      <th>3</th>\n",
       "      <td>B000UA0QIQ</td>\n",
       "      <td>2</td>\n",
       "      <td>Cough Medicine</td>\n",
       "      <td>If you are looking for the secret ingredient i...</td>\n",
       "      <td>NEGATIVE</td>\n",
       "    </tr>\n",
       "    <tr>\n",
       "      <th>4</th>\n",
       "      <td>B001VJ0B0I</td>\n",
       "      <td>5</td>\n",
       "      <td>Read before you buy</td>\n",
       "      <td>First of all, it lists the ingredients right h...</td>\n",
       "      <td>POSITIVE</td>\n",
       "    </tr>\n",
       "  </tbody>\n",
       "</table>\n",
       "</div>"
      ],
      "text/plain": [
       "    ProductId  Rating              Summary  \\\n",
       "0  B004779XNW       5    Best K cup Coffee   \n",
       "1  B00813GRG4       1    Not as Advertised   \n",
       "2  B000JGLE0U       4          yummy cakes   \n",
       "3  B000UA0QIQ       2       Cough Medicine   \n",
       "4  B001VJ0B0I       5  Read before you buy   \n",
       "\n",
       "                                                Text     Label  \n",
       "0  I like almost all of the Green Mountain coffee...  POSITIVE  \n",
       "1  Product arrived labeled as Jumbo Salted Peanut...  NEGATIVE  \n",
       "2  These cakes were really good and small enough ...  POSITIVE  \n",
       "3  If you are looking for the secret ingredient i...  NEGATIVE  \n",
       "4  First of all, it lists the ingredients right h...  POSITIVE  "
      ]
     },
     "execution_count": 5,
     "metadata": {},
     "output_type": "execute_result"
    }
   ],
   "source": [
    "# first 70000 reviews\n",
    "training_data = data[0:70000].reset_index(drop=True)\n",
    "training_data_length = training_data.shape[0]\n",
    "training_data.head()"
   ]
  },
  {
   "cell_type": "markdown",
   "metadata": {},
   "source": [
    "Shape of training data"
   ]
  },
  {
   "cell_type": "code",
   "execution_count": 6,
   "metadata": {
    "collapsed": false
   },
   "outputs": [
    {
     "name": "stdout",
     "output_type": "stream",
     "text": [
      "(70000, 5)\n",
      "(70000,)\n"
     ]
    }
   ],
   "source": [
    "pp.pprint(training_data.shape)\n",
    "pp.pprint(training_data.Label.shape)"
   ]
  },
  {
   "cell_type": "markdown",
   "metadata": {},
   "source": [
    "Validation Data"
   ]
  },
  {
   "cell_type": "code",
   "execution_count": 7,
   "metadata": {
    "collapsed": false
   },
   "outputs": [
    {
     "data": {
      "text/html": [
       "<div>\n",
       "<table border=\"1\" class=\"dataframe\">\n",
       "  <thead>\n",
       "    <tr style=\"text-align: right;\">\n",
       "      <th></th>\n",
       "      <th>ProductId</th>\n",
       "      <th>Rating</th>\n",
       "      <th>Summary</th>\n",
       "      <th>Text</th>\n",
       "      <th>Label</th>\n",
       "    </tr>\n",
       "  </thead>\n",
       "  <tbody>\n",
       "    <tr>\n",
       "      <th>0</th>\n",
       "      <td>B001LGGH40</td>\n",
       "      <td>4</td>\n",
       "      <td>Refreshing, but a tad too sweet</td>\n",
       "      <td>Nice refreshing beverage but with 120 cal a bi...</td>\n",
       "      <td>POSITIVE</td>\n",
       "    </tr>\n",
       "    <tr>\n",
       "      <th>1</th>\n",
       "      <td>B001VJ0B0I</td>\n",
       "      <td>2</td>\n",
       "      <td>Gross by-products, sugar, and food colorings--...</td>\n",
       "      <td>I completely agree that the ingredients for th...</td>\n",
       "      <td>NEGATIVE</td>\n",
       "    </tr>\n",
       "    <tr>\n",
       "      <th>2</th>\n",
       "      <td>B004U7QQFC</td>\n",
       "      <td>5</td>\n",
       "      <td>My favorite coffeee</td>\n",
       "      <td>Just goes to show everyone has different taste...</td>\n",
       "      <td>POSITIVE</td>\n",
       "    </tr>\n",
       "    <tr>\n",
       "      <th>3</th>\n",
       "      <td>B001VJ0B0I</td>\n",
       "      <td>2</td>\n",
       "      <td>Read the Ingredient List</td>\n",
       "      <td>Make sure you read the list of ingredients bef...</td>\n",
       "      <td>NEGATIVE</td>\n",
       "    </tr>\n",
       "    <tr>\n",
       "      <th>4</th>\n",
       "      <td>B000EFHST2</td>\n",
       "      <td>5</td>\n",
       "      <td>Yummy!</td>\n",
       "      <td>The fastest and easiest Hamburger Helper I've ...</td>\n",
       "      <td>POSITIVE</td>\n",
       "    </tr>\n",
       "  </tbody>\n",
       "</table>\n",
       "</div>"
      ],
      "text/plain": [
       "    ProductId  Rating                                            Summary  \\\n",
       "0  B001LGGH40       4                    Refreshing, but a tad too sweet   \n",
       "1  B001VJ0B0I       2  Gross by-products, sugar, and food colorings--...   \n",
       "2  B004U7QQFC       5                                My favorite coffeee   \n",
       "3  B001VJ0B0I       2                           Read the Ingredient List   \n",
       "4  B000EFHST2       5                                             Yummy!   \n",
       "\n",
       "                                                Text     Label  \n",
       "0  Nice refreshing beverage but with 120 cal a bi...  POSITIVE  \n",
       "1  I completely agree that the ingredients for th...  NEGATIVE  \n",
       "2  Just goes to show everyone has different taste...  POSITIVE  \n",
       "3  Make sure you read the list of ingredients bef...  NEGATIVE  \n",
       "4  The fastest and easiest Hamburger Helper I've ...  POSITIVE  "
      ]
     },
     "execution_count": 7,
     "metadata": {},
     "output_type": "execute_result"
    }
   ],
   "source": [
    "# middle 6019 reviews\n",
    "validation_data = data[70000:76019].reset_index(drop=True)\n",
    "validation_data_length = validation_data.shape[0]\n",
    "validation_data.head()"
   ]
  },
  {
   "cell_type": "markdown",
   "metadata": {},
   "source": [
    "Shape of validation data"
   ]
  },
  {
   "cell_type": "code",
   "execution_count": 8,
   "metadata": {
    "collapsed": false
   },
   "outputs": [
    {
     "name": "stdout",
     "output_type": "stream",
     "text": [
      "(6019, 5)\n",
      "(6019,)\n"
     ]
    }
   ],
   "source": [
    "pp.pprint(validation_data.shape)\n",
    "pp.pprint(validation_data.Label.shape)"
   ]
  },
  {
   "cell_type": "markdown",
   "metadata": {},
   "source": [
    "Testing Data"
   ]
  },
  {
   "cell_type": "code",
   "execution_count": 9,
   "metadata": {
    "collapsed": false
   },
   "outputs": [
    {
     "data": {
      "text/html": [
       "<div>\n",
       "<table border=\"1\" class=\"dataframe\">\n",
       "  <thead>\n",
       "    <tr style=\"text-align: right;\">\n",
       "      <th></th>\n",
       "      <th>ProductId</th>\n",
       "      <th>Rating</th>\n",
       "      <th>Summary</th>\n",
       "      <th>Text</th>\n",
       "      <th>Label</th>\n",
       "    </tr>\n",
       "  </thead>\n",
       "  <tbody>\n",
       "    <tr>\n",
       "      <th>0</th>\n",
       "      <td>B003NV2IG2</td>\n",
       "      <td>2</td>\n",
       "      <td>Inconsistent Taste</td>\n",
       "      <td>I first tasted Annie Chun's seaweed three year...</td>\n",
       "      <td>NEGATIVE</td>\n",
       "    </tr>\n",
       "    <tr>\n",
       "      <th>1</th>\n",
       "      <td>B000ODH4BG</td>\n",
       "      <td>5</td>\n",
       "      <td>Not meant to be a meal, but a terrific filler</td>\n",
       "      <td>This soup is great tasting.  It does contain q...</td>\n",
       "      <td>POSITIVE</td>\n",
       "    </tr>\n",
       "    <tr>\n",
       "      <th>2</th>\n",
       "      <td>B003NV2IG2</td>\n",
       "      <td>2</td>\n",
       "      <td>Nothing like sushi, that's for sure</td>\n",
       "      <td>For me, these were a total bust. The texture s...</td>\n",
       "      <td>NEGATIVE</td>\n",
       "    </tr>\n",
       "    <tr>\n",
       "      <th>3</th>\n",
       "      <td>B005GIF5VU</td>\n",
       "      <td>4</td>\n",
       "      <td>The only treats my cat will eat</td>\n",
       "      <td>So my Mom often buys bags of kitty treats for ...</td>\n",
       "      <td>POSITIVE</td>\n",
       "    </tr>\n",
       "    <tr>\n",
       "      <th>4</th>\n",
       "      <td>B003NV2IG2</td>\n",
       "      <td>2</td>\n",
       "      <td>Mediocre for Seaweed Snacking</td>\n",
       "      <td>This is one of many varieties of seaweed snack...</td>\n",
       "      <td>NEGATIVE</td>\n",
       "    </tr>\n",
       "  </tbody>\n",
       "</table>\n",
       "</div>"
      ],
      "text/plain": [
       "    ProductId  Rating                                        Summary  \\\n",
       "0  B003NV2IG2       2                             Inconsistent Taste   \n",
       "1  B000ODH4BG       5  Not meant to be a meal, but a terrific filler   \n",
       "2  B003NV2IG2       2            Nothing like sushi, that's for sure   \n",
       "3  B005GIF5VU       4                The only treats my cat will eat   \n",
       "4  B003NV2IG2       2                  Mediocre for Seaweed Snacking   \n",
       "\n",
       "                                                Text     Label  \n",
       "0  I first tasted Annie Chun's seaweed three year...  NEGATIVE  \n",
       "1  This soup is great tasting.  It does contain q...  POSITIVE  \n",
       "2  For me, these were a total bust. The texture s...  NEGATIVE  \n",
       "3  So my Mom often buys bags of kitty treats for ...  POSITIVE  \n",
       "4  This is one of many varieties of seaweed snack...  NEGATIVE  "
      ]
     },
     "execution_count": 9,
     "metadata": {},
     "output_type": "execute_result"
    }
   ],
   "source": [
    "# last 6018 reviews\n",
    "test_data = data[76019:82037].reset_index(drop=True)\n",
    "test_data_length = test_data.shape[0]\n",
    "test_data.head()"
   ]
  },
  {
   "cell_type": "markdown",
   "metadata": {},
   "source": [
    "Shape of testing data"
   ]
  },
  {
   "cell_type": "code",
   "execution_count": 10,
   "metadata": {
    "collapsed": false
   },
   "outputs": [
    {
     "name": "stdout",
     "output_type": "stream",
     "text": [
      "(6018, 5)\n",
      "(6018,)\n"
     ]
    }
   ],
   "source": [
    "pp.pprint(test_data.shape)\n",
    "pp.pprint(test_data.Label.shape)"
   ]
  },
  {
   "cell_type": "markdown",
   "metadata": {},
   "source": [
    "#### Theory Validation"
   ]
  },
  {
   "cell_type": "code",
   "execution_count": 11,
   "metadata": {
    "collapsed": true
   },
   "outputs": [],
   "source": [
    "positive_counts = Counter()\n",
    "negative_counts = Counter()\n",
    "total_counts = Counter()\n",
    "positive_negative_ratios = Counter()"
   ]
  },
  {
   "cell_type": "code",
   "execution_count": 12,
   "metadata": {
    "collapsed": true
   },
   "outputs": [],
   "source": [
    "for i in range(training_data.shape[0]):\n",
    "    if(training_data.Label[i] == \"NEGATIVE\"):\n",
    "        for word in training_data.Text[i].split(\" \"):\n",
    "            negative_counts[word] += 1\n",
    "            total_counts[word] += 1\n",
    "    if(training_data.Label[i] == \"POSITIVE\"):\n",
    "        for word in training_data.Text[i].split(\" \"):\n",
    "            positive_counts[word] += 1\n",
    "            total_counts[word] += 1"
   ]
  },
  {
   "cell_type": "markdown",
   "metadata": {},
   "source": [
    " Most common words in positive reviews."
   ]
  },
  {
   "cell_type": "code",
   "execution_count": 13,
   "metadata": {
    "collapsed": false
   },
   "outputs": [
    {
     "name": "stdout",
     "output_type": "stream",
     "text": [
      "[('the', 96066),\n",
      " ('I', 82968),\n",
      " ('and', 75834),\n",
      " ('a', 71682),\n",
      " ('', 59808),\n",
      " ('to', 59166),\n",
      " ('of', 47005),\n",
      " ('is', 44519),\n",
      " ('it', 38075),\n",
      " ('for', 32320)]\n"
     ]
    }
   ],
   "source": [
    "# print first 10 most common words in positive reviews\n",
    "pp.pprint(positive_counts.most_common()[0:10])"
   ]
  },
  {
   "cell_type": "markdown",
   "metadata": {},
   "source": [
    " Most common words in negative reviews."
   ]
  },
  {
   "cell_type": "code",
   "execution_count": 14,
   "metadata": {
    "collapsed": false
   },
   "outputs": [
    {
     "name": "stdout",
     "output_type": "stream",
     "text": [
      "[('the', 124045),\n",
      " ('I', 102419),\n",
      " ('and', 75135),\n",
      " ('a', 69160),\n",
      " ('to', 68884),\n",
      " ('', 65592),\n",
      " ('of', 57132),\n",
      " ('it', 44415),\n",
      " ('is', 41260),\n",
      " ('this', 37592)]\n"
     ]
    }
   ],
   "source": [
    "# print first 10 words common in negative reviews\n",
    "pp.pprint(negative_counts.most_common()[0:10])"
   ]
  },
  {
   "cell_type": "markdown",
   "metadata": {},
   "source": [
    "It seems like words like **the**, **I** and **and** are some of the most frequent words in my dataset. However, they are **non-sentimental** words, hence are just noise. The frequency of a word is not a good indicator of the sentiment in a sentence, hence will have to come up with a better approach.\n",
    "\n",
    "A good approach would be to find the ratio of these words for both positive and negative reviews"
   ]
  },
  {
   "cell_type": "markdown",
   "metadata": {},
   "source": [
    "### Ratio of Frequency of a Word in Positive Reviews / Frequency of a Word in Negative Reviews"
   ]
  },
  {
   "cell_type": "code",
   "execution_count": 15,
   "metadata": {
    "collapsed": true
   },
   "outputs": [],
   "source": [
    "for word,count in list(total_counts.most_common()):\n",
    "    if(count > 100):\n",
    "        positive_negative_ratio = float(positive_counts[word]) / float(negative_counts[word]+1)\n",
    "        positive_negative_ratios[word] = positive_negative_ratio\n",
    "\n",
    "for word,ratio in positive_negative_ratios.most_common():\n",
    "    if(ratio > 1):\n",
    "        positive_negative_ratios[word] = np.log(ratio)\n",
    "    else:\n",
    "        positive_negative_ratios[word] = -np.log((1/(ratio+0.001)))"
   ]
  },
  {
   "cell_type": "markdown",
   "metadata": {},
   "source": [
    "Words most frequently seen in a review with a \"POSITIVE\" label"
   ]
  },
  {
   "cell_type": "code",
   "execution_count": 16,
   "metadata": {
    "collapsed": false
   },
   "outputs": [
    {
     "name": "stdout",
     "output_type": "stream",
     "text": [
      "[('/>Highly', 4.6347289882296359),\n",
      " ('delicious!', 2.8371272433773522),\n",
      " ('Highly', 2.7273080177066245),\n",
      " ('Perfect', 2.7146947438208788),\n",
      " ('Excellent', 2.544498746990246),\n",
      " ('downside', 2.4541349911212467),\n",
      " ('amazing!', 2.2617630984737906),\n",
      " ('pleasantly', 2.2407096892759584),\n",
      " ('Great', 2.0373300563297092),\n",
      " ('beats', 2.0188169198634012)]\n"
     ]
    }
   ],
   "source": [
    "# first 10 words\n",
    "pp.pprint(positive_negative_ratios.most_common()[0:10])"
   ]
  },
  {
   "cell_type": "markdown",
   "metadata": {},
   "source": [
    "Words most frequently seen in a review with a \"NEGATIVE\" label"
   ]
  },
  {
   "cell_type": "code",
   "execution_count": 17,
   "metadata": {
    "collapsed": false
   },
   "outputs": [
    {
     "name": "stdout",
     "output_type": "stream",
     "text": [
      "[('NO<br', -6.9077552789821368),\n",
      " ('desk,', -4.299259050687561),\n",
      " ('deliberately', -3.9595188268977228),\n",
      " ('menadione', -3.5209466347720815),\n",
      " ('intentionally', -3.4833958767229474),\n",
      " ('garbage.', -3.4342372357403557),\n",
      " ('refund.', -3.25557390095137),\n",
      " ('nasty.', -3.2448429835246579),\n",
      " ('ripping', -3.2038896704313373),\n",
      " ('banned', -3.0692809615768031)]\n"
     ]
    }
   ],
   "source": [
    "# first 10 words\n",
    "pp.pprint(list(reversed(positive_negative_ratios.most_common()))[0:10])"
   ]
  },
  {
   "cell_type": "markdown",
   "metadata": {},
   "source": [
    "### Signal to Noise Ratio (S/N)"
   ]
  },
  {
   "cell_type": "markdown",
   "metadata": {},
   "source": [
    "Most of the words that contribute to the weights of our neural network are really neutral words that have no meaning to the whether a text is spam or not. For example most common words like `., !, !!, ?, the, and, to, this, that`. Because of that, it would really increase the efficiency of our network by eliminating their contribution. "
   ]
  },
  {
   "cell_type": "markdown",
   "metadata": {},
   "source": [
    "#### Transform Text into Numbers Using the Bag-of-Words Technique"
   ]
  },
  {
   "cell_type": "code",
   "execution_count": 18,
   "metadata": {
    "collapsed": false
   },
   "outputs": [],
   "source": [
    "vocab = set(total_counts.keys())\n",
    "vocab_size = len(vocab)"
   ]
  },
  {
   "cell_type": "markdown",
   "metadata": {},
   "source": [
    "Create the bag-of-words vocabulary vector"
   ]
  },
  {
   "cell_type": "code",
   "execution_count": 19,
   "metadata": {
    "collapsed": false
   },
   "outputs": [],
   "source": [
    "vocab_vector_column = np.zeros((1, vocab_size))"
   ]
  },
  {
   "cell_type": "markdown",
   "metadata": {},
   "source": [
    "All columns initialised to zero"
   ]
  },
  {
   "cell_type": "code",
   "execution_count": 20,
   "metadata": {
    "collapsed": false
   },
   "outputs": [
    {
     "name": "stdout",
     "output_type": "stream",
     "text": [
      "array([[ 0.,  0.,  0., ...,  0.,  0.,  0.]])\n"
     ]
    }
   ],
   "source": [
    "pp.pprint(vocab_vector_column)"
   ]
  },
  {
   "cell_type": "markdown",
   "metadata": {},
   "source": [
    "Size of our bag-of-words -which should be one row and as many columns as the no. of unique words."
   ]
  },
  {
   "cell_type": "code",
   "execution_count": 21,
   "metadata": {
    "collapsed": false
   },
   "outputs": [
    {
     "name": "stdout",
     "output_type": "stream",
     "text": [
      "(1, 182360)\n"
     ]
    }
   ],
   "source": [
    "pp.pprint(vocab_vector_column.shape)"
   ]
  },
  {
   "cell_type": "markdown",
   "metadata": {},
   "source": [
    "Now, let's create a dictionary that allows us to look at every word in our vocabulary and map it to the `vocab_vector_column`."
   ]
  },
  {
   "cell_type": "code",
   "execution_count": 22,
   "metadata": {
    "collapsed": true
   },
   "outputs": [],
   "source": [
    "#  Maps a word to its column in the vocab_vector\n",
    "word_column_dict = {}\n",
    "\n",
    "for i, word in enumerate(vocab):\n",
    "    # {key: value} is {word: column}\n",
    "    word_column_dict[word] = i"
   ]
  },
  {
   "cell_type": "markdown",
   "metadata": {},
   "source": [
    "Example:\n",
    "\n",
    "**word_column_dict**\n",
    "```python\n",
    "{\"horrible\" : 12345, \"disgusting\" : 3, \"defaced\" : 182925 ....}\n",
    "```\n",
    "\n",
    "**vocab_vector_column**\n",
    "```python\n",
    "vocab_vector_column[0][12345]\n",
    "```"
   ]
  },
  {
   "cell_type": "code",
   "execution_count": 23,
   "metadata": {
    "collapsed": false
   },
   "outputs": [
    {
     "data": {
      "text/plain": [
       "0.0"
      ]
     },
     "execution_count": 23,
     "metadata": {},
     "output_type": "execute_result"
    }
   ],
   "source": [
    "vocab_vector_column[0][word_column_dict[\"horrible\"]]"
   ]
  },
  {
   "cell_type": "markdown",
   "metadata": {},
   "source": [
    "#### Use function below to show count of various start words"
   ]
  },
  {
   "cell_type": "code",
   "execution_count": 24,
   "metadata": {
    "collapsed": true
   },
   "outputs": [],
   "source": [
    "def slice_dict(dict, pattern):\n",
    "    return {k:v for k,v in dict.items() if k.startswith(pattern)}"
   ]
  },
  {
   "cell_type": "markdown",
   "metadata": {},
   "source": [
    "For instance the exclamation mark(!), full-stop(.), spaces( ), question mark(?) e.t.c. From this we can be able to clearly see that there is a lot of noise in our dataset. We need to clean it up."
   ]
  },
  {
   "cell_type": "code",
   "execution_count": 25,
   "metadata": {
    "collapsed": false
   },
   "outputs": [
    {
     "name": "stdout",
     "output_type": "stream",
     "text": [
      "{'!': 76462,\n",
      " '!!': 95268,\n",
      " '!!!': 120087,\n",
      " '!!!!': 172753,\n",
      " '!!!!!': 41027,\n",
      " '!!!!!!': 129813,\n",
      " '!!!!!!!': 12085,\n",
      " '!!!!!!!!': 15775,\n",
      " '!!!!!!!!!': 32604,\n",
      " '!!!!!!!!!!!': 9664,\n",
      " '!!!!!!!!!!!!!!!': 79351,\n",
      " '!!!!!!!!!!!!!!!!!!!!!!!': 90974,\n",
      " '!!!!!!!!!!!<br': 53056,\n",
      " '!!!!!!!!!!<br': 9963,\n",
      " '!!!!!!!....': 18591,\n",
      " '!!!!!!!<br': 163774,\n",
      " '!!!!!!<br': 103401,\n",
      " '!!!!!<br': 15872,\n",
      " '!!!!!IMPORTANT': 160868,\n",
      " '!!!!<br': 1032,\n",
      " '!!!),': 37843,\n",
      " '!!!---style...mellow': 100913,\n",
      " '!!!.': 149982,\n",
      " '!!!..': 44657,\n",
      " '!!!<a': 14349,\n",
      " '!!!<br': 92001,\n",
      " '!!!THIS': 83827,\n",
      " '!!!The': 125029,\n",
      " '!!!aweful': 83018,\n",
      " '!!)': 28835,\n",
      " '!!).': 178148,\n",
      " '!!<br': 139396,\n",
      " '!!BUT!!': 73569,\n",
      " '!!IN': 115633,\n",
      " '!!Pretty': 139689,\n",
      " '!\"': 61795,\n",
      " '!#@*#!': 107889,\n",
      " '!)': 38555,\n",
      " '!..': 96756,\n",
      " '!...UPDATE...': 172215,\n",
      " '!<br': 93844,\n",
      " '!?': 86001,\n",
      " '!?!?!?!<br': 28598,\n",
      " '!@#%': 123084,\n",
      " '!Keep': 129327,\n",
      " '!Maybe': 165672,\n",
      " '!Nothing': 116340,\n",
      " '!She': 75859,\n",
      " '!Very': 22829}\n"
     ]
    }
   ],
   "source": [
    "pp.pprint(slice_dict(word_column_dict, \"!\"))"
   ]
  },
  {
   "cell_type": "code",
   "execution_count": 26,
   "metadata": {
    "collapsed": false
   },
   "outputs": [
    {
     "data": {
      "text/html": [
       "\n",
       "    <div class=\"bk-root\">\n",
       "        <a href=\"http://bokeh.pydata.org\" target=\"_blank\" class=\"bk-logo bk-logo-small bk-logo-notebook\"></a>\n",
       "        <span id=\"49ad2177-3305-4092-b86b-42c0dd0a5188\">Loading BokehJS ...</span>\n",
       "    </div>"
      ]
     },
     "metadata": {},
     "output_type": "display_data"
    },
    {
     "data": {
      "application/javascript": [
       "\n",
       "(function(global) {\n",
       "  function now() {\n",
       "    return new Date();\n",
       "  }\n",
       "\n",
       "  var force = true;\n",
       "\n",
       "  if (typeof (window._bokeh_onload_callbacks) === \"undefined\" || force === true) {\n",
       "    window._bokeh_onload_callbacks = [];\n",
       "    window._bokeh_is_loading = undefined;\n",
       "  }\n",
       "\n",
       "\n",
       "  \n",
       "  if (typeof (window._bokeh_timeout) === \"undefined\" || force === true) {\n",
       "    window._bokeh_timeout = Date.now() + 5000;\n",
       "    window._bokeh_failed_load = false;\n",
       "  }\n",
       "\n",
       "  var NB_LOAD_WARNING = {'data': {'text/html':\n",
       "     \"<div style='background-color: #fdd'>\\n\"+\n",
       "     \"<p>\\n\"+\n",
       "     \"BokehJS does not appear to have successfully loaded. If loading BokehJS from CDN, this \\n\"+\n",
       "     \"may be due to a slow or bad network connection. Possible fixes:\\n\"+\n",
       "     \"</p>\\n\"+\n",
       "     \"<ul>\\n\"+\n",
       "     \"<li>re-rerun `output_notebook()` to attempt to load from CDN again, or</li>\\n\"+\n",
       "     \"<li>use INLINE resources instead, as so:</li>\\n\"+\n",
       "     \"</ul>\\n\"+\n",
       "     \"<code>\\n\"+\n",
       "     \"from bokeh.resources import INLINE\\n\"+\n",
       "     \"output_notebook(resources=INLINE)\\n\"+\n",
       "     \"</code>\\n\"+\n",
       "     \"</div>\"}};\n",
       "\n",
       "  function display_loaded() {\n",
       "    if (window.Bokeh !== undefined) {\n",
       "      var el = document.getElementById(\"49ad2177-3305-4092-b86b-42c0dd0a5188\");\n",
       "      el.textContent = \"BokehJS \" + Bokeh.version + \" successfully loaded.\";\n",
       "    } else if (Date.now() < window._bokeh_timeout) {\n",
       "      setTimeout(display_loaded, 100)\n",
       "    }\n",
       "  }\n",
       "\n",
       "  function run_callbacks() {\n",
       "    window._bokeh_onload_callbacks.forEach(function(callback) { callback() });\n",
       "    delete window._bokeh_onload_callbacks\n",
       "    console.info(\"Bokeh: all callbacks have finished\");\n",
       "  }\n",
       "\n",
       "  function load_libs(js_urls, callback) {\n",
       "    window._bokeh_onload_callbacks.push(callback);\n",
       "    if (window._bokeh_is_loading > 0) {\n",
       "      console.log(\"Bokeh: BokehJS is being loaded, scheduling callback at\", now());\n",
       "      return null;\n",
       "    }\n",
       "    if (js_urls == null || js_urls.length === 0) {\n",
       "      run_callbacks();\n",
       "      return null;\n",
       "    }\n",
       "    console.log(\"Bokeh: BokehJS not loaded, scheduling load and callback at\", now());\n",
       "    window._bokeh_is_loading = js_urls.length;\n",
       "    for (var i = 0; i < js_urls.length; i++) {\n",
       "      var url = js_urls[i];\n",
       "      var s = document.createElement('script');\n",
       "      s.src = url;\n",
       "      s.async = false;\n",
       "      s.onreadystatechange = s.onload = function() {\n",
       "        window._bokeh_is_loading--;\n",
       "        if (window._bokeh_is_loading === 0) {\n",
       "          console.log(\"Bokeh: all BokehJS libraries loaded\");\n",
       "          run_callbacks()\n",
       "        }\n",
       "      };\n",
       "      s.onerror = function() {\n",
       "        console.warn(\"failed to load library \" + url);\n",
       "      };\n",
       "      console.log(\"Bokeh: injecting script tag for BokehJS library: \", url);\n",
       "      document.getElementsByTagName(\"head\")[0].appendChild(s);\n",
       "    }\n",
       "  };var element = document.getElementById(\"49ad2177-3305-4092-b86b-42c0dd0a5188\");\n",
       "  if (element == null) {\n",
       "    console.log(\"Bokeh: ERROR: autoload.js configured with elementid '49ad2177-3305-4092-b86b-42c0dd0a5188' but no matching script tag was found. \")\n",
       "    return false;\n",
       "  }\n",
       "\n",
       "  var js_urls = [\"https://cdn.pydata.org/bokeh/release/bokeh-0.12.5.min.js\", \"https://cdn.pydata.org/bokeh/release/bokeh-widgets-0.12.5.min.js\"];\n",
       "\n",
       "  var inline_js = [\n",
       "    function(Bokeh) {\n",
       "      Bokeh.set_log_level(\"info\");\n",
       "    },\n",
       "    \n",
       "    function(Bokeh) {\n",
       "      \n",
       "    },\n",
       "    \n",
       "    function(Bokeh) {\n",
       "      \n",
       "      document.getElementById(\"49ad2177-3305-4092-b86b-42c0dd0a5188\").textContent = \"BokehJS is loading...\";\n",
       "    },\n",
       "    function(Bokeh) {\n",
       "      console.log(\"Bokeh: injecting CSS: https://cdn.pydata.org/bokeh/release/bokeh-0.12.5.min.css\");\n",
       "      Bokeh.embed.inject_css(\"https://cdn.pydata.org/bokeh/release/bokeh-0.12.5.min.css\");\n",
       "      console.log(\"Bokeh: injecting CSS: https://cdn.pydata.org/bokeh/release/bokeh-widgets-0.12.5.min.css\");\n",
       "      Bokeh.embed.inject_css(\"https://cdn.pydata.org/bokeh/release/bokeh-widgets-0.12.5.min.css\");\n",
       "    }\n",
       "  ];\n",
       "\n",
       "  function run_inline_js() {\n",
       "    \n",
       "    if ((window.Bokeh !== undefined) || (force === true)) {\n",
       "      for (var i = 0; i < inline_js.length; i++) {\n",
       "        inline_js[i](window.Bokeh);\n",
       "      }if (force === true) {\n",
       "        display_loaded();\n",
       "      }} else if (Date.now() < window._bokeh_timeout) {\n",
       "      setTimeout(run_inline_js, 100);\n",
       "    } else if (!window._bokeh_failed_load) {\n",
       "      console.log(\"Bokeh: BokehJS failed to load within specified timeout.\");\n",
       "      window._bokeh_failed_load = true;\n",
       "    } else if (force !== true) {\n",
       "      var cell = $(document.getElementById(\"49ad2177-3305-4092-b86b-42c0dd0a5188\")).parents('.cell').data().cell;\n",
       "      cell.output_area.append_execute_result(NB_LOAD_WARNING)\n",
       "    }\n",
       "\n",
       "  }\n",
       "\n",
       "  if (window._bokeh_is_loading === 0) {\n",
       "    console.log(\"Bokeh: BokehJS loaded, going straight to plotting\");\n",
       "    run_inline_js();\n",
       "  } else {\n",
       "    load_libs(js_urls, function() {\n",
       "      console.log(\"Bokeh: BokehJS plotting callback run at\", now());\n",
       "      run_inline_js();\n",
       "    });\n",
       "  }\n",
       "}(this));"
      ]
     },
     "metadata": {},
     "output_type": "display_data"
    }
   ],
   "source": [
    "from bokeh.models import ColumnDataSource, LabelSet\n",
    "from bokeh.plotting import figure, show, output_file\n",
    "from bokeh.io import output_notebook\n",
    "output_notebook()"
   ]
  },
  {
   "cell_type": "markdown",
   "metadata": {},
   "source": [
    "Look at the distribution below, where these words (the middle of our distribution) are just noise being added to our network, and in the process reducing the efficiency. "
   ]
  },
  {
   "cell_type": "code",
   "execution_count": 27,
   "metadata": {
    "collapsed": false
   },
   "outputs": [
    {
     "data": {
      "text/html": [
       "\n",
       "\n",
       "    <div class=\"bk-root\">\n",
       "        <div class=\"bk-plotdiv\" id=\"a509dd29-471a-42db-8a8a-ac3559edc41d\"></div>\n",
       "    </div>\n",
       "<script type=\"text/javascript\">\n",
       "  \n",
       "  (function(global) {\n",
       "    function now() {\n",
       "      return new Date();\n",
       "    }\n",
       "  \n",
       "    var force = false;\n",
       "  \n",
       "    if (typeof (window._bokeh_onload_callbacks) === \"undefined\" || force === true) {\n",
       "      window._bokeh_onload_callbacks = [];\n",
       "      window._bokeh_is_loading = undefined;\n",
       "    }\n",
       "  \n",
       "  \n",
       "    \n",
       "    if (typeof (window._bokeh_timeout) === \"undefined\" || force === true) {\n",
       "      window._bokeh_timeout = Date.now() + 0;\n",
       "      window._bokeh_failed_load = false;\n",
       "    }\n",
       "  \n",
       "    var NB_LOAD_WARNING = {'data': {'text/html':\n",
       "       \"<div style='background-color: #fdd'>\\n\"+\n",
       "       \"<p>\\n\"+\n",
       "       \"BokehJS does not appear to have successfully loaded. If loading BokehJS from CDN, this \\n\"+\n",
       "       \"may be due to a slow or bad network connection. Possible fixes:\\n\"+\n",
       "       \"</p>\\n\"+\n",
       "       \"<ul>\\n\"+\n",
       "       \"<li>re-rerun `output_notebook()` to attempt to load from CDN again, or</li>\\n\"+\n",
       "       \"<li>use INLINE resources instead, as so:</li>\\n\"+\n",
       "       \"</ul>\\n\"+\n",
       "       \"<code>\\n\"+\n",
       "       \"from bokeh.resources import INLINE\\n\"+\n",
       "       \"output_notebook(resources=INLINE)\\n\"+\n",
       "       \"</code>\\n\"+\n",
       "       \"</div>\"}};\n",
       "  \n",
       "    function display_loaded() {\n",
       "      if (window.Bokeh !== undefined) {\n",
       "        var el = document.getElementById(\"a509dd29-471a-42db-8a8a-ac3559edc41d\");\n",
       "        el.textContent = \"BokehJS \" + Bokeh.version + \" successfully loaded.\";\n",
       "      } else if (Date.now() < window._bokeh_timeout) {\n",
       "        setTimeout(display_loaded, 100)\n",
       "      }\n",
       "    }\n",
       "  \n",
       "    function run_callbacks() {\n",
       "      window._bokeh_onload_callbacks.forEach(function(callback) { callback() });\n",
       "      delete window._bokeh_onload_callbacks\n",
       "      console.info(\"Bokeh: all callbacks have finished\");\n",
       "    }\n",
       "  \n",
       "    function load_libs(js_urls, callback) {\n",
       "      window._bokeh_onload_callbacks.push(callback);\n",
       "      if (window._bokeh_is_loading > 0) {\n",
       "        console.log(\"Bokeh: BokehJS is being loaded, scheduling callback at\", now());\n",
       "        return null;\n",
       "      }\n",
       "      if (js_urls == null || js_urls.length === 0) {\n",
       "        run_callbacks();\n",
       "        return null;\n",
       "      }\n",
       "      console.log(\"Bokeh: BokehJS not loaded, scheduling load and callback at\", now());\n",
       "      window._bokeh_is_loading = js_urls.length;\n",
       "      for (var i = 0; i < js_urls.length; i++) {\n",
       "        var url = js_urls[i];\n",
       "        var s = document.createElement('script');\n",
       "        s.src = url;\n",
       "        s.async = false;\n",
       "        s.onreadystatechange = s.onload = function() {\n",
       "          window._bokeh_is_loading--;\n",
       "          if (window._bokeh_is_loading === 0) {\n",
       "            console.log(\"Bokeh: all BokehJS libraries loaded\");\n",
       "            run_callbacks()\n",
       "          }\n",
       "        };\n",
       "        s.onerror = function() {\n",
       "          console.warn(\"failed to load library \" + url);\n",
       "        };\n",
       "        console.log(\"Bokeh: injecting script tag for BokehJS library: \", url);\n",
       "        document.getElementsByTagName(\"head\")[0].appendChild(s);\n",
       "      }\n",
       "    };var element = document.getElementById(\"a509dd29-471a-42db-8a8a-ac3559edc41d\");\n",
       "    if (element == null) {\n",
       "      console.log(\"Bokeh: ERROR: autoload.js configured with elementid 'a509dd29-471a-42db-8a8a-ac3559edc41d' but no matching script tag was found. \")\n",
       "      return false;\n",
       "    }\n",
       "  \n",
       "    var js_urls = [];\n",
       "  \n",
       "    var inline_js = [\n",
       "      function(Bokeh) {\n",
       "        (function() {\n",
       "          var fn = function() {\n",
       "            var docs_json = {\"6fc12042-b440-485c-80a6-ad1246510170\":{\"roots\":{\"references\":[{\"attributes\":{\"callback\":null,\"column_names\":[\"left\",\"right\",\"top\"],\"data\":{\"left\":{\"__ndarray__\":\"oP+PmYqhG8DKTn6rWCsbwPSdbL0mtRrAHu1az/Q+GsBIPEnhwsgZwHOLN/OQUhnAndolBV/cGMDHKRQXLWYYwPF4Ain77xfAG8jwOsl5F8BFF99MlwMXwHBmzV5ljRbAmrW7cDMXFsDEBKqCAaEVwO5TmJTPKhXAGKOGpp20FMBC8nS4az4UwGxBY8o5yBPAlpBR3AdSE8DA3z/u1dsSwOouLgCkZRLAFH4cEnLvEcA/zQokQHkRwGkc+TUOAxHAk2vnR9yMEMC9utVZqhYQwM4TiNfwQA/AI7Jk+4xUDsB3UEEfKWgNwMvuHUPFewzAII36ZmGPC8B0K9eK/aIKwMjJs66ZtgnAHGiQ0jXKCMBwBm320d0HwMSkSRpu8QbAGEMmPgoFBsBu4QJiphgFwMJ/34VCLATAFh68qd4/A8BqvJjNelMCwL5adfEWZwHAEvlRFbN6AMDMLl1ynhz/v3hrFrrWQ/2/IKjPAQ9r+7/I5IhJR5L5v3AhQpF/ufe/GF772Lfg9b/AmrQg8Af0v2jXbWgoL/K/EBQnsGBW8L9wocDvMfvsv8gaM3+iSem/GJSlDhOY5b9oDRieg+bhv3ANFVvoady/EAD6eckG1b9g5b0xVUfLv0CVD98uArm/AIBylTIpkj/AauQUZAvBP4CFGteh0c8/IFCozO9L1z+AXcOtDq/eP3A1b8cWCeM/ILz8N6a65j/QQoqoNWzqP4DJFxnFHe4/FKjSRKrn8D9waxn9ccDyP8guYLU5mfQ/IPKmbQFy9j9wte0lyUr4P8h4NN6QI/o/IDx7llj8+z94/8FOINX9P9DCCAforf8/FMOn31fDAEDAJMu7u68BQGyG7pcfnAJAGOgRdIOIA0DESTVQ53QEQHCrWCxLYQVAHA18CK9NBkDIbp/kEjoHQHTQwsB2JghAIDLmnNoSCUDIkwl5Pv8JQHT1LFWi6wpAIFdQMQbYC0DMuHMNasQMQHgal+nNsA1AJHy6xTGdDkDQ3d2hlYkPQL6fAL/8OhBAlFASrS6xEEBqASSbYCcRQECyNYmSnRFAFmNHd8QTEkA=\",\"dtype\":\"float64\",\"shape\":[100]},\"right\":{\"__ndarray__\":\"yk5+q1grG8D0nWy9JrUawB7tWs/0PhrASDxJ4cLIGcBzizfzkFIZwJ3aJQVf3BjAxykUFy1mGMDxeAIp++8XwBvI8DrJeRfARRffTJcDF8BwZs1eZY0WwJq1u3AzFxbAxASqggGhFcDuU5iUzyoVwBijhqadtBTAQvJ0uGs+FMBsQWPKOcgTwJaQUdwHUhPAwN8/7tXbEsDqLi4ApGUSwBR+HBJy7xHAP80KJEB5EcBpHPk1DgMRwJNr50fcjBDAvbrVWaoWEMDOE4jX8EAPwCOyZPuMVA7Ad1BBHyloDcDL7h1DxXsMwCCN+mZhjwvAdCvXiv2iCsDIybOumbYJwBxokNI1ygjAcAZt9tHdB8DEpEkabvEGwBhDJj4KBQbAbuECYqYYBcDCf9+FQiwEwBYevKnePwPAaryYzXpTAsC+WnXxFmcBwBL5URWzegDAzC5dcp4c/794axa61kP9vyCozwEPa/u/yOSISUeS+b9wIUKRf7n3vxhe+9i34PW/wJq0IPAH9L9o121oKC/yvxAUJ7BgVvC/cKHA7zH77L/IGjN/oknpvxiUpQ4TmOW/aA0YnoPm4b9wDRVb6GncvxAA+nnJBtW/YOW9MVVHy79AlQ/fLgK5vwCAcpUyKZI/wGrkFGQLwT+AhRrXodHPPyBQqMzvS9c/gF3DrQ6v3j9wNW/HFgnjPyC8/DemuuY/0EKKqDVs6j+AyRcZxR3uPxSo0kSq5/A/cGsZ/XHA8j/ILmC1OZn0PyDypm0BcvY/cLXtJclK+D/IeDTekCP6PyA8e5ZY/Ps/eP/BTiDV/T/QwggH6K3/PxTDp99XwwBAwCTLu7uvAUBshu6XH5wCQBjoEXSDiANAxEk1UOd0BEBwq1gsS2EFQBwNfAivTQZAyG6f5BI6B0B00MLAdiYIQCAy5pzaEglAyJMJeT7/CUB09SxVousKQCBXUDEG2AtAzLhzDWrEDEB4GpfpzbANQCR8usUxnQ5A0N3doZWJD0C+nwC//DoQQJRQEq0usRBAagEkm2AnEUBAsjWJkp0RQBZjR3fEExJA7BNZZfaJEkA=\",\"dtype\":\"float64\",\"shape\":[100]},\"top\":{\"__ndarray__\":\"CsUIuhrrYD8AAAAAAAAAAAAAAAAAAAAAAAAAAAAAAAAAAAAAAAAAAAAAAAAAAAAAAAAAAAAAAAAAAAAAAAAAAAAAAAAAAAAAAAAAAAAAAAAAAAAAAAAAAAAAAAAAAAAAAAAAAAAAAAAAAAAAAAAAAAAAAAAAAAAAAAAAAAAAAAAAAAAAAAAAAAAAAAAAAAAAAAAAAAAAAAAAAAAAAAAAAAAAAAAAAAAAAAAAAAAAAAAKxQi6GutgPwAAAAAAAAAAAAAAAAAAAAAKxQi6GutgPwAAAAAAAAAAAAAAAAAAAAAAAAAAAAAAABzFCLoa63A/CsUIuhrrYD8KxQi6GutwPwrFCLoa62A/CsUIuhrrcD8KxQi6GutwP0z2imjhJYU/xicNF6hgeT+PJw0XqGB5P6vdSRF+CJM/TPaKaOEllT/RWI/FbpuNP9FYj8Vum40/cnHQHNK4nz8vxQi6GuugP9+zrcJZb6o/MwvZj3NysT8KxQi6GuugPz6bbGv2Ubg/SisAR3kxvz8zC9mPc3LBP/ahIE9up8A/qhK/7xUUzT+ks5SERMnQPzXvvUZUKtM/0ViPxW6b3T/RWI/FbpvdP0oSprEAbuM/XjWOHK2x4z9SvlTWopXoPzikJobhYug/xFaJjvvf5T+r3UkRfgjjP8EZjBGjD98/jycNF6hg2T/qKucIZIvVP9+zrcJZb8o/Pptsa/ZRyD8I+n2Ysva6Pxm0rcJZb7o/RjxbPjqttT+PJw0XqGCpP48nDReoYKk//d1JEX4Ikz/uDsy/REOXP9FYj8Vum40/CsUIuhrrcD+PJw0XqGCJPwrFCLoa63A/AAAAAAAAAAAKxQi6GutwPwAAAAAAAAAACsUIuhrrcD8AAAAAAAAAAArFCLoa63A/CsUIuhrrYD8AAAAAAAAAAAAAAAAAAAAAAAAAAAAAAAAAAAAAAAAAAAAAAAAAAAAAAAAAAAAAAAAAAAAAAAAAAAAAAAAAAAAAAAAAAAAAAAAAAAAAAAAAAAAAAAAAAAAAAAAAAAAAAAAAAAAAAAAAAAAAAAAAAAAACsUIuhrrYD8=\",\"dtype\":\"float64\",\"shape\":[100]}}},\"id\":\"ba68e26a-fd72-4096-98e2-11b2b2ddadef\",\"type\":\"ColumnDataSource\"},{\"attributes\":{\"plot\":null,\"text\":\"Word Positive/Negative Affinity Distribution\"},\"id\":\"fdaa6d4d-ec2d-4b61-91ea-f9890824005a\",\"type\":\"Title\"},{\"attributes\":{},\"id\":\"8f639c3e-94af-4fed-8912-eb2be7cdbdb7\",\"type\":\"BasicTicker\"},{\"attributes\":{\"bottom\":{\"value\":0},\"fill_alpha\":{\"value\":0.1},\"fill_color\":{\"value\":\"#1f77b4\"},\"left\":{\"field\":\"left\"},\"line_alpha\":{\"value\":0.1},\"line_color\":{\"value\":\"#1f77b4\"},\"right\":{\"field\":\"right\"},\"top\":{\"field\":\"top\"}},\"id\":\"bcfb0322-5646-4318-b296-dc44e5bbd5bf\",\"type\":\"Quad\"},{\"attributes\":{\"plot\":{\"id\":\"7c1fd766-f34f-4e8c-b3b7-a550ffd8e944\",\"subtype\":\"Figure\",\"type\":\"Plot\"}},\"id\":\"9eb6693c-36b2-4d20-9fa7-3bf2e3630d1c\",\"type\":\"ResetTool\"},{\"attributes\":{\"plot\":{\"id\":\"7c1fd766-f34f-4e8c-b3b7-a550ffd8e944\",\"subtype\":\"Figure\",\"type\":\"Plot\"}},\"id\":\"512295b3-9b1c-461c-9e7a-09c6410b1ff4\",\"type\":\"WheelZoomTool\"},{\"attributes\":{},\"id\":\"6e994067-f03f-44b1-83c0-4f0b1e2f3c4f\",\"type\":\"BasicTicker\"},{\"attributes\":{\"callback\":null},\"id\":\"13140ece-6525-4e47-b504-66a7287762c4\",\"type\":\"DataRange1d\"},{\"attributes\":{\"active_drag\":\"auto\",\"active_scroll\":\"auto\",\"active_tap\":\"auto\",\"tools\":[{\"id\":\"0005a836-04c0-4d37-91f7-39f0e66b601d\",\"type\":\"PanTool\"},{\"id\":\"512295b3-9b1c-461c-9e7a-09c6410b1ff4\",\"type\":\"WheelZoomTool\"},{\"id\":\"9eb6693c-36b2-4d20-9fa7-3bf2e3630d1c\",\"type\":\"ResetTool\"},{\"id\":\"e50683ed-195c-4b33-bdb9-fe3a635b0124\",\"type\":\"SaveTool\"}]},\"id\":\"27b1d249-0fc1-42b9-afb6-29b55aa92efa\",\"type\":\"Toolbar\"},{\"attributes\":{\"data_source\":{\"id\":\"ba68e26a-fd72-4096-98e2-11b2b2ddadef\",\"type\":\"ColumnDataSource\"},\"glyph\":{\"id\":\"8c9b9f77-c7d4-42d2-a88a-b13e5e7d0f8d\",\"type\":\"Quad\"},\"hover_glyph\":null,\"muted_glyph\":null,\"nonselection_glyph\":{\"id\":\"bcfb0322-5646-4318-b296-dc44e5bbd5bf\",\"type\":\"Quad\"},\"selection_glyph\":null},\"id\":\"ebb88ce1-dd51-4cfb-b34e-b0ab25057a3c\",\"type\":\"GlyphRenderer\"},{\"attributes\":{\"below\":[{\"id\":\"c47a9856-aa34-484b-9373-3813f929fc48\",\"type\":\"LinearAxis\"}],\"left\":[{\"id\":\"e3906a2b-577d-4844-88a1-1460a9802326\",\"type\":\"LinearAxis\"}],\"renderers\":[{\"id\":\"c47a9856-aa34-484b-9373-3813f929fc48\",\"type\":\"LinearAxis\"},{\"id\":\"00756c0f-a469-48ea-9dd2-890cc50d0079\",\"type\":\"Grid\"},{\"id\":\"e3906a2b-577d-4844-88a1-1460a9802326\",\"type\":\"LinearAxis\"},{\"id\":\"3171fe0c-c4f4-4bd0-b9ca-557dd9bf013c\",\"type\":\"Grid\"},{\"id\":\"ebb88ce1-dd51-4cfb-b34e-b0ab25057a3c\",\"type\":\"GlyphRenderer\"}],\"title\":{\"id\":\"fdaa6d4d-ec2d-4b61-91ea-f9890824005a\",\"type\":\"Title\"},\"tool_events\":{\"id\":\"48c088a7-6c04-4aaf-ac5b-3e7c8e308eea\",\"type\":\"ToolEvents\"},\"toolbar\":{\"id\":\"27b1d249-0fc1-42b9-afb6-29b55aa92efa\",\"type\":\"Toolbar\"},\"toolbar_location\":\"above\",\"x_range\":{\"id\":\"5fc3598c-3e24-4ced-a348-346cefb50187\",\"type\":\"DataRange1d\"},\"y_range\":{\"id\":\"13140ece-6525-4e47-b504-66a7287762c4\",\"type\":\"DataRange1d\"}},\"id\":\"7c1fd766-f34f-4e8c-b3b7-a550ffd8e944\",\"subtype\":\"Figure\",\"type\":\"Plot\"},{\"attributes\":{},\"id\":\"77ccf6cb-1239-4206-b6c3-92512a445032\",\"type\":\"BasicTickFormatter\"},{\"attributes\":{\"formatter\":{\"id\":\"007b0e94-3e34-4ad6-9cf6-7ae260f402da\",\"type\":\"BasicTickFormatter\"},\"plot\":{\"id\":\"7c1fd766-f34f-4e8c-b3b7-a550ffd8e944\",\"subtype\":\"Figure\",\"type\":\"Plot\"},\"ticker\":{\"id\":\"8f639c3e-94af-4fed-8912-eb2be7cdbdb7\",\"type\":\"BasicTicker\"}},\"id\":\"c47a9856-aa34-484b-9373-3813f929fc48\",\"type\":\"LinearAxis\"},{\"attributes\":{},\"id\":\"007b0e94-3e34-4ad6-9cf6-7ae260f402da\",\"type\":\"BasicTickFormatter\"},{\"attributes\":{\"bottom\":{\"value\":0},\"fill_color\":{\"value\":\"#1f77b4\"},\"left\":{\"field\":\"left\"},\"line_color\":{\"value\":\"#555555\"},\"right\":{\"field\":\"right\"},\"top\":{\"field\":\"top\"}},\"id\":\"8c9b9f77-c7d4-42d2-a88a-b13e5e7d0f8d\",\"type\":\"Quad\"},{\"attributes\":{\"plot\":{\"id\":\"7c1fd766-f34f-4e8c-b3b7-a550ffd8e944\",\"subtype\":\"Figure\",\"type\":\"Plot\"}},\"id\":\"0005a836-04c0-4d37-91f7-39f0e66b601d\",\"type\":\"PanTool\"},{\"attributes\":{\"formatter\":{\"id\":\"77ccf6cb-1239-4206-b6c3-92512a445032\",\"type\":\"BasicTickFormatter\"},\"plot\":{\"id\":\"7c1fd766-f34f-4e8c-b3b7-a550ffd8e944\",\"subtype\":\"Figure\",\"type\":\"Plot\"},\"ticker\":{\"id\":\"6e994067-f03f-44b1-83c0-4f0b1e2f3c4f\",\"type\":\"BasicTicker\"}},\"id\":\"e3906a2b-577d-4844-88a1-1460a9802326\",\"type\":\"LinearAxis\"},{\"attributes\":{\"callback\":null},\"id\":\"5fc3598c-3e24-4ced-a348-346cefb50187\",\"type\":\"DataRange1d\"},{\"attributes\":{},\"id\":\"48c088a7-6c04-4aaf-ac5b-3e7c8e308eea\",\"type\":\"ToolEvents\"},{\"attributes\":{\"plot\":{\"id\":\"7c1fd766-f34f-4e8c-b3b7-a550ffd8e944\",\"subtype\":\"Figure\",\"type\":\"Plot\"},\"ticker\":{\"id\":\"8f639c3e-94af-4fed-8912-eb2be7cdbdb7\",\"type\":\"BasicTicker\"}},\"id\":\"00756c0f-a469-48ea-9dd2-890cc50d0079\",\"type\":\"Grid\"},{\"attributes\":{\"dimension\":1,\"plot\":{\"id\":\"7c1fd766-f34f-4e8c-b3b7-a550ffd8e944\",\"subtype\":\"Figure\",\"type\":\"Plot\"},\"ticker\":{\"id\":\"6e994067-f03f-44b1-83c0-4f0b1e2f3c4f\",\"type\":\"BasicTicker\"}},\"id\":\"3171fe0c-c4f4-4bd0-b9ca-557dd9bf013c\",\"type\":\"Grid\"},{\"attributes\":{\"plot\":{\"id\":\"7c1fd766-f34f-4e8c-b3b7-a550ffd8e944\",\"subtype\":\"Figure\",\"type\":\"Plot\"}},\"id\":\"e50683ed-195c-4b33-bdb9-fe3a635b0124\",\"type\":\"SaveTool\"}],\"root_ids\":[\"7c1fd766-f34f-4e8c-b3b7-a550ffd8e944\"]},\"title\":\"Bokeh Application\",\"version\":\"0.12.5\"}};\n",
       "            var render_items = [{\"docid\":\"6fc12042-b440-485c-80a6-ad1246510170\",\"elementid\":\"a509dd29-471a-42db-8a8a-ac3559edc41d\",\"modelid\":\"7c1fd766-f34f-4e8c-b3b7-a550ffd8e944\"}];\n",
       "            \n",
       "            Bokeh.embed.embed_items(docs_json, render_items);\n",
       "          };\n",
       "          if (document.readyState != \"loading\") fn();\n",
       "          else document.addEventListener(\"DOMContentLoaded\", fn);\n",
       "        })();\n",
       "      },\n",
       "      function(Bokeh) {\n",
       "      }\n",
       "    ];\n",
       "  \n",
       "    function run_inline_js() {\n",
       "      \n",
       "      if ((window.Bokeh !== undefined) || (force === true)) {\n",
       "        for (var i = 0; i < inline_js.length; i++) {\n",
       "          inline_js[i](window.Bokeh);\n",
       "        }if (force === true) {\n",
       "          display_loaded();\n",
       "        }} else if (Date.now() < window._bokeh_timeout) {\n",
       "        setTimeout(run_inline_js, 100);\n",
       "      } else if (!window._bokeh_failed_load) {\n",
       "        console.log(\"Bokeh: BokehJS failed to load within specified timeout.\");\n",
       "        window._bokeh_failed_load = true;\n",
       "      } else if (force !== true) {\n",
       "        var cell = $(document.getElementById(\"a509dd29-471a-42db-8a8a-ac3559edc41d\")).parents('.cell').data().cell;\n",
       "        cell.output_area.append_execute_result(NB_LOAD_WARNING)\n",
       "      }\n",
       "  \n",
       "    }\n",
       "  \n",
       "    if (window._bokeh_is_loading === 0) {\n",
       "      console.log(\"Bokeh: BokehJS loaded, going straight to plotting\");\n",
       "      run_inline_js();\n",
       "    } else {\n",
       "      load_libs(js_urls, function() {\n",
       "        console.log(\"Bokeh: BokehJS plotting callback run at\", now());\n",
       "        run_inline_js();\n",
       "      });\n",
       "    }\n",
       "  }(this));\n",
       "</script>"
      ]
     },
     "metadata": {},
     "output_type": "display_data"
    }
   ],
   "source": [
    "hist, edges = np.histogram(list(map(lambda x:x[1],positive_negative_ratios.most_common())), density=True, bins=100, normed=True)\n",
    "\n",
    "p = figure(tools=\"pan,wheel_zoom,reset,save\",\n",
    "           toolbar_location=\"above\",\n",
    "           title=\"Word Positive/Negative Affinity Distribution\")\n",
    "p.quad(top=hist, bottom=0, left=edges[:-1], right=edges[1:], line_color=\"#555555\")\n",
    "show(p)"
   ]
  },
  {
   "cell_type": "markdown",
   "metadata": {},
   "source": [
    "Given that we have a balanced dataset, we can see the abundance of naturally neutral words, the kind of words that are devoid of sentiment. But the classifier treats all words the same, and has to assign each word to either `POSITIVE` or `NEGATIVE`. So maybe otherwise neutral or meaningless words are being placed in either the `POSITIVE` or `NEGATIVE` class because the classifier doesn’t know what else to do. If this is the case, then the metrics should improve if we eliminate the neutral or meaningless words from the featuresets"
   ]
  },
  {
   "cell_type": "code",
   "execution_count": 28,
   "metadata": {
    "collapsed": true
   },
   "outputs": [],
   "source": [
    "word_frequency = Counter()\n",
    "\n",
    "for word, cnt in total_counts.most_common():\n",
    "    word_frequency[cnt] += 1"
   ]
  },
  {
   "cell_type": "code",
   "execution_count": 29,
   "metadata": {
    "collapsed": false
   },
   "outputs": [
    {
     "data": {
      "text/html": [
       "\n",
       "\n",
       "    <div class=\"bk-root\">\n",
       "        <div class=\"bk-plotdiv\" id=\"725fc327-4049-4fdc-87c7-c25c09ea61bc\"></div>\n",
       "    </div>\n",
       "<script type=\"text/javascript\">\n",
       "  \n",
       "  (function(global) {\n",
       "    function now() {\n",
       "      return new Date();\n",
       "    }\n",
       "  \n",
       "    var force = false;\n",
       "  \n",
       "    if (typeof (window._bokeh_onload_callbacks) === \"undefined\" || force === true) {\n",
       "      window._bokeh_onload_callbacks = [];\n",
       "      window._bokeh_is_loading = undefined;\n",
       "    }\n",
       "  \n",
       "  \n",
       "    \n",
       "    if (typeof (window._bokeh_timeout) === \"undefined\" || force === true) {\n",
       "      window._bokeh_timeout = Date.now() + 0;\n",
       "      window._bokeh_failed_load = false;\n",
       "    }\n",
       "  \n",
       "    var NB_LOAD_WARNING = {'data': {'text/html':\n",
       "       \"<div style='background-color: #fdd'>\\n\"+\n",
       "       \"<p>\\n\"+\n",
       "       \"BokehJS does not appear to have successfully loaded. If loading BokehJS from CDN, this \\n\"+\n",
       "       \"may be due to a slow or bad network connection. Possible fixes:\\n\"+\n",
       "       \"</p>\\n\"+\n",
       "       \"<ul>\\n\"+\n",
       "       \"<li>re-rerun `output_notebook()` to attempt to load from CDN again, or</li>\\n\"+\n",
       "       \"<li>use INLINE resources instead, as so:</li>\\n\"+\n",
       "       \"</ul>\\n\"+\n",
       "       \"<code>\\n\"+\n",
       "       \"from bokeh.resources import INLINE\\n\"+\n",
       "       \"output_notebook(resources=INLINE)\\n\"+\n",
       "       \"</code>\\n\"+\n",
       "       \"</div>\"}};\n",
       "  \n",
       "    function display_loaded() {\n",
       "      if (window.Bokeh !== undefined) {\n",
       "        var el = document.getElementById(\"725fc327-4049-4fdc-87c7-c25c09ea61bc\");\n",
       "        el.textContent = \"BokehJS \" + Bokeh.version + \" successfully loaded.\";\n",
       "      } else if (Date.now() < window._bokeh_timeout) {\n",
       "        setTimeout(display_loaded, 100)\n",
       "      }\n",
       "    }\n",
       "  \n",
       "    function run_callbacks() {\n",
       "      window._bokeh_onload_callbacks.forEach(function(callback) { callback() });\n",
       "      delete window._bokeh_onload_callbacks\n",
       "      console.info(\"Bokeh: all callbacks have finished\");\n",
       "    }\n",
       "  \n",
       "    function load_libs(js_urls, callback) {\n",
       "      window._bokeh_onload_callbacks.push(callback);\n",
       "      if (window._bokeh_is_loading > 0) {\n",
       "        console.log(\"Bokeh: BokehJS is being loaded, scheduling callback at\", now());\n",
       "        return null;\n",
       "      }\n",
       "      if (js_urls == null || js_urls.length === 0) {\n",
       "        run_callbacks();\n",
       "        return null;\n",
       "      }\n",
       "      console.log(\"Bokeh: BokehJS not loaded, scheduling load and callback at\", now());\n",
       "      window._bokeh_is_loading = js_urls.length;\n",
       "      for (var i = 0; i < js_urls.length; i++) {\n",
       "        var url = js_urls[i];\n",
       "        var s = document.createElement('script');\n",
       "        s.src = url;\n",
       "        s.async = false;\n",
       "        s.onreadystatechange = s.onload = function() {\n",
       "          window._bokeh_is_loading--;\n",
       "          if (window._bokeh_is_loading === 0) {\n",
       "            console.log(\"Bokeh: all BokehJS libraries loaded\");\n",
       "            run_callbacks()\n",
       "          }\n",
       "        };\n",
       "        s.onerror = function() {\n",
       "          console.warn(\"failed to load library \" + url);\n",
       "        };\n",
       "        console.log(\"Bokeh: injecting script tag for BokehJS library: \", url);\n",
       "        document.getElementsByTagName(\"head\")[0].appendChild(s);\n",
       "      }\n",
       "    };var element = document.getElementById(\"725fc327-4049-4fdc-87c7-c25c09ea61bc\");\n",
       "    if (element == null) {\n",
       "      console.log(\"Bokeh: ERROR: autoload.js configured with elementid '725fc327-4049-4fdc-87c7-c25c09ea61bc' but no matching script tag was found. \")\n",
       "      return false;\n",
       "    }\n",
       "  \n",
       "    var js_urls = [];\n",
       "  \n",
       "    var inline_js = [\n",
       "      function(Bokeh) {\n",
       "        (function() {\n",
       "          var fn = function() {\n",
       "            var docs_json = {\"70f25c07-b23a-4c3c-b286-e7d833c2f22d\":{\"roots\":{\"references\":[{\"attributes\":{\"plot\":{\"id\":\"6253f332-a93c-493f-a111-d02f8468a4f0\",\"subtype\":\"Figure\",\"type\":\"Plot\"}},\"id\":\"9753115d-2527-46a6-88da-2aa4e46aa42c\",\"type\":\"WheelZoomTool\"},{\"attributes\":{\"callback\":null},\"id\":\"a86c134e-d35e-4f0f-94cd-0c7887e8589d\",\"type\":\"DataRange1d\"},{\"attributes\":{\"plot\":{\"id\":\"6253f332-a93c-493f-a111-d02f8468a4f0\",\"subtype\":\"Figure\",\"type\":\"Plot\"}},\"id\":\"664a3b57-df87-4205-b579-6b139a68e3aa\",\"type\":\"ResetTool\"},{\"attributes\":{\"plot\":{\"id\":\"6253f332-a93c-493f-a111-d02f8468a4f0\",\"subtype\":\"Figure\",\"type\":\"Plot\"}},\"id\":\"f031ef97-f1da-4bc6-89d4-e5c9a253c918\",\"type\":\"PanTool\"},{\"attributes\":{\"plot\":{\"id\":\"6253f332-a93c-493f-a111-d02f8468a4f0\",\"subtype\":\"Figure\",\"type\":\"Plot\"},\"ticker\":{\"id\":\"367d533c-5df5-4853-a6a8-f31230f9f092\",\"type\":\"BasicTicker\"}},\"id\":\"9a0a7002-0a7e-4c4b-9718-f01b45b1214b\",\"type\":\"Grid\"},{\"attributes\":{},\"id\":\"62db23bd-967f-42fe-b653-90ccaa5f204d\",\"type\":\"ToolEvents\"},{\"attributes\":{},\"id\":\"994cd51f-c755-4a29-9d9b-45ea9c059efa\",\"type\":\"BasicTickFormatter\"},{\"attributes\":{},\"id\":\"762a0466-9f7c-45ee-aa95-5e56dc5014fd\",\"type\":\"BasicTicker\"},{\"attributes\":{},\"id\":\"8bfd19cb-5c4b-4600-97e5-e76515e5b676\",\"type\":\"BasicTickFormatter\"},{\"attributes\":{\"callback\":null},\"id\":\"c8edf912-2b58-4935-8033-3fd1f11d94e3\",\"type\":\"DataRange1d\"},{\"attributes\":{\"callback\":null,\"column_names\":[\"right\",\"left\",\"top\"],\"data\":{\"left\":{\"__ndarray__\":\"AAAAAAAA8D8+CtejcAGQQHsUrkfh/p9AXI/C9Sj+p0B7FK5H4fyvQM3MzMzM/bNAXI/C9Sj9t0DsUbgehfy7QHsUrkfh+79AhetRuJ79wUDNzMzMTP3DQBWuR+H6/MVAXI/C9aj8x0CkcD0KV/zJQOxRuB4F/MtAMzMzM7P7zUB7FK5HYfvPQOF6FK6H/dBAhetRuF790UApXI/CNf3SQM3MzMwM/dNAcT0K1+P81EAVrkfhuvzVQLgeheuR/NZAXI/C9Wj810AAAAAAQPzYQKRwPQoX/NlASOF6FO772kDsUbgexfvbQI/C9Sic+9xAMzMzM3P73UDXo3A9SvveQHsUrkch+99Aj8L1KHx94EDhehSuZ/3gQDMzMzNTfeFAhetRuD794UDXo3A9Kn3iQClcj8IV/eJAexSuRwF940DNzMzM7PzjQB+F61HYfORAcT0K18P85EDD9Shcr3zlQBWuR+Ga/OVAZmZmZoZ85kC4HoXrcfzmQArXo3BdfOdAXI/C9Uj850CuR+F6NHzoQAAAAAAg/OhAUrgehQt86UCkcD0K9/vpQPYoXI/ie+pASOF6FM776kCamZmZuXvrQOxRuB6l++tAPgrXo5B77ECPwvUofPvsQOF6FK5ne+1AMzMzM1P77UCF61G4PnvuQNejcD0q++5AKVyPwhV770B7FK5HAfvvQGZmZmZ2PfBAj8L1KGx98EC4HoXrYb3wQOF6FK5X/fBACtejcE098UAzMzMzQ33xQFyPwvU4vfFAhetRuC798UCuR+F6JD3yQNejcD0affJAAAAAABC98kApXI/CBf3yQFK4HoX7PPNAexSuR/F880CkcD0K57zzQM3MzMzc/PNA9ihcj9I89EAfhetRyHz0QEjhehS+vPRAcT0K17P89ECamZmZqTz1QMP1KFyffPVA7FG4HpW89UAVrkfhivz1QD4K16OAPPZAZmZmZnZ89kCPwvUobLz2QLgeheth/PZA4XoUrlc890AK16NwTXz3QDMzMzNDvPdAXI/C9Tj890CF61G4Ljz4QK5H4XokfPhA16NwPRq8+EA=\",\"dtype\":\"float64\",\"shape\":[100]},\"right\":{\"__ndarray__\":\"PgrXo3ABkEB7FK5H4f6fQFyPwvUo/qdAexSuR+H8r0DNzMzMzP2zQFyPwvUo/bdA7FG4HoX8u0B7FK5H4fu/QIXrUbie/cFAzczMzEz9w0AVrkfh+vzFQFyPwvWo/MdApHA9Clf8yUDsUbgeBfzLQDMzMzOz+81AexSuR2H7z0DhehSuh/3QQIXrUbhe/dFAKVyPwjX90kDNzMzMDP3TQHE9Ctfj/NRAFa5H4br81UC4HoXrkfzWQFyPwvVo/NdAAAAAAED82ECkcD0KF/zZQEjhehTu+9pA7FG4HsX720CPwvUonPvcQDMzMzNz+91A16NwPUr73kB7FK5HIfvfQI/C9Sh8feBA4XoUrmf94EAzMzMzU33hQIXrUbg+/eFA16NwPSp94kApXI/CFf3iQHsUrkcBfeNAzczMzOz840AfhetR2HzkQHE9CtfD/ORAw/UoXK985UAVrkfhmvzlQGZmZmaGfOZAuB6F63H85kAK16NwXXznQFyPwvVI/OdArkfhejR86EAAAAAAIPzoQFK4HoULfOlApHA9Cvf76UD2KFyP4nvqQEjhehTO++pAmpmZmbl760DsUbgepfvrQD4K16OQe+xAj8L1KHz77EDhehSuZ3vtQDMzMzNT++1AhetRuD577kDXo3A9KvvuQClcj8IVe+9AexSuRwH770BmZmZmdj3wQI/C9ShsffBAuB6F62G98EDhehSuV/3wQArXo3BNPfFAMzMzM0N98UBcj8L1OL3xQIXrUbgu/fFArkfheiQ98kDXo3A9Gn3yQAAAAAAQvfJAKVyPwgX98kBSuB6F+zzzQHsUrkfxfPNApHA9Cue880DNzMzM3PzzQPYoXI/SPPRAH4XrUch89EBI4XoUvrz0QHE9Ctez/PRAmpmZmak89UDD9Shcn3z1QOxRuB6VvPVAFa5H4Yr89UA+CtejgDz2QGZmZmZ2fPZAj8L1KGy89kC4HoXrYfz2QOF6FK5XPPdACtejcE1890AzMzMzQ7z3QFyPwvU4/PdAhetRuC48+ECuR+F6JHz4QNejcD0avPhAAAAAABD8+EA=\",\"dtype\":\"float64\",\"shape\":[100]},\"top\":{\"__ndarray__\":\"p4Lvi729Tz+F1lu+VMvHPoXWW75Uy7c+hNZbvlTLpz6E1lu+VMunPgAAAAAAAAAAAAAAAAAAAACH1lu+VMunPgAAAAAAAAAAAAAAAAAAAAAAAAAAAAAAAIzWW75Uy6c+AAAAAAAAAAAAAAAAAAAAAAAAAAAAAAAAAAAAAAAAAAAAAAAAAAAAAAAAAAAAAAAAAAAAAAAAAAAAAAAAAAAAAAAAAAAAAAAAAAAAAAAAAAAAAAAAAAAAAAAAAAAAAAAAAAAAAAAAAACB1lu+VMunPgAAAAAAAAAAAAAAAAAAAAAAAAAAAAAAAAAAAAAAAAAAAAAAAAAAAAAAAAAAAAAAAAAAAAAAAAAAAAAAAAAAAAAAAAAAAAAAAAAAAAAAAAAAAAAAAAAAAAAAAAAAAAAAAAAAAAAAAAAAAAAAAAAAAAAAAAAAAAAAAAAAAAAAAAAAAAAAAAAAAAAAAAAAAAAAAAAAAAAAAAAAAAAAAAAAAAAAAAAAAAAAAAAAAAAAAAAAAAAAAAAAAAAAAAAAAAAAAAAAAAAAAAAAAAAAAAAAAAAAAAAAAAAAAAAAAAAAAAAAAAAAAAAAAAAAAAAAAAAAAAAAAAAAAAAAAAAAAAAAAAAAAAAAAAAAAAAAAAAAAAAAAAAAAAAAAAAAAAAAAAAAAAAAAAAAAAAAAAAAAAAAAAAAAAAAAAAAAAAAAAAAAAAAAAAAAAAAAAAAAAAAAAAAAAAAAAAAAAAAAAAAAAAAAAAAAAAAAAAAAAAAAAAAAAAAAAAAAAAAAAAAAAAAAAAAAAAAAAAAAAAAAAAAAAAAAAAAAAAAAAAAAAAAAAAAAAAAAAAAAAAAAAAAAAAAAAAAAAAAAAAAAAAAAAAAAAAAAAAAAAAAAAAAAAAAAAAAAAAAAAAAAAAAAAAAAAAAAAAAAAAAAAAAAAAAAAAAAAAAAAAAAAAAAAAAAAAAAAAAAAAAAAAAAAAAAAAAAAAAAAAAAAAAAAAAAAAAAAAAAAAAAAAAAAAAAAAAAAAAAAAAAAAAAAAAAAAAAAAAAAAAAAAAAAAAAAAAAAAAgdZbvlTLpz4=\",\"dtype\":\"float64\",\"shape\":[100]}}},\"id\":\"1834fe94-0608-423a-8a9b-b6940c4569cd\",\"type\":\"ColumnDataSource\"},{\"attributes\":{\"bottom\":{\"value\":0},\"fill_color\":{\"value\":\"#1f77b4\"},\"left\":{\"field\":\"left\"},\"line_color\":{\"value\":\"#555555\"},\"right\":{\"field\":\"right\"},\"top\":{\"field\":\"top\"}},\"id\":\"0f02d0eb-5304-4491-b06c-82eeb87db040\",\"type\":\"Quad\"},{\"attributes\":{},\"id\":\"367d533c-5df5-4853-a6a8-f31230f9f092\",\"type\":\"BasicTicker\"},{\"attributes\":{\"dimension\":1,\"plot\":{\"id\":\"6253f332-a93c-493f-a111-d02f8468a4f0\",\"subtype\":\"Figure\",\"type\":\"Plot\"},\"ticker\":{\"id\":\"762a0466-9f7c-45ee-aa95-5e56dc5014fd\",\"type\":\"BasicTicker\"}},\"id\":\"846284ee-a5ad-4909-888d-b3cbb0af2c4e\",\"type\":\"Grid\"},{\"attributes\":{\"plot\":{\"id\":\"6253f332-a93c-493f-a111-d02f8468a4f0\",\"subtype\":\"Figure\",\"type\":\"Plot\"}},\"id\":\"f0255c44-7d02-4770-82da-ad16fc629885\",\"type\":\"SaveTool\"},{\"attributes\":{\"bottom\":{\"value\":0},\"fill_alpha\":{\"value\":0.1},\"fill_color\":{\"value\":\"#1f77b4\"},\"left\":{\"field\":\"left\"},\"line_alpha\":{\"value\":0.1},\"line_color\":{\"value\":\"#1f77b4\"},\"right\":{\"field\":\"right\"},\"top\":{\"field\":\"top\"}},\"id\":\"7e49d6a4-2162-454e-ba8f-f2fff4790e28\",\"type\":\"Quad\"},{\"attributes\":{\"below\":[{\"id\":\"efe05d28-d976-4897-bfc4-85fc2f450636\",\"type\":\"LinearAxis\"}],\"left\":[{\"id\":\"f265e92f-a2cf-46c4-a998-92f9df0db3b8\",\"type\":\"LinearAxis\"}],\"renderers\":[{\"id\":\"efe05d28-d976-4897-bfc4-85fc2f450636\",\"type\":\"LinearAxis\"},{\"id\":\"9a0a7002-0a7e-4c4b-9718-f01b45b1214b\",\"type\":\"Grid\"},{\"id\":\"f265e92f-a2cf-46c4-a998-92f9df0db3b8\",\"type\":\"LinearAxis\"},{\"id\":\"846284ee-a5ad-4909-888d-b3cbb0af2c4e\",\"type\":\"Grid\"},{\"id\":\"2ed4c8ab-2940-4d9f-8d2e-6b901c58f751\",\"type\":\"GlyphRenderer\"}],\"title\":{\"id\":\"ce98a13d-3b92-44c6-bdcb-81543d658021\",\"type\":\"Title\"},\"tool_events\":{\"id\":\"62db23bd-967f-42fe-b653-90ccaa5f204d\",\"type\":\"ToolEvents\"},\"toolbar\":{\"id\":\"43efa2c5-5866-43aa-a742-9a30b4797fdf\",\"type\":\"Toolbar\"},\"toolbar_location\":\"above\",\"x_range\":{\"id\":\"c8edf912-2b58-4935-8033-3fd1f11d94e3\",\"type\":\"DataRange1d\"},\"y_range\":{\"id\":\"a86c134e-d35e-4f0f-94cd-0c7887e8589d\",\"type\":\"DataRange1d\"}},\"id\":\"6253f332-a93c-493f-a111-d02f8468a4f0\",\"subtype\":\"Figure\",\"type\":\"Plot\"},{\"attributes\":{\"formatter\":{\"id\":\"994cd51f-c755-4a29-9d9b-45ea9c059efa\",\"type\":\"BasicTickFormatter\"},\"plot\":{\"id\":\"6253f332-a93c-493f-a111-d02f8468a4f0\",\"subtype\":\"Figure\",\"type\":\"Plot\"},\"ticker\":{\"id\":\"367d533c-5df5-4853-a6a8-f31230f9f092\",\"type\":\"BasicTicker\"}},\"id\":\"efe05d28-d976-4897-bfc4-85fc2f450636\",\"type\":\"LinearAxis\"},{\"attributes\":{\"data_source\":{\"id\":\"1834fe94-0608-423a-8a9b-b6940c4569cd\",\"type\":\"ColumnDataSource\"},\"glyph\":{\"id\":\"0f02d0eb-5304-4491-b06c-82eeb87db040\",\"type\":\"Quad\"},\"hover_glyph\":null,\"muted_glyph\":null,\"nonselection_glyph\":{\"id\":\"7e49d6a4-2162-454e-ba8f-f2fff4790e28\",\"type\":\"Quad\"},\"selection_glyph\":null},\"id\":\"2ed4c8ab-2940-4d9f-8d2e-6b901c58f751\",\"type\":\"GlyphRenderer\"},{\"attributes\":{\"plot\":null,\"text\":\"The frequency distribution of the words in our corpus\"},\"id\":\"ce98a13d-3b92-44c6-bdcb-81543d658021\",\"type\":\"Title\"},{\"attributes\":{\"formatter\":{\"id\":\"8bfd19cb-5c4b-4600-97e5-e76515e5b676\",\"type\":\"BasicTickFormatter\"},\"plot\":{\"id\":\"6253f332-a93c-493f-a111-d02f8468a4f0\",\"subtype\":\"Figure\",\"type\":\"Plot\"},\"ticker\":{\"id\":\"762a0466-9f7c-45ee-aa95-5e56dc5014fd\",\"type\":\"BasicTicker\"}},\"id\":\"f265e92f-a2cf-46c4-a998-92f9df0db3b8\",\"type\":\"LinearAxis\"},{\"attributes\":{\"active_drag\":\"auto\",\"active_scroll\":\"auto\",\"active_tap\":\"auto\",\"tools\":[{\"id\":\"f031ef97-f1da-4bc6-89d4-e5c9a253c918\",\"type\":\"PanTool\"},{\"id\":\"9753115d-2527-46a6-88da-2aa4e46aa42c\",\"type\":\"WheelZoomTool\"},{\"id\":\"664a3b57-df87-4205-b579-6b139a68e3aa\",\"type\":\"ResetTool\"},{\"id\":\"f0255c44-7d02-4770-82da-ad16fc629885\",\"type\":\"SaveTool\"}]},\"id\":\"43efa2c5-5866-43aa-a742-9a30b4797fdf\",\"type\":\"Toolbar\"}],\"root_ids\":[\"6253f332-a93c-493f-a111-d02f8468a4f0\"]},\"title\":\"Bokeh Application\",\"version\":\"0.12.5\"}};\n",
       "            var render_items = [{\"docid\":\"70f25c07-b23a-4c3c-b286-e7d833c2f22d\",\"elementid\":\"725fc327-4049-4fdc-87c7-c25c09ea61bc\",\"modelid\":\"6253f332-a93c-493f-a111-d02f8468a4f0\"}];\n",
       "            \n",
       "            Bokeh.embed.embed_items(docs_json, render_items);\n",
       "          };\n",
       "          if (document.readyState != \"loading\") fn();\n",
       "          else document.addEventListener(\"DOMContentLoaded\", fn);\n",
       "        })();\n",
       "      },\n",
       "      function(Bokeh) {\n",
       "      }\n",
       "    ];\n",
       "  \n",
       "    function run_inline_js() {\n",
       "      \n",
       "      if ((window.Bokeh !== undefined) || (force === true)) {\n",
       "        for (var i = 0; i < inline_js.length; i++) {\n",
       "          inline_js[i](window.Bokeh);\n",
       "        }if (force === true) {\n",
       "          display_loaded();\n",
       "        }} else if (Date.now() < window._bokeh_timeout) {\n",
       "        setTimeout(run_inline_js, 100);\n",
       "      } else if (!window._bokeh_failed_load) {\n",
       "        console.log(\"Bokeh: BokehJS failed to load within specified timeout.\");\n",
       "        window._bokeh_failed_load = true;\n",
       "      } else if (force !== true) {\n",
       "        var cell = $(document.getElementById(\"725fc327-4049-4fdc-87c7-c25c09ea61bc\")).parents('.cell').data().cell;\n",
       "        cell.output_area.append_execute_result(NB_LOAD_WARNING)\n",
       "      }\n",
       "  \n",
       "    }\n",
       "  \n",
       "    if (window._bokeh_is_loading === 0) {\n",
       "      console.log(\"Bokeh: BokehJS loaded, going straight to plotting\");\n",
       "      run_inline_js();\n",
       "    } else {\n",
       "      load_libs(js_urls, function() {\n",
       "        console.log(\"Bokeh: BokehJS plotting callback run at\", now());\n",
       "        run_inline_js();\n",
       "      });\n",
       "    }\n",
       "  }(this));\n",
       "</script>"
      ]
     },
     "metadata": {},
     "output_type": "display_data"
    }
   ],
   "source": [
    "hist, edges = np.histogram(list(map(lambda x:x[1],word_frequency.most_common())), density=True, bins=100, normed=True)\n",
    "\n",
    "p = figure(tools=\"pan,wheel_zoom,reset,save\",\n",
    "           toolbar_location=\"above\",\n",
    "           title=\"The frequency distribution of the words in our corpus\")\n",
    "p.quad(top=hist, bottom=0, left=edges[:-1], right=edges[1:], line_color=\"#555555\")\n",
    "show(p)"
   ]
  },
  {
   "cell_type": "markdown",
   "metadata": {},
   "source": [
    "From the `frequency distribution` above, we can see that only a few words are dominant. THis further re-inforces our suspicion that seemingly non-sentimental words are adding alot of noise to our network. The non-sentiemntal words are of two categories:\n",
    "\n",
    "- Words with extremely high frequency\n",
    "- Words with extremely low frequency\n",
    "\n",
    "By removing focus on the above category of words we can let our network train on words with real sentimental value. We can improve this efficiency by reducing the SNR `(S/N)` ratio. The performance, and speed of our network can be greatly improved by increasing the `S/N` ratio. This is why I introduced a:\n",
    "\n",
    "- `min_count` parameter to remove words with extremely low count\n",
    "- `polar_cut_off` paramter to remove words with extremely high frequency"
   ]
  },
  {
   "cell_type": "markdown",
   "metadata": {},
   "source": [
    "#### Low Noise SentimentalNeuralNetwork "
   ]
  },
  {
   "cell_type": "code",
   "execution_count": 30,
   "metadata": {
    "collapsed": true
   },
   "outputs": [],
   "source": [
    "# Let's tweak our network from before to model these phenomena\n",
    "class LowNoiseSentimentalNeuralNetwork(object):\n",
    "    def __init__(self, training_data, num_hidden_nodes=10, num_epochs=10, learning_rate=0.1, min_count=10,polar_cutoff=0.1):\n",
    "        # set our random number generator \n",
    "        np.random.seed(1)\n",
    "        # set our improvement parameters\n",
    "        self.min_count = min_count\n",
    "        # ToDo -cater different centers of the frquency ditribution\n",
    "        self.polar_cutoff = polar_cutoff\n",
    "        # pre-process data\n",
    "        self.pre_process_data(training_data)\n",
    "        \n",
    "        # set network paramaters\n",
    "        self.num_features = len(self.vocab)\n",
    "        self.vocab_vector = np.zeros((1, len(self.vocab)))\n",
    "        self.num_input_nodes = self.num_features\n",
    "        self.num_hidden_nodes = num_hidden_nodes\n",
    "        self.num_epochs = num_epochs\n",
    "        self.num_output_nodes = 1\n",
    "        self.learning_rate = learning_rate\n",
    "        \n",
    "        # for printing later\n",
    "        self.losses = {'train':[], 'validation':[]}\n",
    "        self.accuracy = {'train':[]}\n",
    "\n",
    "        # initialize weights\n",
    "        self.weights_i_h = np.random.randn(self.num_input_nodes, self.num_hidden_nodes)\n",
    "        self.weights_h_o = np.random.randn(self.num_hidden_nodes, self.num_output_nodes)\n",
    "        \n",
    "    def forward_backward_propagate(self, text, label):\n",
    "        ### Forward pass ###\n",
    "        # Input Layer\n",
    "        self.update_input_layer(text)\n",
    "        # Hidden layer\n",
    "        hidden_layer = self.vocab_vector.dot(self.weights_i_h)\n",
    "        # Output layer\n",
    "        output_layer = self.sigmoid(hidden_layer.dot(self.weights_h_o))\n",
    "        \n",
    "        ### Backward pass ###\n",
    "        # Output error\n",
    "        output_layer_error = output_layer - self.get_target_for_label(label)\n",
    "        output_layer_delta = output_layer_error * self.sigmoid_derivative(output_layer)\n",
    "\n",
    "        # Backpropagated error - to the hidden layer\n",
    "        hidden_layer_error = output_layer_delta.dot(self.weights_h_o.T)\n",
    "        # hidden layer gradients - no nonlinearity so it's the same as the error\n",
    "        hidden_layer_delta = output_layer_error \n",
    "\n",
    "        # update the weights - with grdient descent\n",
    "        self.weights_h_o -= hidden_layer.T.dot(output_layer_delta) * self.learning_rate \n",
    "        self.weights_i_h -= self.vocab_vector.T.dot(hidden_layer_delta) * self.learning_rate \n",
    "        \n",
    "        if(output_layer >= 0.5 and self.get_target_for_label(label) == 1):\n",
    "                self.correct_so_far += 1\n",
    "        elif(output_layer < 0.5 and self.get_target_for_label(label) == 0):\n",
    "                self.correct_so_far += 1\n",
    "        \n",
    "    def train(self):\n",
    "        for epoch in range(self.num_epochs):\n",
    "            self.correct_so_far = 0\n",
    "            start = time.time()\n",
    "            training_loss = 0\n",
    "            training_accuracy = 0\n",
    "\n",
    "            for i in range(training_data.shape[0]):\n",
    "                # Forward and Back Propagation\n",
    "                self.forward_backward_propagate(training_data.Text[i], training_data.Label[i])\n",
    "\n",
    "                samples_per_second = i / float(time.time() - start + 0.001)\n",
    "                training_accuracy = self.correct_so_far * 100 / float(i+1)\n",
    "\n",
    "                sys.stdout.write(\"\\rEpoch: \"+ str(epoch)\n",
    "                                 + \" Progress: \" + str(100 * i/float(training_data.shape[0]))[:4] + \"%\"\n",
    "                                 + \" Speed(samples/sec): \" + str(samples_per_second)[0:5] \n",
    "                                 + \" #Correct: \" + str(self.correct_so_far) \n",
    "                                 + \" #Trained: \" + str(i+1) \n",
    "                                 + \" Training Accuracy: \" + str(training_accuracy)[:4] + \"%\")\n",
    "            \n",
    "            self.accuracy[\"train\"].append(training_accuracy) \n",
    "                \n",
    "            training_loss = self.run(training_data[0:7000])\n",
    "            self.losses[\"train\"].append(training_loss)   \n",
    "            print(\"\")\n",
    "            \n",
    "    def run(self, input_data):\n",
    "        # total losses for sample\n",
    "        loss = 0\n",
    "        # iterate through all training samples\n",
    "        for i in range(0, input_data.shape[0]):\n",
    "            # get prediction\n",
    "            pred = self.predict(input_data.Text[i])\n",
    "            # calculate the loss\n",
    "            loss += np.mean((pred - self.get_target_for_label(input_data.Label[i]))**2)\n",
    "        return loss/float(input_data.shape[0]) \n",
    "    \n",
    "    def test(self, test_data):\n",
    "        # How many predictions are correct out of total training\n",
    "        correct = 0\n",
    "        # start time of one epoch\n",
    "        start = time.time()\n",
    "        # iterate through all training samples\n",
    "        for i in range(0, test_data.shape[0]):\n",
    "            # get prediction\n",
    "            pred = self.predict(test_data.Text[i])\n",
    "            # count how many we validate as correct\n",
    "            if(pred >= 0.5 and self.get_target_for_label(test_data.Label[i]) == 1):\n",
    "                correct += 1\n",
    "            elif(pred < 0.5 and self.get_target_for_label(test_data.Label[i]) == 0):\n",
    "                correct += 1\n",
    "            # calculate our sampling rate\n",
    "            reviews_per_second = i / float(time.time() - start + 0.001)\n",
    "            # print out the validation metrics\n",
    "            sys.stdout.write(\"\\rProgress:\" + str(100 * i/float(test_data.shape[0]))[:4] + \"%\"\n",
    "                             + \" Speed(reviews/sec):\" + str(reviews_per_second)[0:5] \n",
    "                             + \" #Correct:\" + str(correct) \n",
    "                             + \" #Tested:\" + str(i+1) \n",
    "                             + \" Testing Accuracy:\" + str(correct * 100 / float(i+1))[:4] + \"%\")\n",
    "            \n",
    "    def predict(self, text):\n",
    "        ### Forward pass ###\n",
    "        # Input Layer\n",
    "        self.update_input_layer(text)\n",
    "        # Hidden layer\n",
    "        self.hidden_layer = self.vocab_vector.dot(self.weights_i_h)\n",
    "        # output layer\n",
    "        output_layer = self.sigmoid(self.hidden_layer.dot(self.weights_h_o))\n",
    "        \n",
    "        return output_layer.flatten()\n",
    "    \n",
    "    def visualise_training(self):\n",
    "        plt.figure(1)\n",
    "        plt.subplot(211)\n",
    "        plt.plot(self.losses['train'], label='Training loss')\n",
    "        #plt.plot(self.losses['validation'], label='Validation loss')\n",
    "        plt.legend()\n",
    "        \n",
    "        plt.figure(2)\n",
    "        plt.plot(self.accuracy['train'], label='Training Accuracy')\n",
    "        plt.legend()\n",
    "                             \n",
    "    def pre_process_data(self, training_data):\n",
    "        # frequency of words in positive reviews\n",
    "        positive_counts = Counter()\n",
    "        # frequency of words in negative reviews\n",
    "        negative_counts = Counter()\n",
    "        # frequency of words in all reviews\n",
    "        total_counts = Counter()\n",
    "        # affinity of words for being in positive/negative reviews\n",
    "        positive_negative_ratios = Counter()\n",
    "        \n",
    "        # get the counts\n",
    "        for i in range(training_data.shape[0]):\n",
    "            if(training_data.Label[i] == 'POSITIVE'):\n",
    "                for word in training_data.Text[i].split(\" \"):\n",
    "                    positive_counts[word] += 1\n",
    "                    total_counts[word] += 1\n",
    "            if(training_data.Label[i] == 'NEGATIVE'):\n",
    "                for word in training_data.Text[i].split(\" \"):\n",
    "                    negative_counts[word] += 1\n",
    "                    total_counts[word] += 1\n",
    "        # calculate positive-negative affinity\n",
    "        for term, count in list(total_counts.most_common()):\n",
    "            # consider only words that appear more than 50 times\n",
    "            if(count >= 50):\n",
    "                positive_negative_ratio = float(positive_counts[term]) / float(negative_counts[term]+1)\n",
    "                positive_negative_ratios[term] = positive_negative_ratio\n",
    "\n",
    "        for word, ratio in positive_negative_ratios.most_common():\n",
    "            # normalise the ratio\n",
    "            if(ratio > 1):\n",
    "                positive_negative_ratios[word] = np.log(ratio)\n",
    "            else:\n",
    "                positive_negative_ratios[word] = -np.log((1 / (ratio + 0.01)))\n",
    "        \n",
    "        vocab = set()\n",
    "        \n",
    "        for review in training_data.Text:\n",
    "            for word in review.split(\" \"):\n",
    "                # eliminate low freqeuncy words\n",
    "                if(total_counts[word] > self.min_count):\n",
    "                    if(word in positive_negative_ratios.keys()):\n",
    "                        # eliminate words with very high frequency on both sides of the spectrum\n",
    "                        if((positive_negative_ratios[word] >= self.polar_cutoff) or (positive_negative_ratios[word] <= -self.polar_cutoff)):\n",
    "                            vocab.add(word)\n",
    "                    else:    \n",
    "                        vocab.add(word)\n",
    "        # convert to list so that we can access using indices        \n",
    "        self.vocab = list(vocab)\n",
    "        # create our vocab to column index mapping\n",
    "        self.word_to_column = {}\n",
    "        for i, word in enumerate(self.vocab):\n",
    "            self.word_to_column[word] = i\n",
    "            \n",
    "    def update_input_layer(self, text):\n",
    "        # word vector, for our words\n",
    "        global vocab_vector\n",
    "        # clear out previous state, reset the vector to be all 0s\n",
    "        self.vocab_vector *= 0\n",
    "        for word in text.split(\" \"):\n",
    "            #  Pass unknown words to avoid exceptions\n",
    "            if(word in self.word_to_column.keys()):\n",
    "                self.vocab_vector[0][self.word_to_column[word]] = 1\n",
    "            \n",
    "    def get_target_for_label(self, label):\n",
    "        if(label == 'POSITIVE'):\n",
    "            return 1\n",
    "        elif(label == 'NEGATIVE'):\n",
    "            return 0\n",
    "    \n",
    "    def sigmoid(self,x):\n",
    "        return 1 / (1 + np.exp(-x))\n",
    "    \n",
    "    \n",
    "    def sigmoid_derivative(self,x):\n",
    "        return x * (1 - x)\n",
    "\n",
    "            "
   ]
  },
  {
   "cell_type": "code",
   "execution_count": 31,
   "metadata": {
    "collapsed": true
   },
   "outputs": [],
   "source": [
    "nnetLN = LowNoiseSentimentalNeuralNetwork(training_data, num_hidden_nodes=50, num_epochs = 10, learning_rate=0.001, min_count=10, polar_cutoff=0.2)"
   ]
  },
  {
   "cell_type": "markdown",
   "metadata": {},
   "source": [
    "Make sure you check for any biasness before training. We should have a **50-50** chance for both `POSITIVE` and `NEGATIVE` reviews. This is because the network hasn't even trained yet and what it is outputing is basically guesswork.\n",
    "\n",
    "**NB** In general starting from a non-biased point like this is very desirable."
   ]
  },
  {
   "cell_type": "code",
   "execution_count": 32,
   "metadata": {
    "collapsed": false
   },
   "outputs": [
    {
     "name": "stdout",
     "output_type": "stream",
     "text": [
      "Progress:99.9% Speed(reviews/sec):1681. #Correct:2961 #Tested:6018 Testing Accuracy:49.2%"
     ]
    }
   ],
   "source": [
    "nnetLN.test(test_data)"
   ]
  },
  {
   "cell_type": "code",
   "execution_count": 179,
   "metadata": {
    "collapsed": false
   },
   "outputs": [
    {
     "name": "stdout",
     "output_type": "stream",
     "text": [
      "Epoch: 0 Progress: 99.9% Speed(samples/sec): 1555. #Correct: 43194 #Trained: 70000 Training Accuracy: 61.7%\n",
      "Epoch: 1 Progress: 99.9% Speed(samples/sec): 1543. #Correct: 51128 #Trained: 70000 Training Accuracy: 73.0%\n",
      "Epoch: 2 Progress: 99.9% Speed(samples/sec): 1574. #Correct: 53596 #Trained: 70000 Training Accuracy: 76.5%\n",
      "Epoch: 3 Progress: 99.9% Speed(samples/sec): 1581. #Correct: 54858 #Trained: 70000 Training Accuracy: 78.3%\n",
      "Epoch: 4 Progress: 99.9% Speed(samples/sec): 1563. #Correct: 55715 #Trained: 70000 Training Accuracy: 79.5%\n",
      "Epoch: 5 Progress: 99.9% Speed(samples/sec): 1590. #Correct: 56322 #Trained: 70000 Training Accuracy: 80.4%\n",
      "Epoch: 6 Progress: 99.9% Speed(samples/sec): 1588. #Correct: 56816 #Trained: 70000 Training Accuracy: 81.1%\n",
      "Epoch: 7 Progress: 99.9% Speed(samples/sec): 1545. #Correct: 57219 #Trained: 70000 Training Accuracy: 81.7%\n",
      "Epoch: 8 Progress: 99.9% Speed(samples/sec): 1433. #Correct: 57512 #Trained: 70000 Training Accuracy: 82.1%\n",
      "Epoch: 9 Progress: 99.9% Speed(samples/sec): 1501. #Correct: 57776 #Trained: 70000 Training Accuracy: 82.5%\n"
     ]
    }
   ],
   "source": [
    "nnetLN.train()"
   ]
  },
  {
   "cell_type": "markdown",
   "metadata": {},
   "source": [
    "Network has already been trained, and obviously we now don't expect a **50-50** performance but something much better if indeed the newtork has learned."
   ]
  },
  {
   "cell_type": "code",
   "execution_count": 180,
   "metadata": {
    "collapsed": false
   },
   "outputs": [
    {
     "name": "stdout",
     "output_type": "stream",
     "text": [
      "Progress:99.9% Speed(reviews/sec):3965. #Correct:4902 #Tested:6018 Testing Accuracy:81.4%"
     ]
    }
   ],
   "source": [
    "nnetLN.test(test_data)"
   ]
  },
  {
   "cell_type": "markdown",
   "metadata": {},
   "source": [
    " A graph of training loss against the no. of epochs. "
   ]
  },
  {
   "cell_type": "code",
   "execution_count": 181,
   "metadata": {
    "collapsed": false
   },
   "outputs": [
    {
     "data": {
      "image/png": "[encoded data removed]",
      "text/plain": [
       "<matplotlib.figure.Figure at 0x1e856844860>"
      ]
     },
     "metadata": {
      "image/png": {
       "height": 250,
       "width": 380
      }
     },
     "output_type": "display_data"
    }
   ],
   "source": [
    "nnetLN.visualise_training()"
   ]
  },
  {
   "cell_type": "code",
   "execution_count": 187,
   "metadata": {
    "collapsed": false
   },
   "outputs": [
    {
     "data": {
      "text/plain": [
       "array([ 0.13081071])"
      ]
     },
     "execution_count": 187,
     "metadata": {},
     "output_type": "execute_result"
    }
   ],
   "source": [
    "nnetLN.predict(\"This product sucks!! I bought it and it proved disgusting. Do not buy this rip-off.\")"
   ]
  },
  {
   "cell_type": "code",
   "execution_count": 186,
   "metadata": {
    "collapsed": false
   },
   "outputs": [
    {
     "data": {
      "text/plain": [
       "array([ 0.67737192])"
      ]
     },
     "execution_count": 186,
     "metadata": {},
     "output_type": "execute_result"
    }
   ],
   "source": [
    "nnetLN.predict(\"Wonderful and very awesome quality product\")"
   ]
  },
  {
   "cell_type": "code",
   "execution_count": null,
   "metadata": {
    "collapsed": true
   },
   "outputs": [],
   "source": []
  }
 ],
 "metadata": {
  "anaconda-cloud": {},
  "kernelspec": {
   "display_name": "Python [conda root]",
   "language": "python",
   "name": "conda-root-py"
  },
  "language_info": {
   "codemirror_mode": {
    "name": "ipython",
    "version": 3
   },
   "file_extension": ".py",
   "mimetype": "text/x-python",
   "name": "python",
   "nbconvert_exporter": "python",
   "pygments_lexer": "ipython3",
   "version": "3.5.2"
  }
 },
 "nbformat": 4,
 "nbformat_minor": 1
}
