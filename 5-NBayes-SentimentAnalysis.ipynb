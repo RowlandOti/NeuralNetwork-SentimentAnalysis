{
 "cells": [
  {
   "cell_type": "markdown",
   "metadata": {},
   "source": [
    "## Efficient Low Noise Naive Bayes"
   ]
  },
  {
   "cell_type": "code",
   "execution_count": 45,
   "metadata": {
    "collapsed": false
   },
   "outputs": [],
   "source": [
    "%matplotlib inline\n",
    "%config InlineBackend.figure_format = 'retina'\n",
    "\n",
    "from nltk.corpus import stopwords\n",
    "import matplotlib.pyplot as plt\n",
    "import numpy as np\n",
    "import pandas as pd\n",
    "import sys"
   ]
  },
  {
   "cell_type": "markdown",
   "metadata": {},
   "source": [
    "### Load data"
   ]
  },
  {
   "cell_type": "code",
   "execution_count": 37,
   "metadata": {
    "collapsed": false
   },
   "outputs": [],
   "source": [
    "data = pd.read_csv('dataset/processed_pos_neg_reviews.csv', encoding='latin-1')"
   ]
  },
  {
   "cell_type": "code",
   "execution_count": 38,
   "metadata": {
    "collapsed": false
   },
   "outputs": [
    {
     "data": {
      "text/html": [
       "<div>\n",
       "<table border=\"1\" class=\"dataframe\">\n",
       "  <thead>\n",
       "    <tr style=\"text-align: right;\">\n",
       "      <th></th>\n",
       "      <th>ProductId</th>\n",
       "      <th>Rating</th>\n",
       "      <th>Summary</th>\n",
       "      <th>Text</th>\n",
       "      <th>Label</th>\n",
       "    </tr>\n",
       "  </thead>\n",
       "  <tbody>\n",
       "    <tr>\n",
       "      <th>0</th>\n",
       "      <td>B006CMVE7S</td>\n",
       "      <td>4</td>\n",
       "      <td>No taste with filtered bottle</td>\n",
       "      <td>I guess some of you may have guessed this befo...</td>\n",
       "      <td>POSITIVE</td>\n",
       "    </tr>\n",
       "    <tr>\n",
       "      <th>1</th>\n",
       "      <td>B00813GRG4</td>\n",
       "      <td>1</td>\n",
       "      <td>Not as Advertised</td>\n",
       "      <td>Product arrived labeled as Jumbo Salted Peanut...</td>\n",
       "      <td>NEGATIVE</td>\n",
       "    </tr>\n",
       "    <tr>\n",
       "      <th>2</th>\n",
       "      <td>B00570H26I</td>\n",
       "      <td>4</td>\n",
       "      <td>Delicious pasta,  but not for peanut allergies!</td>\n",
       "      <td>I have to agree with the previous posters that...</td>\n",
       "      <td>POSITIVE</td>\n",
       "    </tr>\n",
       "    <tr>\n",
       "      <th>3</th>\n",
       "      <td>B000UA0QIQ</td>\n",
       "      <td>2</td>\n",
       "      <td>Cough Medicine</td>\n",
       "      <td>If you are looking for the secret ingredient i...</td>\n",
       "      <td>NEGATIVE</td>\n",
       "    </tr>\n",
       "    <tr>\n",
       "      <th>4</th>\n",
       "      <td>B000GBOM0C</td>\n",
       "      <td>5</td>\n",
       "      <td>great treat</td>\n",
       "      <td>My pups love this chicken/rice treat(10lb Russ...</td>\n",
       "      <td>POSITIVE</td>\n",
       "    </tr>\n",
       "  </tbody>\n",
       "</table>\n",
       "</div>"
      ],
      "text/plain": [
       "    ProductId  Rating                                          Summary  \\\n",
       "0  B006CMVE7S       4                    No taste with filtered bottle   \n",
       "1  B00813GRG4       1                                Not as Advertised   \n",
       "2  B00570H26I       4  Delicious pasta,  but not for peanut allergies!   \n",
       "3  B000UA0QIQ       2                                   Cough Medicine   \n",
       "4  B000GBOM0C       5                                      great treat   \n",
       "\n",
       "                                                Text     Label  \n",
       "0  I guess some of you may have guessed this befo...  POSITIVE  \n",
       "1  Product arrived labeled as Jumbo Salted Peanut...  NEGATIVE  \n",
       "2  I have to agree with the previous posters that...  POSITIVE  \n",
       "3  If you are looking for the secret ingredient i...  NEGATIVE  \n",
       "4  My pups love this chicken/rice treat(10lb Russ...  POSITIVE  "
      ]
     },
     "execution_count": 38,
     "metadata": {},
     "output_type": "execute_result"
    }
   ],
   "source": [
    "data.head()"
   ]
  },
  {
   "cell_type": "code",
   "execution_count": 39,
   "metadata": {
    "collapsed": false
   },
   "outputs": [
    {
     "data": {
      "text/plain": [
       "NEGATIVE    82037\n",
       "POSITIVE    82037\n",
       "Name: Label, dtype: int64"
      ]
     },
     "execution_count": 39,
     "metadata": {},
     "output_type": "execute_result"
    }
   ],
   "source": [
    "data.Label.value_counts()"
   ]
  },
  {
   "cell_type": "markdown",
   "metadata": {},
   "source": [
    "### Data Preparation"
   ]
  },
  {
   "cell_type": "markdown",
   "metadata": {},
   "source": [
    "Training Data"
   ]
  },
  {
   "cell_type": "code",
   "execution_count": 43,
   "metadata": {
    "collapsed": false,
    "scrolled": true
   },
   "outputs": [
    {
     "data": {
      "text/html": [
       "<div>\n",
       "<table border=\"1\" class=\"dataframe\">\n",
       "  <thead>\n",
       "    <tr style=\"text-align: right;\">\n",
       "      <th></th>\n",
       "      <th>ProductId</th>\n",
       "      <th>Rating</th>\n",
       "      <th>Summary</th>\n",
       "      <th>Text</th>\n",
       "      <th>Label</th>\n",
       "    </tr>\n",
       "  </thead>\n",
       "  <tbody>\n",
       "    <tr>\n",
       "      <th>0</th>\n",
       "      <td>B006CMVE7S</td>\n",
       "      <td>4</td>\n",
       "      <td>No taste with filtered bottle</td>\n",
       "      <td>I guess some of you may have guessed this befo...</td>\n",
       "      <td>POSITIVE</td>\n",
       "    </tr>\n",
       "    <tr>\n",
       "      <th>1</th>\n",
       "      <td>B00813GRG4</td>\n",
       "      <td>1</td>\n",
       "      <td>Not as Advertised</td>\n",
       "      <td>Product arrived labeled as Jumbo Salted Peanut...</td>\n",
       "      <td>NEGATIVE</td>\n",
       "    </tr>\n",
       "    <tr>\n",
       "      <th>2</th>\n",
       "      <td>B00570H26I</td>\n",
       "      <td>4</td>\n",
       "      <td>Delicious pasta,  but not for peanut allergies!</td>\n",
       "      <td>I have to agree with the previous posters that...</td>\n",
       "      <td>POSITIVE</td>\n",
       "    </tr>\n",
       "    <tr>\n",
       "      <th>3</th>\n",
       "      <td>B000UA0QIQ</td>\n",
       "      <td>2</td>\n",
       "      <td>Cough Medicine</td>\n",
       "      <td>If you are looking for the secret ingredient i...</td>\n",
       "      <td>NEGATIVE</td>\n",
       "    </tr>\n",
       "    <tr>\n",
       "      <th>4</th>\n",
       "      <td>B000GBOM0C</td>\n",
       "      <td>5</td>\n",
       "      <td>great treat</td>\n",
       "      <td>My pups love this chicken/rice treat(10lb Russ...</td>\n",
       "      <td>POSITIVE</td>\n",
       "    </tr>\n",
       "  </tbody>\n",
       "</table>\n",
       "</div>"
      ],
      "text/plain": [
       "    ProductId  Rating                                          Summary  \\\n",
       "0  B006CMVE7S       4                    No taste with filtered bottle   \n",
       "1  B00813GRG4       1                                Not as Advertised   \n",
       "2  B00570H26I       4  Delicious pasta,  but not for peanut allergies!   \n",
       "3  B000UA0QIQ       2                                   Cough Medicine   \n",
       "4  B000GBOM0C       5                                      great treat   \n",
       "\n",
       "                                                Text     Label  \n",
       "0  I guess some of you may have guessed this befo...  POSITIVE  \n",
       "1  Product arrived labeled as Jumbo Salted Peanut...  NEGATIVE  \n",
       "2  I have to agree with the previous posters that...  POSITIVE  \n",
       "3  If you are looking for the secret ingredient i...  NEGATIVE  \n",
       "4  My pups love this chicken/rice treat(10lb Russ...  POSITIVE  "
      ]
     },
     "execution_count": 43,
     "metadata": {},
     "output_type": "execute_result"
    }
   ],
   "source": [
    "# first 82037 reviews\n",
    "training_data = data[0:82037].reset_index(drop=True)\n",
    "training_data_length = training_data.shape[0]\n",
    "training_data.head()"
   ]
  },
  {
   "cell_type": "code",
   "execution_count": 16,
   "metadata": {
    "collapsed": false
   },
   "outputs": [
    {
     "data": {
      "text/plain": [
       "POSITIVE    41019\n",
       "NEGATIVE    41018\n",
       "Name: Label, dtype: int64"
      ]
     },
     "execution_count": 16,
     "metadata": {},
     "output_type": "execute_result"
    }
   ],
   "source": [
    "training_data.Label.value_counts()"
   ]
  },
  {
   "cell_type": "markdown",
   "metadata": {},
   "source": [
    "Shape of training data"
   ]
  },
  {
   "cell_type": "code",
   "execution_count": 17,
   "metadata": {
    "collapsed": false
   },
   "outputs": [
    {
     "name": "stdout",
     "output_type": "stream",
     "text": [
      "(82037, 5)\n",
      "(82037,)\n"
     ]
    }
   ],
   "source": [
    "print(training_data.shape)\n",
    "print(training_data.Label.shape)"
   ]
  },
  {
   "cell_type": "markdown",
   "metadata": {},
   "source": [
    "### Building the Naive Bayes Classifier"
   ]
  },
  {
   "cell_type": "markdown",
   "metadata": {},
   "source": [
    "### Calculate the Priors"
   ]
  },
  {
   "cell_type": "markdown",
   "metadata": {},
   "source": [
    "These are simply the propbability of text having \"POSITIVE\" or \"NEGATIVE\" sentiment"
   ]
  },
  {
   "cell_type": "markdown",
   "metadata": {},
   "source": [
    "### Calculate the Likelihood"
   ]
  },
  {
   "cell_type": "markdown",
   "metadata": {},
   "source": [
    "These are simply the propability of text pointing to a particular class"
   ]
  },
  {
   "cell_type": "markdown",
   "metadata": {},
   "source": [
    "### Clean Our Training Data"
   ]
  },
  {
   "cell_type": "code",
   "execution_count": null,
   "metadata": {
    "collapsed": false
   },
   "outputs": [],
   "source": [
    "clean_data = pd.DataFrame(columns=['Label', 'Text'])[:5000]\n",
    "for i in range(training_data.shape[0]):\n",
    "    text = ' '.join([word for word in training_data.Text[i].split(\" \") if word not in stopwords.words(\"english\")])\n",
    "    sys.stdout.write(\"\\rProgress:\" + str(100 * i/float(training_data.shape[0]))[:4] + \" %\")\n",
    "    clean_data.loc[i] = {'Label':training_data.Label[i], 'Text': text}"
   ]
  },
  {
   "cell_type": "code",
   "execution_count": 70,
   "metadata": {
    "collapsed": true
   },
   "outputs": [],
   "source": [
    "# save our modified data to save time later on\n",
    "#clean_data.to_csv(\"dataset/clean_training_reviews.csv\", mode = 'w', index=False, encoding='latin-1')"
   ]
  },
  {
   "cell_type": "code",
   "execution_count": 69,
   "metadata": {
    "collapsed": true
   },
   "outputs": [],
   "source": [
    "# load our saved data\n",
    "clean_data = pd.read_csv('dataset/clean_training_reviews.csv', encoding='latin-1')\n",
    "training_data = training_data[:500]"
   ]
  },
  {
   "cell_type": "code",
   "execution_count": 70,
   "metadata": {
    "collapsed": false,
    "scrolled": true
   },
   "outputs": [],
   "source": [
    "# split into train and test\n",
    "from sklearn import cross_validation\n",
    "\n",
    "data_train, data_test, labels_train, labels_test = cross_validation.train_test_split(training_data.Text, training_data.Label, \n",
    "                                                                                     test_size=0.2, random_state=40)\n",
    "\n",
    "# text vectorization for text to numbers\n",
    "from sklearn.feature_extraction.text import TfidfVectorizer, CountVectorizer\n",
    "from sklearn.feature_selection import SelectPercentile, f_classif\n",
    "\n",
    "vectorizer = CountVectorizer()\n",
    "data_train_transformed = vectorizer.fit_transform(data_train)\n",
    "data_test_transformed  = vectorizer.transform(data_test)\n",
    "\n",
    "# slim the data for training and testing\n",
    "selector = SelectPercentile(f_classif, percentile=10)\n",
    "selector.fit(data_train_transformed, labels_train)\n",
    "data_train_transformed = selector.transform(data_train_transformed).toarray()\n",
    "data_test_transformed  = selector.transform(data_test_transformed).toarray()"
   ]
  },
  {
   "cell_type": "code",
   "execution_count": 109,
   "metadata": {
    "collapsed": false
   },
   "outputs": [],
   "source": [
    "class BernoulliNBClassifier(object):\n",
    "    def __init__(self, alpha=1.0):\n",
    "        self.alpha = alpha\n",
    "\n",
    "    def fit(self, X, y):\n",
    "        count_sample = X.shape[0]\n",
    "        separated = [[x for x, t in zip(X, y) if t == c] for c in np.unique(y)]\n",
    "        self.class_log_prior_ = [self.log(len(i) / count_sample) for i in separated]\n",
    "        count = np.array([np.array(i).sum(axis=0) for i in separated]) + self.alpha\n",
    "        smoothing = 2 * self.alpha\n",
    "        n_doc = np.array([len(i) + smoothing for i in separated])\n",
    "        self.feature_prob_ = count / n_doc[np.newaxis].T\n",
    "        return self\n",
    "\n",
    "    def predict_log_proba(self, X):\n",
    "        return [(self.log(self.feature_prob_) * x + self.log(1 - self.feature_prob_) * np.abs(x - 1))\n",
    "                .sum(axis=1) + self.class_log_prior_ for x in X]\n",
    "\n",
    "    def predict(self, X, num_label=True):\n",
    "        score_mat = np.argmax(self.predict_log_proba(X), axis=1)\n",
    "        # return vector of predictions\n",
    "        return score_mat.reshape(X.shape[0])\n",
    "        \n",
    "    def digit_to_label(self, digits):\n",
    "        # palette must be given in sorted order\n",
    "        palette = [0, 1]\n",
    "        # key gives the new values you wish palette to be mapped to\n",
    "        key = np.array([\"NEGATIVE\", \"POSITIVE\"])\n",
    "        labels = np.digitize(digits.ravel(), palette, right=True)\n",
    "        # return umwrapped to labels\n",
    "        return key[index]\n",
    "\n",
    "    def accuracy_score(self, predictionsY, targetsY):\n",
    "        data = {'Targets': labels_test, 'Predictions': predictions}\n",
    "        df = pd.DataFrame(data)\n",
    "        df.loc[(df.Predictions== 0) , 'Predictions'] = \"NEGATIVE\"\n",
    "        df.loc[(df.Predictions == 1) , 'Predictions'] = \"POSITIVE\"\n",
    "        # calculate and return accuracy as a percentage\n",
    "        return df.loc[(df.Predictions== df.Targets)].shape[0] *100 / df.count()[0]\n",
    "    \n",
    "    def log(self, a):\n",
    "        return np.log(a)"
   ]
  },
  {
   "cell_type": "code",
   "execution_count": 110,
   "metadata": {
    "collapsed": false
   },
   "outputs": [
    {
     "name": "stdout",
     "output_type": "stream",
     "text": [
      "49.0\n"
     ]
    },
    {
     "name": "stderr",
     "output_type": "stream",
     "text": [
      "F:\\CreativeSoftware\\Anaconda3\\lib\\site-packages\\ipykernel\\__main__.py:42: RuntimeWarning: invalid value encountered in log\n"
     ]
    }
   ],
   "source": [
    "clf = BernoulliNBClassifier()\n",
    "clf.fit(data_train_transformed, labels_train)\n",
    "predictions = clf.predict(data_test_transformed, num_label=False)\n",
    "\n",
    "print(clf.accuracy_score(predictions, labels_test))"
   ]
  },
  {
   "cell_type": "code",
   "execution_count": null,
   "metadata": {
    "collapsed": true
   },
   "outputs": [],
   "source": []
  }
 ],
 "metadata": {
  "anaconda-cloud": {},
  "kernelspec": {
   "display_name": "Python [conda root]",
   "language": "python",
   "name": "conda-root-py"
  },
  "language_info": {
   "codemirror_mode": {
    "name": "ipython",
    "version": 3
   },
   "file_extension": ".py",
   "mimetype": "text/x-python",
   "name": "python",
   "nbconvert_exporter": "python",
   "pygments_lexer": "ipython3",
   "version": "3.5.2"
  }
 },
 "nbformat": 4,
 "nbformat_minor": 1
}
