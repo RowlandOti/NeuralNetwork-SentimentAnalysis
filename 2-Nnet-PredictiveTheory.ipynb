{
 "cells": [
  {
   "cell_type": "markdown",
   "metadata": {},
   "source": [
    "## Predictive Theory"
   ]
  },
  {
   "cell_type": "code",
   "execution_count": 16,
   "metadata": {
    "collapsed": true
   },
   "outputs": [],
   "source": [
    "%matplotlib inline\n",
    "%config InlineBackend.figure_format = 'retina'\n",
    "\n",
    "from sklearn import preprocessing\n",
    "import matplotlib.pyplot as plt\n",
    "import numpy as np\n",
    "import pandas as pd\n",
    "from collections import Counter\n",
    "import pprint as pp\n",
    "import random\n",
    "import time\n",
    "import sys\n",
    "import os\n",
    "try:\n",
    "   import cPickle as cPickle\n",
    "except:\n",
    "   import pickle as cPickle"
   ]
  },
  {
   "cell_type": "markdown",
   "metadata": {},
   "source": [
    "### Load Data"
   ]
  },
  {
   "cell_type": "code",
   "execution_count": 17,
   "metadata": {
    "collapsed": true
   },
   "outputs": [],
   "source": [
    "data = pd.read_csv('dataset/processed_pos_neg_reviews.csv', encoding='latin-1')"
   ]
  },
  {
   "cell_type": "code",
   "execution_count": 18,
   "metadata": {
    "collapsed": false
   },
   "outputs": [
    {
     "data": {
      "text/plain": [
       "NEGATIVE    82037\n",
       "POSITIVE    82037\n",
       "Name: Label, dtype: int64"
      ]
     },
     "execution_count": 18,
     "metadata": {},
     "output_type": "execute_result"
    }
   ],
   "source": [
    "data.Label.value_counts()"
   ]
  },
  {
   "cell_type": "code",
   "execution_count": 19,
   "metadata": {
    "collapsed": false
   },
   "outputs": [
    {
     "data": {
      "text/html": [
       "<div>\n",
       "<table border=\"1\" class=\"dataframe\">\n",
       "  <thead>\n",
       "    <tr style=\"text-align: right;\">\n",
       "      <th></th>\n",
       "      <th>ProductId</th>\n",
       "      <th>Rating</th>\n",
       "      <th>Summary</th>\n",
       "      <th>Text</th>\n",
       "      <th>Label</th>\n",
       "    </tr>\n",
       "  </thead>\n",
       "  <tbody>\n",
       "    <tr>\n",
       "      <th>0</th>\n",
       "      <td>B006CMVE7S</td>\n",
       "      <td>4</td>\n",
       "      <td>No taste with filtered bottle</td>\n",
       "      <td>I guess some of you may have guessed this befo...</td>\n",
       "      <td>POSITIVE</td>\n",
       "    </tr>\n",
       "    <tr>\n",
       "      <th>1</th>\n",
       "      <td>B00813GRG4</td>\n",
       "      <td>1</td>\n",
       "      <td>Not as Advertised</td>\n",
       "      <td>Product arrived labeled as Jumbo Salted Peanut...</td>\n",
       "      <td>NEGATIVE</td>\n",
       "    </tr>\n",
       "    <tr>\n",
       "      <th>2</th>\n",
       "      <td>B00570H26I</td>\n",
       "      <td>4</td>\n",
       "      <td>Delicious pasta,  but not for peanut allergies!</td>\n",
       "      <td>I have to agree with the previous posters that...</td>\n",
       "      <td>POSITIVE</td>\n",
       "    </tr>\n",
       "    <tr>\n",
       "      <th>3</th>\n",
       "      <td>B000UA0QIQ</td>\n",
       "      <td>2</td>\n",
       "      <td>Cough Medicine</td>\n",
       "      <td>If you are looking for the secret ingredient i...</td>\n",
       "      <td>NEGATIVE</td>\n",
       "    </tr>\n",
       "    <tr>\n",
       "      <th>4</th>\n",
       "      <td>B000GBOM0C</td>\n",
       "      <td>5</td>\n",
       "      <td>great treat</td>\n",
       "      <td>My pups love this chicken/rice treat(10lb Russ...</td>\n",
       "      <td>POSITIVE</td>\n",
       "    </tr>\n",
       "  </tbody>\n",
       "</table>\n",
       "</div>"
      ],
      "text/plain": [
       "    ProductId  Rating                                          Summary  \\\n",
       "0  B006CMVE7S       4                    No taste with filtered bottle   \n",
       "1  B00813GRG4       1                                Not as Advertised   \n",
       "2  B00570H26I       4  Delicious pasta,  but not for peanut allergies!   \n",
       "3  B000UA0QIQ       2                                   Cough Medicine   \n",
       "4  B000GBOM0C       5                                      great treat   \n",
       "\n",
       "                                                Text     Label  \n",
       "0  I guess some of you may have guessed this befo...  POSITIVE  \n",
       "1  Product arrived labeled as Jumbo Salted Peanut...  NEGATIVE  \n",
       "2  I have to agree with the previous posters that...  POSITIVE  \n",
       "3  If you are looking for the secret ingredient i...  NEGATIVE  \n",
       "4  My pups love this chicken/rice treat(10lb Russ...  POSITIVE  "
      ]
     },
     "execution_count": 19,
     "metadata": {},
     "output_type": "execute_result"
    }
   ],
   "source": [
    "data.head()"
   ]
  },
  {
   "cell_type": "markdown",
   "metadata": {},
   "source": [
    "### Data Preparation"
   ]
  },
  {
   "cell_type": "markdown",
   "metadata": {},
   "source": [
    "Training Data"
   ]
  },
  {
   "cell_type": "code",
   "execution_count": 20,
   "metadata": {
    "collapsed": false
   },
   "outputs": [
    {
     "data": {
      "text/html": [
       "<div>\n",
       "<table border=\"1\" class=\"dataframe\">\n",
       "  <thead>\n",
       "    <tr style=\"text-align: right;\">\n",
       "      <th></th>\n",
       "      <th>ProductId</th>\n",
       "      <th>Rating</th>\n",
       "      <th>Summary</th>\n",
       "      <th>Text</th>\n",
       "      <th>Label</th>\n",
       "    </tr>\n",
       "  </thead>\n",
       "  <tbody>\n",
       "    <tr>\n",
       "      <th>0</th>\n",
       "      <td>B006CMVE7S</td>\n",
       "      <td>4</td>\n",
       "      <td>No taste with filtered bottle</td>\n",
       "      <td>I guess some of you may have guessed this befo...</td>\n",
       "      <td>POSITIVE</td>\n",
       "    </tr>\n",
       "    <tr>\n",
       "      <th>1</th>\n",
       "      <td>B00813GRG4</td>\n",
       "      <td>1</td>\n",
       "      <td>Not as Advertised</td>\n",
       "      <td>Product arrived labeled as Jumbo Salted Peanut...</td>\n",
       "      <td>NEGATIVE</td>\n",
       "    </tr>\n",
       "    <tr>\n",
       "      <th>2</th>\n",
       "      <td>B00570H26I</td>\n",
       "      <td>4</td>\n",
       "      <td>Delicious pasta,  but not for peanut allergies!</td>\n",
       "      <td>I have to agree with the previous posters that...</td>\n",
       "      <td>POSITIVE</td>\n",
       "    </tr>\n",
       "    <tr>\n",
       "      <th>3</th>\n",
       "      <td>B000UA0QIQ</td>\n",
       "      <td>2</td>\n",
       "      <td>Cough Medicine</td>\n",
       "      <td>If you are looking for the secret ingredient i...</td>\n",
       "      <td>NEGATIVE</td>\n",
       "    </tr>\n",
       "    <tr>\n",
       "      <th>4</th>\n",
       "      <td>B000GBOM0C</td>\n",
       "      <td>5</td>\n",
       "      <td>great treat</td>\n",
       "      <td>My pups love this chicken/rice treat(10lb Russ...</td>\n",
       "      <td>POSITIVE</td>\n",
       "    </tr>\n",
       "  </tbody>\n",
       "</table>\n",
       "</div>"
      ],
      "text/plain": [
       "    ProductId  Rating                                          Summary  \\\n",
       "0  B006CMVE7S       4                    No taste with filtered bottle   \n",
       "1  B00813GRG4       1                                Not as Advertised   \n",
       "2  B00570H26I       4  Delicious pasta,  but not for peanut allergies!   \n",
       "3  B000UA0QIQ       2                                   Cough Medicine   \n",
       "4  B000GBOM0C       5                                      great treat   \n",
       "\n",
       "                                                Text     Label  \n",
       "0  I guess some of you may have guessed this befo...  POSITIVE  \n",
       "1  Product arrived labeled as Jumbo Salted Peanut...  NEGATIVE  \n",
       "2  I have to agree with the previous posters that...  POSITIVE  \n",
       "3  If you are looking for the secret ingredient i...  NEGATIVE  \n",
       "4  My pups love this chicken/rice treat(10lb Russ...  POSITIVE  "
      ]
     },
     "execution_count": 20,
     "metadata": {},
     "output_type": "execute_result"
    }
   ],
   "source": [
    "# first 70000 reviews\n",
    "training_data = data[0:70000].reset_index(drop=True)\n",
    "training_data_length = training_data.shape[0]\n",
    "training_data.head()"
   ]
  },
  {
   "cell_type": "markdown",
   "metadata": {},
   "source": [
    "Shape of Training Data"
   ]
  },
  {
   "cell_type": "code",
   "execution_count": 21,
   "metadata": {
    "collapsed": false
   },
   "outputs": [
    {
     "name": "stdout",
     "output_type": "stream",
     "text": [
      "(70000, 5)\n",
      "(70000,)\n"
     ]
    }
   ],
   "source": [
    "pp.pprint(training_data.shape)\n",
    "pp.pprint(training_data.Label.shape)"
   ]
  },
  {
   "cell_type": "markdown",
   "metadata": {},
   "source": [
    "### Develop a Predictive Theory"
   ]
  },
  {
   "cell_type": "code",
   "execution_count": 22,
   "metadata": {
    "collapsed": true
   },
   "outputs": [],
   "source": [
    "def pretty_print_text_and_label(input_data, i):\n",
    "    print(input_data.Label[i] + \"\\t:\\t\" + input_data.Text[i][:80] + \"...\")"
   ]
  },
  {
   "cell_type": "code",
   "execution_count": 23,
   "metadata": {
    "collapsed": false
   },
   "outputs": [
    {
     "name": "stdout",
     "output_type": "stream",
     "text": [
      "labels \t : \t\t texts\n",
      "\n",
      "NEGATIVE\t:\tIf you didn't like the taste of cashews, you probably wouldn't eat them. But thi...\n",
      "POSITIVE\t:\tIf only they put more in the box. They put plenty of dried berries in the box, i...\n",
      "POSITIVE\t:\tI saw this in a segment on a television show about foods to try if you want to c...\n",
      "POSITIVE\t:\tMy neighbor friend gave me this Hawaii Roasters Coffee as a gift for my Birthday...\n",
      "NEGATIVE\t:\tI bought this thinking it would make a wonderful gift to my neighbor's young son...\n",
      "NEGATIVE\t:\tWe bought this for our Paramount 6 oz popper. We were disappointed by the taste....\n"
     ]
    }
   ],
   "source": [
    "print(\"labels \\t : \\t\\t texts\\n\")\n",
    "# choose  a random spam set to analyse\n",
    "# random.randrange(start, stop, step)\n",
    "for i in range(0, 6):\n",
    "    pretty_print_text_and_label(training_data, random.randrange(0, training_data.shape[0]))\n"
   ]
  },
  {
   "cell_type": "markdown",
   "metadata": {},
   "source": [
    "It is very easy to distinguish a `NEGATIVE` from a `POSITIVE` review. `NEGATIVE` reviews occasionaly contain words like **worst**, **disgusting**, **inedible**, **fake**, **desceptive**, **refund**, **spoilt** e.t.c. This way we can let our network learn some of the words assocaiated with `NEGATIVE reviews` and based on such criteria we can classify a a new review as either `POSITIVE` OR `NEGATIVE`."
   ]
  },
  {
   "cell_type": "markdown",
   "metadata": {},
   "source": [
    "#### Theory Validation"
   ]
  },
  {
   "cell_type": "code",
   "execution_count": 24,
   "metadata": {
    "collapsed": true
   },
   "outputs": [],
   "source": [
    "positive_counts = Counter()\n",
    "negative_counts = Counter()\n",
    "total_counts = Counter()\n",
    "positive_negative_ratios = Counter()"
   ]
  },
  {
   "cell_type": "code",
   "execution_count": 25,
   "metadata": {
    "collapsed": true
   },
   "outputs": [],
   "source": [
    "for i in range(training_data_length):\n",
    "    if(training_data.Label[i] == \"NEGATIVE\"):\n",
    "        for word in training_data.Text[i].split(\" \"):\n",
    "            negative_counts[word] += 1\n",
    "            total_counts[word] += 1\n",
    "    if(training_data.Label[i] == \"POSITIVE\"):\n",
    "        for word in training_data.Text[i].split(\" \"):\n",
    "            positive_counts[word] += 1\n",
    "            total_counts[word] += 1"
   ]
  },
  {
   "cell_type": "code",
   "execution_count": 26,
   "metadata": {
    "collapsed": false
   },
   "outputs": [
    {
     "name": "stdout",
     "output_type": "stream",
     "text": [
      "[('the', 96560),\n",
      " ('I', 82725),\n",
      " ('and', 75810),\n",
      " ('a', 72108),\n",
      " ('to', 60274),\n",
      " ('', 59473),\n",
      " ('of', 47635),\n",
      " ('is', 44519),\n",
      " ('it', 38521),\n",
      " ('for', 32756)]\n"
     ]
    }
   ],
   "source": [
    "# print first 10 words\n",
    "pp.pprint(positive_counts.most_common()[0:10])"
   ]
  },
  {
   "cell_type": "markdown",
   "metadata": {},
   "source": [
    "The overall count or frequency of words doesn't really tell us anything about the affinity of some words toward certain sentiments. One way to get the words with sentimental values is to use the:\n",
    "\n",
    "$$ {positive negative ratio}= \\frac{frequency of word in positive reviews}{frequency of word in negative reviews}$$"
   ]
  },
  {
   "cell_type": "code",
   "execution_count": 13,
   "metadata": {
    "collapsed": true
   },
   "outputs": [],
   "source": [
    "for word,count in list(total_counts.most_common()):\n",
    "    if(count > 100):\n",
    "        positive_negative_ratio = float(positive_counts[word]) / float(negative_counts[word]+1)\n",
    "        positive_negative_ratios[word] = positive_negative_ratio\n",
    "\n",
    "for word,ratio in positive_negative_ratios.most_common():\n",
    "    if(ratio > 1):\n",
    "        positive_negative_ratios[word] = np.log(ratio)\n",
    "    else:\n",
    "        positive_negative_ratios[word] = -np.log((1/(ratio+0.001)))"
   ]
  },
  {
   "cell_type": "code",
   "execution_count": 14,
   "metadata": {
    "collapsed": false
   },
   "outputs": [
    {
     "name": "stdout",
     "output_type": "stream",
     "text": [
      "[('/>Highly', 4.6347289882296359),\n",
      " ('delicious!', 2.8371272433773522),\n",
      " ('Highly', 2.7273080177066245),\n",
      " ('Perfect', 2.7146947438208788),\n",
      " ('Excellent', 2.544498746990246),\n",
      " ('downside', 2.4541349911212467),\n",
      " ('amazing!', 2.2617630984737906),\n",
      " ('pleasantly', 2.2407096892759584),\n",
      " ('Great', 2.0373300563297092),\n",
      " ('beats', 2.0188169198634012)]\n"
     ]
    }
   ],
   "source": [
    "# words most frequently seen in a review with a \"POSITIVE\" label\n",
    "pp.pprint(positive_negative_ratios.most_common()[0:10])"
   ]
  },
  {
   "cell_type": "code",
   "execution_count": 15,
   "metadata": {
    "collapsed": false
   },
   "outputs": [
    {
     "name": "stdout",
     "output_type": "stream",
     "text": [
      "[('NO<br', -6.9077552789821368),\n",
      " ('desk,', -4.299259050687561),\n",
      " ('deliberately', -3.9595188268977228),\n",
      " ('menadione', -3.5209466347720815),\n",
      " ('intentionally', -3.4833958767229474),\n",
      " ('garbage.', -3.4342372357403557),\n",
      " ('refund.', -3.25557390095137),\n",
      " ('nasty.', -3.2448429835246579),\n",
      " ('ripping', -3.2038896704313373),\n",
      " ('banned', -3.0692809615768031)]\n"
     ]
    }
   ],
   "source": [
    "# words most frequently seen in a text with a \"NEGATIVE\" label\n",
    "pp.pprint(list(reversed(positive_negative_ratios.most_common()))[0:10])"
   ]
  }
 ],
 "metadata": {
  "anaconda-cloud": {},
  "kernelspec": {
   "display_name": "Python [conda root]",
   "language": "python",
   "name": "conda-root-py"
  },
  "language_info": {
   "codemirror_mode": {
    "name": "ipython",
    "version": 3
   },
   "file_extension": ".py",
   "mimetype": "text/x-python",
   "name": "python",
   "nbconvert_exporter": "python",
   "pygments_lexer": "ipython3",
   "version": "3.5.2"
  }
 },
 "nbformat": 4,
 "nbformat_minor": 1
}
